{
 "cells": [
  {
   "cell_type": "markdown",
   "metadata": {},
   "source": [
    "# SQLAlchemy Tutorial"
   ]
  },
  {
   "cell_type": "markdown",
   "metadata": {},
   "source": [
    "## Installation"
   ]
  },
  {
   "cell_type": "code",
   "execution_count": 1,
   "metadata": {},
   "outputs": [
    {
     "name": "stdout",
     "output_type": "stream",
     "text": [
      "Collecting sqlalchmey\n",
      "\u001b[31m  Could not find a version that satisfies the requirement sqlalchmey (from versions: )\u001b[0m\n",
      "\u001b[31mNo matching distribution found for sqlalchmey\u001b[0m\n"
     ]
    }
   ],
   "source": [
    "!pip install sqlalchmey"
   ]
  },
  {
   "cell_type": "code",
   "execution_count": 2,
   "metadata": {},
   "outputs": [
    {
     "data": {
      "text/plain": [
       "'1.3.5'"
      ]
     },
     "execution_count": 2,
     "metadata": {},
     "output_type": "execute_result"
    }
   ],
   "source": [
    "import sqlalchemy\n",
    "sqlalchemy.__version__"
   ]
  },
  {
   "cell_type": "code",
   "execution_count": 3,
   "metadata": {},
   "outputs": [
    {
     "name": "stdout",
     "output_type": "stream",
     "text": [
      "rm: marathon_men.db: No such file or directory\n",
      "LICENSE                       marathon_woman.db\n",
      "README.md                     marathon_women.db\n",
      "\u001b[31mSQLAlchemy Core.ipynb\u001b[m\u001b[m         sqlalchemy-hana-connection.py\n",
      "SQLAlchemy ORM.ipynb          sqlalchemy-hana-select.py\n",
      "SQLAlchemy-hana.ipynb         \u001b[1m\u001b[36mvenv\u001b[m\u001b[m\n",
      "marathon1.db\n"
     ]
    }
   ],
   "source": [
    "!rm marathon_men.db\n",
    "!ls"
   ]
  },
  {
   "cell_type": "markdown",
   "metadata": {},
   "source": [
    "## Connecting to a Database"
   ]
  },
  {
   "cell_type": "code",
   "execution_count": 4,
   "metadata": {},
   "outputs": [],
   "source": [
    "from sqlalchemy import create_engine"
   ]
  },
  {
   "cell_type": "code",
   "execution_count": 5,
   "metadata": {},
   "outputs": [],
   "source": [
    "engine = create_engine('sqlite:///marathon_men.db', echo=True)"
   ]
  },
  {
   "cell_type": "code",
   "execution_count": 6,
   "metadata": {},
   "outputs": [
    {
     "data": {
      "text/plain": [
       "Engine(sqlite:///marathon_men.db)"
      ]
     },
     "execution_count": 6,
     "metadata": {},
     "output_type": "execute_result"
    }
   ],
   "source": [
    "engine"
   ]
  },
  {
   "cell_type": "markdown",
   "metadata": {},
   "source": [
    "# SQLAlchemy Core"
   ]
  },
  {
   "cell_type": "markdown",
   "metadata": {},
   "source": [
    "## Data Define"
   ]
  },
  {
   "cell_type": "markdown",
   "metadata": {},
   "source": [
    "### Metadata"
   ]
  },
  {
   "cell_type": "code",
   "execution_count": 7,
   "metadata": {},
   "outputs": [],
   "source": [
    "from sqlalchemy import MetaData\n",
    "metadata = MetaData()"
   ]
  },
  {
   "cell_type": "markdown",
   "metadata": {},
   "source": [
    "records table\n",
    "\n",
    "| name          | SQL type    |\n",
    "| ------------- | ----------- |\n",
    "| id            | INTEGER     |\n",
    "| participant_id| INTEGER     |\n",
    "| marathon_id   | INTEGER     |\n",
    "| record        | DATETIME    |\n",
    "\n",
    "* id attribute : the primary key\n",
    "\n",
    "participants table\n",
    "\n",
    "| name          | SQL type    |\n",
    "| ------------- | ----------- |\n",
    "| participant_id| INTEGER     |\n",
    "| athlete       | VARCHAR(32) |\n",
    "| nationality   | VARCHAR(32) |\n",
    "| sex           | BOOLEAN     |\n",
    "\n",
    "marathons table\n",
    "\n",
    "| name          | SQL type    |\n",
    "| ------------- | ----------- |\n",
    "| marathon_id   | INTEGER     |\n",
    "| marathon_name | VARCHAR(32) |\n",
    "| venue         | VARCHAR(64) |\n",
    "| date          | TIME        |\n"
   ]
  },
  {
   "cell_type": "code",
   "execution_count": 8,
   "metadata": {},
   "outputs": [],
   "source": [
    "from sqlalchemy import Table, Column, Integer, String, Float, Time, Boolean, DATE\n",
    "from sqlalchemy import ForeignKey, ForeignKeyConstraint\n",
    "\n",
    "import datetime\n",
    "\n",
    "records = Table(\"records\",\n",
    "                metadata,\n",
    "                Column(\"id\", Integer(), primary_key=True),\n",
    "                Column(\"participant_id\", ForeignKey(\"participants.participant_id\")),\n",
    "                Column(\"marathon_id\"),\n",
    "                Column(\"time\", Time(), nullable=True, default=datetime.time(0, 0, 0)),\n",
    "                ForeignKeyConstraint([\"marathon_id\"], [\"marathons.marathon_id\"])\n",
    "               )"
   ]
  },
  {
   "cell_type": "markdown",
   "metadata": {},
   "source": [
    "### Keys and Constraints"
   ]
  },
  {
   "cell_type": "code",
   "execution_count": 9,
   "metadata": {},
   "outputs": [],
   "source": [
    "from sqlalchemy import PrimaryKeyConstraint\n",
    "\n",
    "participants = Table(\"participants\",\n",
    "                     metadata,\n",
    "                     Column(\"participant_id\", Integer()),\n",
    "                     Column(\"athlete\", String(32), nullable=False),\n",
    "                     Column(\"nationality\", String(32), nullable=False),\n",
    "                     Column(\"sex\", Boolean(), nullable=False),\n",
    "                     PrimaryKeyConstraint(\"participant_id\")\n",
    "                    )"
   ]
  },
  {
   "cell_type": "markdown",
   "metadata": {},
   "source": [
    "### Indexs"
   ]
  },
  {
   "cell_type": "code",
   "execution_count": 10,
   "metadata": {},
   "outputs": [],
   "source": [
    "from sqlalchemy import UniqueConstraint\n",
    "from sqlalchemy import Index\n",
    "\n",
    "marathons = Table(\"marathons\",\n",
    "                  metadata,\n",
    "                  Column(\"marathon_id\", Integer(), primary_key=True),\n",
    "                  Column(\"marathon_name\", String(32), nullable=False),\n",
    "                  Column(\"venue\", String(64), nullable=False),\n",
    "                  Column(\"date\", DATE(), nullable=False),\n",
    "                  UniqueConstraint(\"marathon_name\")\n",
    "                 )"
   ]
  },
  {
   "cell_type": "markdown",
   "metadata": {},
   "source": [
    "### Persisting the table"
   ]
  },
  {
   "cell_type": "code",
   "execution_count": 11,
   "metadata": {},
   "outputs": [
    {
     "name": "stdout",
     "output_type": "stream",
     "text": [
      "2020-06-12 00:34:42,804 INFO sqlalchemy.engine.base.Engine SELECT CAST('test plain returns' AS VARCHAR(60)) AS anon_1\n",
      "2020-06-12 00:34:42,805 INFO sqlalchemy.engine.base.Engine ()\n",
      "2020-06-12 00:34:42,808 INFO sqlalchemy.engine.base.Engine SELECT CAST('test unicode returns' AS VARCHAR(60)) AS anon_1\n",
      "2020-06-12 00:34:42,809 INFO sqlalchemy.engine.base.Engine ()\n",
      "2020-06-12 00:34:42,812 INFO sqlalchemy.engine.base.Engine PRAGMA table_info(\"marathons\")\n",
      "2020-06-12 00:34:42,813 INFO sqlalchemy.engine.base.Engine ()\n",
      "2020-06-12 00:34:42,815 INFO sqlalchemy.engine.base.Engine PRAGMA table_info(\"records\")\n",
      "2020-06-12 00:34:42,817 INFO sqlalchemy.engine.base.Engine ()\n",
      "2020-06-12 00:34:42,818 INFO sqlalchemy.engine.base.Engine PRAGMA table_info(\"participants\")\n",
      "2020-06-12 00:34:42,820 INFO sqlalchemy.engine.base.Engine ()\n",
      "2020-06-12 00:34:42,822 INFO sqlalchemy.engine.base.Engine \n",
      "CREATE TABLE marathons (\n",
      "\tmarathon_id INTEGER NOT NULL, \n",
      "\tmarathon_name VARCHAR(32) NOT NULL, \n",
      "\tvenue VARCHAR(64) NOT NULL, \n",
      "\tdate DATE NOT NULL, \n",
      "\tPRIMARY KEY (marathon_id), \n",
      "\tUNIQUE (marathon_name)\n",
      ")\n",
      "\n",
      "\n",
      "2020-06-12 00:34:42,823 INFO sqlalchemy.engine.base.Engine ()\n",
      "2020-06-12 00:34:42,825 INFO sqlalchemy.engine.base.Engine COMMIT\n",
      "2020-06-12 00:34:42,828 INFO sqlalchemy.engine.base.Engine \n",
      "CREATE TABLE participants (\n",
      "\tparticipant_id INTEGER NOT NULL, \n",
      "\tathlete VARCHAR(32) NOT NULL, \n",
      "\tnationality VARCHAR(32) NOT NULL, \n",
      "\tsex BOOLEAN NOT NULL, \n",
      "\tPRIMARY KEY (participant_id), \n",
      "\tCHECK (sex IN (0, 1))\n",
      ")\n",
      "\n",
      "\n",
      "2020-06-12 00:34:42,830 INFO sqlalchemy.engine.base.Engine ()\n",
      "2020-06-12 00:34:42,833 INFO sqlalchemy.engine.base.Engine COMMIT\n",
      "2020-06-12 00:34:42,835 INFO sqlalchemy.engine.base.Engine \n",
      "CREATE TABLE records (\n",
      "\tid INTEGER NOT NULL, \n",
      "\tparticipant_id INTEGER, \n",
      "\tmarathon_id INTEGER, \n",
      "\ttime TIME, \n",
      "\tPRIMARY KEY (id), \n",
      "\tFOREIGN KEY(marathon_id) REFERENCES marathons (marathon_id), \n",
      "\tFOREIGN KEY(participant_id) REFERENCES participants (participant_id)\n",
      ")\n",
      "\n",
      "\n",
      "2020-06-12 00:34:42,837 INFO sqlalchemy.engine.base.Engine ()\n",
      "2020-06-12 00:34:42,839 INFO sqlalchemy.engine.base.Engine COMMIT\n"
     ]
    }
   ],
   "source": [
    "metadata.create_all(engine)"
   ]
  },
  {
   "cell_type": "markdown",
   "metadata": {},
   "source": [
    "## Data Manipulation"
   ]
  },
  {
   "cell_type": "markdown",
   "metadata": {},
   "source": [
    "### Inserting Data"
   ]
  },
  {
   "cell_type": "markdown",
   "metadata": {},
   "source": [
    "#### insert() method"
   ]
  },
  {
   "cell_type": "code",
   "execution_count": 12,
   "metadata": {},
   "outputs": [],
   "source": [
    "connection = engine.connect()"
   ]
  },
  {
   "cell_type": "code",
   "execution_count": 13,
   "metadata": {},
   "outputs": [],
   "source": [
    "import datetime\n",
    "\n",
    "insert = marathons.insert().values(\n",
    "    marathon_name=\"2019 Boston Marathon\",\n",
    "    venue=\"Boston, Massachusetts, United States\",\n",
    "    date=datetime.datetime(2019, 4, 15)\n",
    ")"
   ]
  },
  {
   "cell_type": "code",
   "execution_count": 14,
   "metadata": {},
   "outputs": [
    {
     "name": "stdout",
     "output_type": "stream",
     "text": [
      "2020-06-12 00:34:42,871 INFO sqlalchemy.engine.base.Engine INSERT INTO marathons (marathon_name, venue, date) VALUES (?, ?, ?)\n",
      "2020-06-12 00:34:42,872 INFO sqlalchemy.engine.base.Engine ('2019 Boston Marathon', 'Boston, Massachusetts, United States', '2019-04-15')\n",
      "2020-06-12 00:34:42,874 INFO sqlalchemy.engine.base.Engine COMMIT\n"
     ]
    }
   ],
   "source": [
    "result = connection.execute(insert)"
   ]
  },
  {
   "cell_type": "code",
   "execution_count": 15,
   "metadata": {},
   "outputs": [
    {
     "data": {
      "text/plain": [
       "[1]"
      ]
     },
     "execution_count": 15,
     "metadata": {},
     "output_type": "execute_result"
    }
   ],
   "source": [
    "result.inserted_primary_key"
   ]
  },
  {
   "cell_type": "markdown",
   "metadata": {},
   "source": [
    "#### Bulk insert"
   ]
  },
  {
   "cell_type": "code",
   "execution_count": 16,
   "metadata": {},
   "outputs": [
    {
     "name": "stdout",
     "output_type": "stream",
     "text": [
      "2020-06-12 00:34:42,904 INFO sqlalchemy.engine.base.Engine INSERT INTO participants (athlete, nationality, sex) VALUES (?, ?, ?)\n",
      "2020-06-12 00:34:42,906 INFO sqlalchemy.engine.base.Engine (('Lawrence Cherono', 'Kenya', 1), ('Lelisa Desisa', 'Ethiopia', 1), ('Kenneth Kipkemoi', 'Kenya', 1), ('Felix Kandie', 'Kenya', 1), ('Geoffrey Kirui', 'Kenya', 1), ('Philemon Rono', 'Kenya', 1), ('Scott Fauble', 'United States', 1), ('Jared Ward', 'United States', 1), ('Festus Talam', 'Kenya', 1), ('Benson Kipruto', 'Kenya', 1))\n",
      "2020-06-12 00:34:42,907 INFO sqlalchemy.engine.base.Engine COMMIT\n"
     ]
    },
    {
     "data": {
      "text/plain": [
       "<sqlalchemy.engine.result.ResultProxy at 0x104f3bd10>"
      ]
     },
     "execution_count": 16,
     "metadata": {},
     "output_type": "execute_result"
    }
   ],
   "source": [
    "connection.execute(\n",
    "    participants.insert(),[\n",
    "        {\"athlete\":\"Lawrence Cherono\", \"nationality\":\"Kenya\", \"sex\":True},\n",
    "        {\"athlete\":\"Lelisa Desisa\", \"nationality\":\"Ethiopia\", \"sex\":True},\n",
    "        {\"athlete\":\"Kenneth Kipkemoi\", \"nationality\":\"Kenya\", \"sex\":True},\n",
    "        {\"athlete\":\"Felix Kandie\", \"nationality\":\"Kenya\", \"sex\":True},\n",
    "        {\"athlete\":\"Geoffrey Kirui\", \"nationality\":\"Kenya\", \"sex\":True},\n",
    "        {\"athlete\":\"Philemon Rono\", \"nationality\":\"Kenya\", \"sex\":True},\n",
    "        {\"athlete\":\"Scott Fauble\", \"nationality\":\"United States\", \"sex\":True},\n",
    "        {\"athlete\":\"Jared Ward\", \"nationality\":\"United States\", \"sex\":True},\n",
    "        {\"athlete\":\"Festus Talam\", \"nationality\":\"Kenya\", \"sex\":True},\n",
    "        {\"athlete\":\"Benson Kipruto\", \"nationality\":\"Kenya\", \"sex\":True},    \n",
    "    ]\n",
    ")"
   ]
  },
  {
   "cell_type": "markdown",
   "metadata": {},
   "source": [
    "### Querying Data"
   ]
  },
  {
   "cell_type": "markdown",
   "metadata": {},
   "source": [
    "#### select() method"
   ]
  },
  {
   "cell_type": "code",
   "execution_count": 17,
   "metadata": {},
   "outputs": [],
   "source": [
    "select=marathons.select()"
   ]
  },
  {
   "cell_type": "code",
   "execution_count": 18,
   "metadata": {},
   "outputs": [
    {
     "name": "stdout",
     "output_type": "stream",
     "text": [
      "SELECT marathons.marathon_id, marathons.marathon_name, marathons.venue, marathons.date \n",
      "FROM marathons\n"
     ]
    }
   ],
   "source": [
    "print(select)"
   ]
  },
  {
   "cell_type": "code",
   "execution_count": 19,
   "metadata": {},
   "outputs": [
    {
     "name": "stdout",
     "output_type": "stream",
     "text": [
      "2020-06-12 00:34:42,942 INFO sqlalchemy.engine.base.Engine SELECT marathons.marathon_id, marathons.marathon_name, marathons.venue, marathons.date \n",
      "FROM marathons\n",
      "2020-06-12 00:34:42,943 INFO sqlalchemy.engine.base.Engine ()\n"
     ]
    }
   ],
   "source": [
    "rp = connection.execute(select)"
   ]
  },
  {
   "cell_type": "markdown",
   "metadata": {},
   "source": [
    "#### ResultProxy object"
   ]
  },
  {
   "cell_type": "code",
   "execution_count": 20,
   "metadata": {},
   "outputs": [
    {
     "data": {
      "text/plain": [
       "<sqlalchemy.engine.result.ResultProxy at 0x104f5ce50>"
      ]
     },
     "execution_count": 20,
     "metadata": {},
     "output_type": "execute_result"
    }
   ],
   "source": [
    "rp"
   ]
  },
  {
   "cell_type": "code",
   "execution_count": 21,
   "metadata": {},
   "outputs": [],
   "source": [
    "results = rp.fetchall()"
   ]
  },
  {
   "cell_type": "code",
   "execution_count": 22,
   "metadata": {},
   "outputs": [],
   "source": [
    "first_row = results[0]"
   ]
  },
  {
   "cell_type": "code",
   "execution_count": 23,
   "metadata": {},
   "outputs": [
    {
     "data": {
      "text/plain": [
       "(1, u'2019 Boston Marathon', u'Boston, Massachusetts, United States', datetime.date(2019, 4, 15))"
      ]
     },
     "execution_count": 23,
     "metadata": {},
     "output_type": "execute_result"
    }
   ],
   "source": [
    "first_row"
   ]
  },
  {
   "cell_type": "code",
   "execution_count": 24,
   "metadata": {},
   "outputs": [
    {
     "data": {
      "text/plain": [
       "1"
      ]
     },
     "execution_count": 24,
     "metadata": {},
     "output_type": "execute_result"
    }
   ],
   "source": [
    "first_row.marathon_id"
   ]
  },
  {
   "cell_type": "code",
   "execution_count": 25,
   "metadata": {},
   "outputs": [
    {
     "data": {
      "text/plain": [
       "u'2019 Boston Marathon'"
      ]
     },
     "execution_count": 25,
     "metadata": {},
     "output_type": "execute_result"
    }
   ],
   "source": [
    "first_row.marathon_name"
   ]
  },
  {
   "cell_type": "code",
   "execution_count": 26,
   "metadata": {},
   "outputs": [
    {
     "name": "stdout",
     "output_type": "stream",
     "text": [
      "2020-06-12 00:34:43,019 INFO sqlalchemy.engine.base.Engine SELECT participants.participant_id, participants.athlete, participants.nationality, participants.sex \n",
      "FROM participants\n",
      "2020-06-12 00:34:43,021 INFO sqlalchemy.engine.base.Engine ()\n",
      "(1, u'Lawrence Cherono', u'Kenya', True)\n",
      "(2, u'Lelisa Desisa', u'Ethiopia', True)\n",
      "(3, u'Kenneth Kipkemoi', u'Kenya', True)\n",
      "(4, u'Felix Kandie', u'Kenya', True)\n",
      "(5, u'Geoffrey Kirui', u'Kenya', True)\n",
      "(6, u'Philemon Rono', u'Kenya', True)\n",
      "(7, u'Scott Fauble', u'United States', True)\n",
      "(8, u'Jared Ward', u'United States', True)\n",
      "(9, u'Festus Talam', u'Kenya', True)\n",
      "(10, u'Benson Kipruto', u'Kenya', True)\n"
     ]
    }
   ],
   "source": [
    "select = participants.select()\n",
    "rp = connection.execute(select)\n",
    "for participant in rp:\n",
    "    print(participant)"
   ]
  },
  {
   "cell_type": "code",
   "execution_count": 27,
   "metadata": {},
   "outputs": [
    {
     "name": "stdout",
     "output_type": "stream",
     "text": [
      "2020-06-12 00:34:43,033 INFO sqlalchemy.engine.base.Engine SELECT participants.participant_id, participants.athlete, participants.nationality, participants.sex \n",
      "FROM participants\n",
      "2020-06-12 00:34:43,035 INFO sqlalchemy.engine.base.Engine ()\n",
      "(1, u'Lawrence Cherono', u'Kenya', True)\n",
      "(2, u'Lelisa Desisa', u'Ethiopia', True)\n",
      "(3, u'Kenneth Kipkemoi', u'Kenya', True)\n",
      "(4, u'Felix Kandie', u'Kenya', True)\n",
      "(5, u'Geoffrey Kirui', u'Kenya', True)\n",
      "(6, u'Philemon Rono', u'Kenya', True)\n",
      "(7, u'Scott Fauble', u'United States', True)\n",
      "(8, u'Jared Ward', u'United States', True)\n",
      "(9, u'Festus Talam', u'Kenya', True)\n",
      "(10, u'Benson Kipruto', u'Kenya', True)\n"
     ]
    }
   ],
   "source": [
    "from sqlalchemy.sql import select\n",
    "\n",
    "s = select([participants])\n",
    "rp = connection.execute(s)\n",
    "\n",
    "for participant in rp:\n",
    "    print(participant)"
   ]
  },
  {
   "cell_type": "markdown",
   "metadata": {},
   "source": [
    "#### Controlling the Columns in the Query"
   ]
  },
  {
   "cell_type": "code",
   "execution_count": 28,
   "metadata": {},
   "outputs": [
    {
     "name": "stdout",
     "output_type": "stream",
     "text": [
      "2020-06-12 00:34:43,048 INFO sqlalchemy.engine.base.Engine SELECT participants.athlete, participants.nationality \n",
      "FROM participants\n",
      "2020-06-12 00:34:43,049 INFO sqlalchemy.engine.base.Engine ()\n",
      "(u'Lawrence Cherono', u'Kenya')\n",
      "(u'Lelisa Desisa', u'Ethiopia')\n",
      "(u'Kenneth Kipkemoi', u'Kenya')\n",
      "(u'Felix Kandie', u'Kenya')\n",
      "(u'Geoffrey Kirui', u'Kenya')\n",
      "(u'Philemon Rono', u'Kenya')\n",
      "(u'Scott Fauble', u'United States')\n",
      "(u'Jared Ward', u'United States')\n",
      "(u'Festus Talam', u'Kenya')\n",
      "(u'Benson Kipruto', u'Kenya')\n"
     ]
    }
   ],
   "source": [
    "s = select([participants.c.athlete, participants.c.nationality])\n",
    "rp = connection.execute(s)\n",
    "\n",
    "for participant in rp:\n",
    "    print(participant)"
   ]
  },
  {
   "cell_type": "markdown",
   "metadata": {},
   "source": [
    "#### Ordering"
   ]
  },
  {
   "cell_type": "code",
   "execution_count": 29,
   "metadata": {},
   "outputs": [
    {
     "name": "stdout",
     "output_type": "stream",
     "text": [
      "2020-06-12 00:34:43,062 INFO sqlalchemy.engine.base.Engine SELECT participants.athlete, participants.nationality \n",
      "FROM participants ORDER BY participants.athlete\n",
      "2020-06-12 00:34:43,064 INFO sqlalchemy.engine.base.Engine ()\n",
      "(u'Benson Kipruto', u'Kenya')\n",
      "(u'Felix Kandie', u'Kenya')\n",
      "(u'Festus Talam', u'Kenya')\n",
      "(u'Geoffrey Kirui', u'Kenya')\n",
      "(u'Jared Ward', u'United States')\n",
      "(u'Kenneth Kipkemoi', u'Kenya')\n",
      "(u'Lawrence Cherono', u'Kenya')\n",
      "(u'Lelisa Desisa', u'Ethiopia')\n",
      "(u'Philemon Rono', u'Kenya')\n",
      "(u'Scott Fauble', u'United States')\n"
     ]
    }
   ],
   "source": [
    "s = select([participants.c.athlete, participants.c.nationality])\n",
    "s = s.order_by(participants.c.athlete)\n",
    "rp = connection.execute(s)\n",
    "\n",
    "for participant in rp:\n",
    "    print(participant)"
   ]
  },
  {
   "cell_type": "markdown",
   "metadata": {},
   "source": [
    "#### Limiting"
   ]
  },
  {
   "cell_type": "code",
   "execution_count": 30,
   "metadata": {},
   "outputs": [
    {
     "name": "stdout",
     "output_type": "stream",
     "text": [
      "2020-06-12 00:34:43,078 INFO sqlalchemy.engine.base.Engine SELECT participants.athlete, participants.nationality \n",
      "FROM participants ORDER BY participants.athlete\n",
      " LIMIT ? OFFSET ?\n",
      "2020-06-12 00:34:43,080 INFO sqlalchemy.engine.base.Engine (5, 0)\n",
      "(u'Benson Kipruto', u'Kenya')\n",
      "(u'Felix Kandie', u'Kenya')\n",
      "(u'Festus Talam', u'Kenya')\n",
      "(u'Geoffrey Kirui', u'Kenya')\n",
      "(u'Jared Ward', u'United States')\n"
     ]
    }
   ],
   "source": [
    "s = select([participants.c.athlete, participants.c.nationality])\n",
    "s = s.order_by(participants.c.athlete)\n",
    "s = s.limit(5)\n",
    "rp = connection.execute(s)\n",
    "\n",
    "for participant in rp:\n",
    "    print(participant)"
   ]
  },
  {
   "cell_type": "markdown",
   "metadata": {},
   "source": [
    "#### Built-in SQL Functions and Labels"
   ]
  },
  {
   "cell_type": "markdown",
   "metadata": {},
   "source": [
    "#### Filiteringg"
   ]
  },
  {
   "cell_type": "code",
   "execution_count": 31,
   "metadata": {},
   "outputs": [
    {
     "name": "stdout",
     "output_type": "stream",
     "text": [
      "2020-06-12 00:34:43,092 INFO sqlalchemy.engine.base.Engine SELECT participants.participant_id, participants.athlete, participants.nationality, participants.sex \n",
      "FROM participants \n",
      "WHERE participants.athlete = ?\n",
      "2020-06-12 00:34:43,094 INFO sqlalchemy.engine.base.Engine ('Benson Kipruto',)\n",
      "[('participant_id', 10), ('athlete', u'Benson Kipruto'), ('nationality', u'Kenya'), ('sex', True)]\n"
     ]
    }
   ],
   "source": [
    "s = select([participants]).where(participants.c.athlete == \"Benson Kipruto\")\n",
    "rp = connection.execute(s)\n",
    "\n",
    "participant = rp.first()\n",
    "print(participant.items())"
   ]
  },
  {
   "cell_type": "code",
   "execution_count": 32,
   "metadata": {},
   "outputs": [
    {
     "name": "stdout",
     "output_type": "stream",
     "text": [
      "2020-06-12 00:34:43,106 INFO sqlalchemy.engine.base.Engine SELECT participants.participant_id, participants.athlete, participants.nationality, participants.sex \n",
      "FROM participants \n",
      "WHERE participants.nationality LIKE ?\n",
      "2020-06-12 00:34:43,107 INFO sqlalchemy.engine.base.Engine ('Ken%',)\n",
      "Lawrence Cherono\n",
      "Kenneth Kipkemoi\n",
      "Felix Kandie\n",
      "Geoffrey Kirui\n",
      "Philemon Rono\n",
      "Festus Talam\n",
      "Benson Kipruto\n"
     ]
    }
   ],
   "source": [
    "s = select([participants]).where(participants.c.nationality.like(\"Ken%\"))\n",
    "rp = connection.execute(s)\n",
    "\n",
    "for participant in rp.fetchall():\n",
    "    print(participant.athlete)"
   ]
  },
  {
   "cell_type": "markdown",
   "metadata": {},
   "source": [
    "##### ClauseElements\n",
    "* between\n",
    "* concat\n",
    "* distinct\n",
    "* in_\n",
    "* is_\n",
    "* contains\n",
    "* endswith\n",
    "* like\n",
    "* startswith\n",
    "* like"
   ]
  },
  {
   "cell_type": "markdown",
   "metadata": {},
   "source": [
    "#### Operators"
   ]
  },
  {
   "cell_type": "code",
   "execution_count": 33,
   "metadata": {},
   "outputs": [
    {
     "name": "stdout",
     "output_type": "stream",
     "text": [
      "2020-06-12 00:34:43,120 INFO sqlalchemy.engine.base.Engine SELECT participants.athlete, ? || participants.nationality AS anon_1 \n",
      "FROM participants\n",
      "2020-06-12 00:34:43,122 INFO sqlalchemy.engine.base.Engine ('Nationality: ',)\n",
      "(u'Lawrence Cherono', u'Nationality: Kenya')\n",
      "(u'Lelisa Desisa', u'Nationality: Ethiopia')\n",
      "(u'Kenneth Kipkemoi', u'Nationality: Kenya')\n",
      "(u'Felix Kandie', u'Nationality: Kenya')\n",
      "(u'Geoffrey Kirui', u'Nationality: Kenya')\n",
      "(u'Philemon Rono', u'Nationality: Kenya')\n",
      "(u'Scott Fauble', u'Nationality: United States')\n",
      "(u'Jared Ward', u'Nationality: United States')\n",
      "(u'Festus Talam', u'Nationality: Kenya')\n",
      "(u'Benson Kipruto', u'Nationality: Kenya')\n"
     ]
    }
   ],
   "source": [
    "s = select([participants.c.athlete, \"Nationality : \" + participants.c.nationality])\n",
    "rp = connection.execute(s)\n",
    "\n",
    "for participant in rp:\n",
    "    print(participant)"
   ]
  },
  {
   "cell_type": "markdown",
   "metadata": {},
   "source": [
    "#### Conjunctions\n",
    "\n",
    "* and_()\n",
    "* or_()\n",
    "* not_()"
   ]
  },
  {
   "cell_type": "code",
   "execution_count": 34,
   "metadata": {},
   "outputs": [
    {
     "name": "stdout",
     "output_type": "stream",
     "text": [
      "2020-06-12 00:34:43,136 INFO sqlalchemy.engine.base.Engine SELECT participants.participant_id, participants.athlete, participants.nationality, participants.sex \n",
      "FROM participants \n",
      "WHERE participants.nationality = ? AND participants.athlete = ?\n",
      "2020-06-12 00:34:43,138 INFO sqlalchemy.engine.base.Engine ('Kenya', 'Lawrence Cherono')\n",
      "(1, u'Lawrence Cherono', u'Kenya', True)\n"
     ]
    }
   ],
   "source": [
    "from sqlalchemy import and_, or_, not_\n",
    "\n",
    "s = select([participants]).where(\n",
    "    and_(\n",
    "        participants.c.nationality == \"Kenya\",\n",
    "        participants.c.athlete == \"Lawrence Cherono\"\n",
    "    )\n",
    ")\n",
    "rp = connection.execute(s)\n",
    "\n",
    "for participant in rp:\n",
    "    print(participant)"
   ]
  },
  {
   "cell_type": "code",
   "execution_count": 35,
   "metadata": {},
   "outputs": [
    {
     "name": "stdout",
     "output_type": "stream",
     "text": [
      "2020-06-12 00:34:43,152 INFO sqlalchemy.engine.base.Engine SELECT participants.participant_id, participants.athlete, participants.nationality, participants.sex \n",
      "FROM participants \n",
      "WHERE participants.nationality = ? OR participants.nationality = ?\n",
      "2020-06-12 00:34:43,153 INFO sqlalchemy.engine.base.Engine ('Kenya', 'Ethiopia')\n",
      "(1, u'Lawrence Cherono', u'Kenya', True)\n",
      "(2, u'Lelisa Desisa', u'Ethiopia', True)\n",
      "(3, u'Kenneth Kipkemoi', u'Kenya', True)\n",
      "(4, u'Felix Kandie', u'Kenya', True)\n",
      "(5, u'Geoffrey Kirui', u'Kenya', True)\n",
      "(6, u'Philemon Rono', u'Kenya', True)\n",
      "(9, u'Festus Talam', u'Kenya', True)\n",
      "(10, u'Benson Kipruto', u'Kenya', True)\n"
     ]
    }
   ],
   "source": [
    "s = select([participants]).where(\n",
    "    or_(\n",
    "        participants.c.nationality == \"Kenya\",\n",
    "        participants.c.nationality == \"Ethiopia\",\n",
    "    )\n",
    ")\n",
    "rp = connection.execute(s)\n",
    "\n",
    "for participant in rp:\n",
    "    print(participant)"
   ]
  },
  {
   "cell_type": "markdown",
   "metadata": {},
   "source": [
    "### Updating Data"
   ]
  },
  {
   "cell_type": "code",
   "execution_count": 36,
   "metadata": {},
   "outputs": [
    {
     "name": "stdout",
     "output_type": "stream",
     "text": [
      "2020-06-12 00:34:43,172 INFO sqlalchemy.engine.base.Engine SELECT marathons.marathon_id \n",
      "FROM marathons \n",
      "WHERE marathons.marathon_name LIKE ?\n",
      "2020-06-12 00:34:43,173 INFO sqlalchemy.engine.base.Engine ('2019%Boston%',)\n",
      "2020-06-12 00:34:43,176 INFO sqlalchemy.engine.base.Engine SELECT participants.participant_id, participants.athlete, participants.nationality, participants.sex \n",
      "FROM participants\n",
      "2020-06-12 00:34:43,178 INFO sqlalchemy.engine.base.Engine ()\n",
      "1\n",
      "2020-06-12 00:34:43,180 INFO sqlalchemy.engine.base.Engine INSERT INTO records (participant_id, marathon_id, time) VALUES (?, ?, ?)\n",
      "2020-06-12 00:34:43,182 INFO sqlalchemy.engine.base.Engine (1, 1, '00:00:00.000000')\n",
      "2020-06-12 00:34:43,184 INFO sqlalchemy.engine.base.Engine COMMIT\n",
      "2\n",
      "2020-06-12 00:34:43,186 INFO sqlalchemy.engine.base.Engine INSERT INTO records (participant_id, marathon_id, time) VALUES (?, ?, ?)\n",
      "2020-06-12 00:34:43,188 INFO sqlalchemy.engine.base.Engine (2, 1, '00:00:00.000000')\n",
      "2020-06-12 00:34:43,189 INFO sqlalchemy.engine.base.Engine COMMIT\n",
      "3\n",
      "2020-06-12 00:34:43,192 INFO sqlalchemy.engine.base.Engine INSERT INTO records (participant_id, marathon_id, time) VALUES (?, ?, ?)\n",
      "2020-06-12 00:34:43,193 INFO sqlalchemy.engine.base.Engine (3, 1, '00:00:00.000000')\n",
      "2020-06-12 00:34:43,195 INFO sqlalchemy.engine.base.Engine COMMIT\n",
      "4\n",
      "2020-06-12 00:34:43,197 INFO sqlalchemy.engine.base.Engine INSERT INTO records (participant_id, marathon_id, time) VALUES (?, ?, ?)\n",
      "2020-06-12 00:34:43,199 INFO sqlalchemy.engine.base.Engine (4, 1, '00:00:00.000000')\n",
      "2020-06-12 00:34:43,200 INFO sqlalchemy.engine.base.Engine COMMIT\n",
      "5\n",
      "2020-06-12 00:34:43,203 INFO sqlalchemy.engine.base.Engine INSERT INTO records (participant_id, marathon_id, time) VALUES (?, ?, ?)\n",
      "2020-06-12 00:34:43,204 INFO sqlalchemy.engine.base.Engine (5, 1, '00:00:00.000000')\n",
      "2020-06-12 00:34:43,206 INFO sqlalchemy.engine.base.Engine COMMIT\n",
      "6\n",
      "2020-06-12 00:34:43,208 INFO sqlalchemy.engine.base.Engine INSERT INTO records (participant_id, marathon_id, time) VALUES (?, ?, ?)\n",
      "2020-06-12 00:34:43,210 INFO sqlalchemy.engine.base.Engine (6, 1, '00:00:00.000000')\n",
      "2020-06-12 00:34:43,212 INFO sqlalchemy.engine.base.Engine COMMIT\n",
      "7\n",
      "2020-06-12 00:34:43,214 INFO sqlalchemy.engine.base.Engine INSERT INTO records (participant_id, marathon_id, time) VALUES (?, ?, ?)\n",
      "2020-06-12 00:34:43,216 INFO sqlalchemy.engine.base.Engine (7, 1, '00:00:00.000000')\n",
      "2020-06-12 00:34:43,218 INFO sqlalchemy.engine.base.Engine COMMIT\n",
      "8\n",
      "2020-06-12 00:34:43,221 INFO sqlalchemy.engine.base.Engine INSERT INTO records (participant_id, marathon_id, time) VALUES (?, ?, ?)\n",
      "2020-06-12 00:34:43,222 INFO sqlalchemy.engine.base.Engine (8, 1, '00:00:00.000000')\n",
      "2020-06-12 00:34:43,223 INFO sqlalchemy.engine.base.Engine COMMIT\n",
      "9\n",
      "2020-06-12 00:34:43,226 INFO sqlalchemy.engine.base.Engine INSERT INTO records (participant_id, marathon_id, time) VALUES (?, ?, ?)\n",
      "2020-06-12 00:34:43,227 INFO sqlalchemy.engine.base.Engine (9, 1, '00:00:00.000000')\n",
      "2020-06-12 00:34:43,229 INFO sqlalchemy.engine.base.Engine COMMIT\n",
      "10\n",
      "2020-06-12 00:34:43,232 INFO sqlalchemy.engine.base.Engine INSERT INTO records (participant_id, marathon_id, time) VALUES (?, ?, ?)\n",
      "2020-06-12 00:34:43,233 INFO sqlalchemy.engine.base.Engine (10, 1, '00:00:00.000000')\n",
      "2020-06-12 00:34:43,234 INFO sqlalchemy.engine.base.Engine COMMIT\n"
     ]
    }
   ],
   "source": [
    "import datetime\n",
    "\n",
    "s = select([marathons.c.marathon_id]).where(\n",
    "    marathons.c.marathon_name.like(\"2019%Boston%\")\n",
    ")\n",
    "rp = connection.execute(s)\n",
    "\n",
    "marathon_id = rp.fetchone()\n",
    "marathon_id = marathon_id[0]\n",
    "\n",
    "s = select([participants])\n",
    "rp = connection.execute(s)\n",
    "\n",
    "for participant in rp:\n",
    "    print(participant.participant_id)\n",
    "    i = records.insert().values(\n",
    "        participant_id = participant.participant_id,\n",
    "        marathon_id = 1,\n",
    "    )\n",
    "    connection.execute(i)"
   ]
  },
  {
   "cell_type": "code",
   "execution_count": 37,
   "metadata": {},
   "outputs": [
    {
     "name": "stdout",
     "output_type": "stream",
     "text": [
      "2020-06-12 00:34:43,247 INFO sqlalchemy.engine.base.Engine SELECT records.id, records.participant_id, records.marathon_id, records.time \n",
      "FROM records\n",
      "2020-06-12 00:34:43,248 INFO sqlalchemy.engine.base.Engine ()\n",
      "(1, 1, 1, datetime.time(0, 0))\n",
      "(2, 2, 1, datetime.time(0, 0))\n",
      "(3, 3, 1, datetime.time(0, 0))\n",
      "(4, 4, 1, datetime.time(0, 0))\n",
      "(5, 5, 1, datetime.time(0, 0))\n",
      "(6, 6, 1, datetime.time(0, 0))\n",
      "(7, 7, 1, datetime.time(0, 0))\n",
      "(8, 8, 1, datetime.time(0, 0))\n",
      "(9, 9, 1, datetime.time(0, 0))\n",
      "(10, 10, 1, datetime.time(0, 0))\n"
     ]
    }
   ],
   "source": [
    "s = select([records])\n",
    "rp = connection.execute(s)\n",
    "\n",
    "for record in rp:\n",
    "    print(record)"
   ]
  },
  {
   "cell_type": "code",
   "execution_count": 38,
   "metadata": {},
   "outputs": [
    {
     "name": "stdout",
     "output_type": "stream",
     "text": [
      "2020-06-12 00:34:43,261 INFO sqlalchemy.engine.base.Engine UPDATE records SET time=? WHERE records.participant_id = ?\n",
      "2020-06-12 00:34:43,263 INFO sqlalchemy.engine.base.Engine ('02:07:57.000000', 1)\n",
      "2020-06-12 00:34:43,265 INFO sqlalchemy.engine.base.Engine COMMIT\n",
      "1\n"
     ]
    }
   ],
   "source": [
    "from sqlalchemy import update\n",
    "\n",
    "u = update(records).where(records.c.participant_id == 1)\n",
    "u = u.values(time=datetime.time(2, 07, 57))\n",
    "result = connection.execute(u)\n",
    "print(result.rowcount)"
   ]
  },
  {
   "cell_type": "code",
   "execution_count": 39,
   "metadata": {},
   "outputs": [
    {
     "name": "stdout",
     "output_type": "stream",
     "text": [
      "2020-06-12 00:34:43,276 INFO sqlalchemy.engine.base.Engine SELECT records.id, records.participant_id, records.marathon_id, records.time \n",
      "FROM records\n",
      "2020-06-12 00:34:43,278 INFO sqlalchemy.engine.base.Engine ()\n",
      "(1, 1, 1, datetime.time(2, 7, 57))\n",
      "(2, 2, 1, datetime.time(0, 0))\n",
      "(3, 3, 1, datetime.time(0, 0))\n",
      "(4, 4, 1, datetime.time(0, 0))\n",
      "(5, 5, 1, datetime.time(0, 0))\n",
      "(6, 6, 1, datetime.time(0, 0))\n",
      "(7, 7, 1, datetime.time(0, 0))\n",
      "(8, 8, 1, datetime.time(0, 0))\n",
      "(9, 9, 1, datetime.time(0, 0))\n",
      "(10, 10, 1, datetime.time(0, 0))\n"
     ]
    }
   ],
   "source": [
    "s = select([records])\n",
    "rp = connection.execute(s)\n",
    "\n",
    "for record in rp:\n",
    "    print(record)"
   ]
  },
  {
   "cell_type": "markdown",
   "metadata": {},
   "source": [
    "### Deleting Data"
   ]
  },
  {
   "cell_type": "code",
   "execution_count": 40,
   "metadata": {},
   "outputs": [
    {
     "name": "stdout",
     "output_type": "stream",
     "text": [
      "2020-06-12 00:34:43,291 INFO sqlalchemy.engine.base.Engine DELETE FROM records WHERE records.participant_id = ?\n",
      "2020-06-12 00:34:43,293 INFO sqlalchemy.engine.base.Engine (1,)\n",
      "2020-06-12 00:34:43,295 INFO sqlalchemy.engine.base.Engine COMMIT\n",
      "1\n"
     ]
    }
   ],
   "source": [
    "from sqlalchemy import delete\n",
    "\n",
    "d = delete(records).where(records.c.participant_id == 1)\n",
    "result = connection.execute(d)\n",
    "print(result.rowcount)"
   ]
  },
  {
   "cell_type": "code",
   "execution_count": 41,
   "metadata": {},
   "outputs": [
    {
     "name": "stdout",
     "output_type": "stream",
     "text": [
      "2020-06-12 00:34:43,307 INFO sqlalchemy.engine.base.Engine SELECT records.id, records.participant_id, records.marathon_id, records.time \n",
      "FROM records\n",
      "2020-06-12 00:34:43,308 INFO sqlalchemy.engine.base.Engine ()\n",
      "(2, 2, 1, datetime.time(0, 0))\n",
      "(3, 3, 1, datetime.time(0, 0))\n",
      "(4, 4, 1, datetime.time(0, 0))\n",
      "(5, 5, 1, datetime.time(0, 0))\n",
      "(6, 6, 1, datetime.time(0, 0))\n",
      "(7, 7, 1, datetime.time(0, 0))\n",
      "(8, 8, 1, datetime.time(0, 0))\n",
      "(9, 9, 1, datetime.time(0, 0))\n",
      "(10, 10, 1, datetime.time(0, 0))\n"
     ]
    }
   ],
   "source": [
    "s = select([records])\n",
    "rp = connection.execute(s)\n",
    "\n",
    "for record in rp:\n",
    "    print(record)"
   ]
  },
  {
   "cell_type": "code",
   "execution_count": 42,
   "metadata": {},
   "outputs": [
    {
     "name": "stdout",
     "output_type": "stream",
     "text": [
      "2020-06-12 00:34:43,320 INFO sqlalchemy.engine.base.Engine INSERT INTO records (participant_id, marathon_id, time) VALUES (?, ?, ?)\n",
      "2020-06-12 00:34:43,321 INFO sqlalchemy.engine.base.Engine (1, 1, '00:00:00.000000')\n",
      "2020-06-12 00:34:43,323 INFO sqlalchemy.engine.base.Engine COMMIT\n"
     ]
    },
    {
     "data": {
      "text/plain": [
       "<sqlalchemy.engine.result.ResultProxy at 0x104f3bb50>"
      ]
     },
     "execution_count": 42,
     "metadata": {},
     "output_type": "execute_result"
    }
   ],
   "source": [
    "i = records.insert().values(\n",
    "    participant_id = 1,\n",
    "    marathon_id = 1\n",
    ")\n",
    "connection.execute(i)"
   ]
  },
  {
   "cell_type": "markdown",
   "metadata": {},
   "source": [
    "### Joins"
   ]
  },
  {
   "cell_type": "code",
   "execution_count": 43,
   "metadata": {},
   "outputs": [
    {
     "name": "stdout",
     "output_type": "stream",
     "text": [
      "records JOIN participants ON participants.participant_id = records.participant_id\n"
     ]
    }
   ],
   "source": [
    "j = records.join(participants)\n",
    "print(j)"
   ]
  },
  {
   "cell_type": "code",
   "execution_count": 44,
   "metadata": {},
   "outputs": [
    {
     "name": "stdout",
     "output_type": "stream",
     "text": [
      "records JOIN participants ON records.participant_id = participants.participant_id\n"
     ]
    }
   ],
   "source": [
    "j = records.join(participants, records.c.participant_id == participants.c.participant_id)\n",
    "print(j)"
   ]
  },
  {
   "cell_type": "code",
   "execution_count": 45,
   "metadata": {},
   "outputs": [
    {
     "name": "stdout",
     "output_type": "stream",
     "text": [
      "2020-06-12 00:34:43,354 INFO sqlalchemy.engine.base.Engine SELECT participants.athlete, records.time \n",
      "FROM records JOIN participants ON records.participant_id = participants.participant_id\n",
      "2020-06-12 00:34:43,356 INFO sqlalchemy.engine.base.Engine ()\n",
      "(u'Lelisa Desisa', datetime.time(0, 0))\n",
      "(u'Kenneth Kipkemoi', datetime.time(0, 0))\n",
      "(u'Felix Kandie', datetime.time(0, 0))\n",
      "(u'Geoffrey Kirui', datetime.time(0, 0))\n",
      "(u'Philemon Rono', datetime.time(0, 0))\n",
      "(u'Scott Fauble', datetime.time(0, 0))\n",
      "(u'Jared Ward', datetime.time(0, 0))\n",
      "(u'Festus Talam', datetime.time(0, 0))\n",
      "(u'Benson Kipruto', datetime.time(0, 0))\n",
      "(u'Lawrence Cherono', datetime.time(0, 0))\n"
     ]
    }
   ],
   "source": [
    "columns = [participants.c.athlete, records.c.time]\n",
    "s = select(columns).select_from(j)\n",
    "rp = connection.execute(s)\n",
    "\n",
    "for record in rp:\n",
    "    print(record)"
   ]
  },
  {
   "cell_type": "code",
   "execution_count": 46,
   "metadata": {},
   "outputs": [
    {
     "name": "stdout",
     "output_type": "stream",
     "text": [
      "records JOIN participants ON records.participant_id = participants.participant_id JOIN marathons ON records.marathon_id = marathons.marathon_id\n"
     ]
    }
   ],
   "source": [
    "j = records.join(\n",
    "    participants, records.c.participant_id == participants.c.participant_id\n",
    ").join(\n",
    "    marathons, records.c.marathon_id == marathons.c.marathon_id)\n",
    "    \n",
    "print(j)"
   ]
  },
  {
   "cell_type": "code",
   "execution_count": 47,
   "metadata": {},
   "outputs": [
    {
     "name": "stdout",
     "output_type": "stream",
     "text": [
      "2020-06-12 00:34:43,378 INFO sqlalchemy.engine.base.Engine SELECT marathons.marathon_name, participants.athlete, records.time \n",
      "FROM records JOIN participants ON records.participant_id = participants.participant_id JOIN marathons ON records.marathon_id = marathons.marathon_id\n",
      "2020-06-12 00:34:43,380 INFO sqlalchemy.engine.base.Engine ()\n",
      "(u'2019 Boston Marathon', u'Lelisa Desisa', datetime.time(0, 0))\n",
      "(u'2019 Boston Marathon', u'Kenneth Kipkemoi', datetime.time(0, 0))\n",
      "(u'2019 Boston Marathon', u'Felix Kandie', datetime.time(0, 0))\n",
      "(u'2019 Boston Marathon', u'Geoffrey Kirui', datetime.time(0, 0))\n",
      "(u'2019 Boston Marathon', u'Philemon Rono', datetime.time(0, 0))\n",
      "(u'2019 Boston Marathon', u'Scott Fauble', datetime.time(0, 0))\n",
      "(u'2019 Boston Marathon', u'Jared Ward', datetime.time(0, 0))\n",
      "(u'2019 Boston Marathon', u'Festus Talam', datetime.time(0, 0))\n",
      "(u'2019 Boston Marathon', u'Benson Kipruto', datetime.time(0, 0))\n",
      "(u'2019 Boston Marathon', u'Lawrence Cherono', datetime.time(0, 0))\n"
     ]
    }
   ],
   "source": [
    "columns = [marathons.c.marathon_name, participants.c.athlete, records.c.time]\n",
    "s = select(columns).select_from(j)\n",
    "rp = connection.execute(s)\n",
    "\n",
    "for record in rp:\n",
    "    print(record)"
   ]
  },
  {
   "cell_type": "markdown",
   "metadata": {},
   "source": [
    "### Aliases"
   ]
  },
  {
   "cell_type": "code",
   "execution_count": 48,
   "metadata": {},
   "outputs": [
    {
     "name": "stdout",
     "output_type": "stream",
     "text": [
      "SELECT player.athlete \n",
      "FROM participants AS player\n"
     ]
    }
   ],
   "source": [
    "player = participants.alias('player')\n",
    "\n",
    "s = select([player.c.athlete])\n",
    "print(s)"
   ]
  },
  {
   "cell_type": "markdown",
   "metadata": {},
   "source": [
    "### Grouping"
   ]
  },
  {
   "cell_type": "code",
   "execution_count": 49,
   "metadata": {},
   "outputs": [
    {
     "name": "stdout",
     "output_type": "stream",
     "text": [
      "2020-06-12 00:34:43,405 INFO sqlalchemy.engine.base.Engine SELECT participants.nationality, count(participants.athlete) AS count_1 \n",
      "FROM participants GROUP BY participants.nationality\n",
      "2020-06-12 00:34:43,406 INFO sqlalchemy.engine.base.Engine ()\n",
      "(u'Ethiopia', 1)\n",
      "(u'Kenya', 7)\n",
      "(u'United States', 2)\n"
     ]
    }
   ],
   "source": [
    "from sqlalchemy import func \n",
    "\n",
    "s = select([participants.c.nationality, func.count(participants.c.athlete)])\n",
    "s = s.group_by(participants.c.nationality)\n",
    "rp = connection.execute(s)\n",
    "\n",
    "for participant in rp:\n",
    "    print(participant)"
   ]
  },
  {
   "cell_type": "markdown",
   "metadata": {},
   "source": [
    "### Chaning"
   ]
  },
  {
   "cell_type": "code",
   "execution_count": null,
   "metadata": {},
   "outputs": [],
   "source": []
  },
  {
   "cell_type": "markdown",
   "metadata": {},
   "source": [
    "### Raw Queies"
   ]
  },
  {
   "cell_type": "code",
   "execution_count": 50,
   "metadata": {},
   "outputs": [
    {
     "name": "stdout",
     "output_type": "stream",
     "text": [
      "2020-06-12 00:34:43,419 INFO sqlalchemy.engine.base.Engine SELECT participants.participant_id, participants.athlete, participants.nationality, participants.sex \n",
      "FROM participants \n",
      "WHERE athlete like '%Lawrence%'\n",
      "2020-06-12 00:34:43,421 INFO sqlalchemy.engine.base.Engine ()\n",
      "(1, u'Lawrence Cherono', u'Kenya', True)\n"
     ]
    }
   ],
   "source": [
    "from sqlalchemy import text\n",
    "\n",
    "s = select([participants]).where(text(\"athlete like '%Lawrence%'\"))\n",
    "rp = connection.execute(s)\n",
    "\n",
    "for participant in rp:\n",
    "    print(participant)"
   ]
  },
  {
   "cell_type": "code",
   "execution_count": null,
   "metadata": {},
   "outputs": [],
   "source": []
  }
 ],
 "metadata": {
  "kernelspec": {
   "display_name": ".venv",
   "language": "python",
   "name": ".venv"
  },
  "language_info": {
   "codemirror_mode": {
    "name": "ipython",
    "version": 2
   },
   "file_extension": ".py",
   "mimetype": "text/x-python",
   "name": "python",
   "nbconvert_exporter": "python",
   "pygments_lexer": "ipython2",
   "version": "2.7.15"
  }
 },
 "nbformat": 4,
 "nbformat_minor": 2
}
