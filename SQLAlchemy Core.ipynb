{
 "cells": [
  {
   "cell_type": "markdown",
   "metadata": {},
   "source": [
    "# SQLAlchemy Tutorial"
   ]
  },
  {
   "cell_type": "markdown",
   "metadata": {},
   "source": [
    "## Installation"
   ]
  },
  {
   "cell_type": "code",
   "execution_count": 1,
   "metadata": {},
   "outputs": [
    {
     "name": "stdout",
     "output_type": "stream",
     "text": [
      "/bin/sh: pip: command not found\r\n"
     ]
    }
   ],
   "source": [
    "!pip install sqlalchmey"
   ]
  },
  {
   "cell_type": "code",
   "execution_count": 2,
   "metadata": {},
   "outputs": [
    {
     "data": {
      "text/plain": [
       "'1.3.13'"
      ]
     },
     "execution_count": 2,
     "metadata": {},
     "output_type": "execute_result"
    }
   ],
   "source": [
    "import sqlalchemy\n",
    "sqlalchemy.__version__"
   ]
  },
  {
   "cell_type": "code",
   "execution_count": 3,
   "metadata": {},
   "outputs": [
    {
     "name": "stdout",
     "output_type": "stream",
     "text": [
      "rm: marathon_men.db: No such file or directory\n",
      "LICENSE                        SQLAlchemy-HANA Type.ipynb\n",
      "README.md                      SQLAlchemy-hana.ipynb\n",
      "SQLAlchemy Core.ipynb          requirements.txt\n",
      "SQLAlchemy ORM.ipynb           sqlalchemy-hana-connection.py\n",
      "SQLAlchemy-HANA ORM Type.ipynb sqlalchemy-hana-select.py\n"
     ]
    }
   ],
   "source": [
    "!rm marathon_men.db\n",
    "!ls"
   ]
  },
  {
   "cell_type": "markdown",
   "metadata": {},
   "source": [
    "## Connecting to a Database"
   ]
  },
  {
   "cell_type": "code",
   "execution_count": 4,
   "metadata": {},
   "outputs": [],
   "source": [
    "from sqlalchemy import create_engine"
   ]
  },
  {
   "cell_type": "code",
   "execution_count": 5,
   "metadata": {},
   "outputs": [],
   "source": [
    "engine = create_engine('sqlite:///marathon_men.db', echo=True)"
   ]
  },
  {
   "cell_type": "code",
   "execution_count": 6,
   "metadata": {},
   "outputs": [
    {
     "data": {
      "text/plain": [
       "Engine(sqlite:///marathon_men.db)"
      ]
     },
     "execution_count": 6,
     "metadata": {},
     "output_type": "execute_result"
    }
   ],
   "source": [
    "engine"
   ]
  },
  {
   "cell_type": "markdown",
   "metadata": {},
   "source": [
    "# SQLAlchemy Core"
   ]
  },
  {
   "cell_type": "markdown",
   "metadata": {},
   "source": [
    "## Data Define"
   ]
  },
  {
   "cell_type": "markdown",
   "metadata": {},
   "source": [
    "### Metadata"
   ]
  },
  {
   "cell_type": "code",
   "execution_count": 7,
   "metadata": {},
   "outputs": [],
   "source": [
    "from sqlalchemy import MetaData\n",
    "metadata = MetaData()"
   ]
  },
  {
   "cell_type": "markdown",
   "metadata": {},
   "source": [
    "records table\n",
    "\n",
    "| name          | SQL type    |\n",
    "| ------------- | ----------- |\n",
    "| id            | INTEGER     |\n",
    "| participant_id| INTEGER     |\n",
    "| marathon_id   | INTEGER     |\n",
    "| record        | DATETIME    |\n",
    "\n",
    "* id attribute : the primary key\n",
    "\n",
    "participants table\n",
    "\n",
    "| name          | SQL type    |\n",
    "| ------------- | ----------- |\n",
    "| participant_id| INTEGER     |\n",
    "| athlete       | VARCHAR(32) |\n",
    "| nationality   | VARCHAR(32) |\n",
    "| sex           | BOOLEAN     |\n",
    "\n",
    "marathons table\n",
    "\n",
    "| name          | SQL type    |\n",
    "| ------------- | ----------- |\n",
    "| marathon_id   | INTEGER     |\n",
    "| marathon_name | VARCHAR(32) |\n",
    "| venue         | VARCHAR(64) |\n",
    "| date          | TIME        |\n"
   ]
  },
  {
   "cell_type": "code",
   "execution_count": 8,
   "metadata": {},
   "outputs": [],
   "source": [
    "from sqlalchemy import Table, Column, Integer, String, Float, Time, Boolean, DATE\n",
    "from sqlalchemy import ForeignKey, ForeignKeyConstraint\n",
    "\n",
    "import datetime\n",
    "\n",
    "records = Table(\"records\",\n",
    "                metadata,\n",
    "                Column(\"id\", Integer(), primary_key=True),\n",
    "                Column(\"participant_id\", ForeignKey(\"participants.participant_id\")),\n",
    "                Column(\"marathon_id\"),\n",
    "                Column(\"time\", Time(), nullable=True, default=datetime.time(0, 0, 0)),\n",
    "                ForeignKeyConstraint([\"marathon_id\"], [\"marathons.marathon_id\"])\n",
    "               )"
   ]
  },
  {
   "cell_type": "markdown",
   "metadata": {},
   "source": [
    "### Keys and Constraints"
   ]
  },
  {
   "cell_type": "code",
   "execution_count": 9,
   "metadata": {},
   "outputs": [],
   "source": [
    "from sqlalchemy import PrimaryKeyConstraint\n",
    "\n",
    "participants = Table(\"participants\",\n",
    "                     metadata,\n",
    "                     Column(\"participant_id\", Integer()),\n",
    "                     Column(\"athlete\", String(32), nullable=False),\n",
    "                     Column(\"nationality\", String(32), nullable=False),\n",
    "                     Column(\"sex\", Boolean(), nullable=False),\n",
    "                     PrimaryKeyConstraint(\"participant_id\")\n",
    "                    )"
   ]
  },
  {
   "cell_type": "markdown",
   "metadata": {},
   "source": [
    "### Indexs"
   ]
  },
  {
   "cell_type": "code",
   "execution_count": 10,
   "metadata": {},
   "outputs": [],
   "source": [
    "from sqlalchemy import UniqueConstraint\n",
    "from sqlalchemy import Index\n",
    "\n",
    "marathons = Table(\"marathons\",\n",
    "                  metadata,\n",
    "                  Column(\"marathon_id\", Integer(), primary_key=True),\n",
    "                  Column(\"marathon_name\", String(32), nullable=False),\n",
    "                  Column(\"venue\", String(64), nullable=False),\n",
    "                  Column(\"date\", DATE(), nullable=False),\n",
    "                  UniqueConstraint(\"marathon_name\")\n",
    "                 )"
   ]
  },
  {
   "cell_type": "markdown",
   "metadata": {},
   "source": [
    "### Persisting the table"
   ]
  },
  {
   "cell_type": "code",
   "execution_count": 11,
   "metadata": {},
   "outputs": [
    {
     "name": "stdout",
     "output_type": "stream",
     "text": [
      "2020-08-08 10:16:22,129 INFO sqlalchemy.engine.base.Engine SELECT CAST('test plain returns' AS VARCHAR(60)) AS anon_1\n",
      "2020-08-08 10:16:22,130 INFO sqlalchemy.engine.base.Engine ()\n",
      "2020-08-08 10:16:22,131 INFO sqlalchemy.engine.base.Engine SELECT CAST('test unicode returns' AS VARCHAR(60)) AS anon_1\n",
      "2020-08-08 10:16:22,131 INFO sqlalchemy.engine.base.Engine ()\n",
      "2020-08-08 10:16:22,133 INFO sqlalchemy.engine.base.Engine PRAGMA main.table_info(\"records\")\n",
      "2020-08-08 10:16:22,134 INFO sqlalchemy.engine.base.Engine ()\n",
      "2020-08-08 10:16:22,135 INFO sqlalchemy.engine.base.Engine PRAGMA temp.table_info(\"records\")\n",
      "2020-08-08 10:16:22,135 INFO sqlalchemy.engine.base.Engine ()\n",
      "2020-08-08 10:16:22,136 INFO sqlalchemy.engine.base.Engine PRAGMA main.table_info(\"participants\")\n",
      "2020-08-08 10:16:22,136 INFO sqlalchemy.engine.base.Engine ()\n",
      "2020-08-08 10:16:22,137 INFO sqlalchemy.engine.base.Engine PRAGMA temp.table_info(\"participants\")\n",
      "2020-08-08 10:16:22,138 INFO sqlalchemy.engine.base.Engine ()\n",
      "2020-08-08 10:16:22,139 INFO sqlalchemy.engine.base.Engine PRAGMA main.table_info(\"marathons\")\n",
      "2020-08-08 10:16:22,139 INFO sqlalchemy.engine.base.Engine ()\n",
      "2020-08-08 10:16:22,140 INFO sqlalchemy.engine.base.Engine PRAGMA temp.table_info(\"marathons\")\n",
      "2020-08-08 10:16:22,141 INFO sqlalchemy.engine.base.Engine ()\n",
      "2020-08-08 10:16:22,142 INFO sqlalchemy.engine.base.Engine \n",
      "CREATE TABLE participants (\n",
      "\tparticipant_id INTEGER NOT NULL, \n",
      "\tathlete VARCHAR(32) NOT NULL, \n",
      "\tnationality VARCHAR(32) NOT NULL, \n",
      "\tsex BOOLEAN NOT NULL, \n",
      "\tPRIMARY KEY (participant_id), \n",
      "\tCHECK (sex IN (0, 1))\n",
      ")\n",
      "\n",
      "\n",
      "2020-08-08 10:16:22,143 INFO sqlalchemy.engine.base.Engine ()\n",
      "2020-08-08 10:16:22,144 INFO sqlalchemy.engine.base.Engine COMMIT\n",
      "2020-08-08 10:16:22,145 INFO sqlalchemy.engine.base.Engine \n",
      "CREATE TABLE marathons (\n",
      "\tmarathon_id INTEGER NOT NULL, \n",
      "\tmarathon_name VARCHAR(32) NOT NULL, \n",
      "\tvenue VARCHAR(64) NOT NULL, \n",
      "\tdate DATE NOT NULL, \n",
      "\tPRIMARY KEY (marathon_id), \n",
      "\tUNIQUE (marathon_name)\n",
      ")\n",
      "\n",
      "\n",
      "2020-08-08 10:16:22,145 INFO sqlalchemy.engine.base.Engine ()\n",
      "2020-08-08 10:16:22,147 INFO sqlalchemy.engine.base.Engine COMMIT\n",
      "2020-08-08 10:16:22,147 INFO sqlalchemy.engine.base.Engine \n",
      "CREATE TABLE records (\n",
      "\tid INTEGER NOT NULL, \n",
      "\tparticipant_id INTEGER, \n",
      "\tmarathon_id INTEGER, \n",
      "\ttime TIME, \n",
      "\tPRIMARY KEY (id), \n",
      "\tFOREIGN KEY(marathon_id) REFERENCES marathons (marathon_id), \n",
      "\tFOREIGN KEY(participant_id) REFERENCES participants (participant_id)\n",
      ")\n",
      "\n",
      "\n",
      "2020-08-08 10:16:22,148 INFO sqlalchemy.engine.base.Engine ()\n",
      "2020-08-08 10:16:22,149 INFO sqlalchemy.engine.base.Engine COMMIT\n"
     ]
    }
   ],
   "source": [
    "metadata.create_all(engine)"
   ]
  },
  {
   "cell_type": "markdown",
   "metadata": {},
   "source": [
    "## Data Manipulation"
   ]
  },
  {
   "cell_type": "markdown",
   "metadata": {},
   "source": [
    "### Inserting Data"
   ]
  },
  {
   "cell_type": "markdown",
   "metadata": {},
   "source": [
    "#### insert() method"
   ]
  },
  {
   "cell_type": "code",
   "execution_count": 12,
   "metadata": {},
   "outputs": [],
   "source": [
    "connection = engine.connect()"
   ]
  },
  {
   "cell_type": "code",
   "execution_count": 13,
   "metadata": {},
   "outputs": [],
   "source": [
    "import datetime\n",
    "\n",
    "insert = marathons.insert().values(\n",
    "    marathon_name=\"2019 Boston Marathon\",\n",
    "    venue=\"Boston, Massachusetts, United States\",\n",
    "    date=datetime.datetime(2019, 4, 15)\n",
    ")"
   ]
  },
  {
   "cell_type": "code",
   "execution_count": 14,
   "metadata": {},
   "outputs": [
    {
     "name": "stdout",
     "output_type": "stream",
     "text": [
      "2020-08-08 10:16:22,162 INFO sqlalchemy.engine.base.Engine INSERT INTO marathons (marathon_name, venue, date) VALUES (?, ?, ?)\n",
      "2020-08-08 10:16:22,163 INFO sqlalchemy.engine.base.Engine ('2019 Boston Marathon', 'Boston, Massachusetts, United States', '2019-04-15')\n",
      "2020-08-08 10:16:22,164 INFO sqlalchemy.engine.base.Engine COMMIT\n"
     ]
    }
   ],
   "source": [
    "result = connection.execute(insert)"
   ]
  },
  {
   "cell_type": "code",
   "execution_count": 15,
   "metadata": {},
   "outputs": [
    {
     "data": {
      "text/plain": [
       "[1]"
      ]
     },
     "execution_count": 15,
     "metadata": {},
     "output_type": "execute_result"
    }
   ],
   "source": [
    "result.inserted_primary_key"
   ]
  },
  {
   "cell_type": "markdown",
   "metadata": {},
   "source": [
    "#### Bulk insert"
   ]
  },
  {
   "cell_type": "code",
   "execution_count": 16,
   "metadata": {},
   "outputs": [
    {
     "name": "stdout",
     "output_type": "stream",
     "text": [
      "2020-08-08 10:16:22,178 INFO sqlalchemy.engine.base.Engine INSERT INTO participants (athlete, nationality, sex) VALUES (?, ?, ?)\n",
      "2020-08-08 10:16:22,179 INFO sqlalchemy.engine.base.Engine (('Lawrence Cherono', 'Kenya', 1), ('Lelisa Desisa', 'Ethiopia', 1), ('Kenneth Kipkemoi', 'Kenya', 1), ('Felix Kandie', 'Kenya', 1), ('Geoffrey Kirui', 'Kenya', 1), ('Philemon Rono', 'Kenya', 1), ('Scott Fauble', 'United States', 1), ('Jared Ward', 'United States', 1), ('Festus Talam', 'Kenya', 1), ('Benson Kipruto', 'Kenya', 1))\n",
      "2020-08-08 10:16:22,179 INFO sqlalchemy.engine.base.Engine COMMIT\n"
     ]
    },
    {
     "data": {
      "text/plain": [
       "<sqlalchemy.engine.result.ResultProxy at 0x7ffc8772c950>"
      ]
     },
     "execution_count": 16,
     "metadata": {},
     "output_type": "execute_result"
    }
   ],
   "source": [
    "connection.execute(\n",
    "    participants.insert(),[\n",
    "        {\"athlete\":\"Lawrence Cherono\", \"nationality\":\"Kenya\", \"sex\":True},\n",
    "        {\"athlete\":\"Lelisa Desisa\", \"nationality\":\"Ethiopia\", \"sex\":True},\n",
    "        {\"athlete\":\"Kenneth Kipkemoi\", \"nationality\":\"Kenya\", \"sex\":True},\n",
    "        {\"athlete\":\"Felix Kandie\", \"nationality\":\"Kenya\", \"sex\":True},\n",
    "        {\"athlete\":\"Geoffrey Kirui\", \"nationality\":\"Kenya\", \"sex\":True},\n",
    "        {\"athlete\":\"Philemon Rono\", \"nationality\":\"Kenya\", \"sex\":True},\n",
    "        {\"athlete\":\"Scott Fauble\", \"nationality\":\"United States\", \"sex\":True},\n",
    "        {\"athlete\":\"Jared Ward\", \"nationality\":\"United States\", \"sex\":True},\n",
    "        {\"athlete\":\"Festus Talam\", \"nationality\":\"Kenya\", \"sex\":True},\n",
    "        {\"athlete\":\"Benson Kipruto\", \"nationality\":\"Kenya\", \"sex\":True},    \n",
    "    ]\n",
    ")"
   ]
  },
  {
   "cell_type": "markdown",
   "metadata": {},
   "source": [
    "### Querying Data"
   ]
  },
  {
   "cell_type": "markdown",
   "metadata": {},
   "source": [
    "#### select() method"
   ]
  },
  {
   "cell_type": "code",
   "execution_count": 17,
   "metadata": {},
   "outputs": [],
   "source": [
    "select=marathons.select()"
   ]
  },
  {
   "cell_type": "code",
   "execution_count": 18,
   "metadata": {},
   "outputs": [
    {
     "name": "stdout",
     "output_type": "stream",
     "text": [
      "SELECT marathons.marathon_id, marathons.marathon_name, marathons.venue, marathons.date \n",
      "FROM marathons\n"
     ]
    }
   ],
   "source": [
    "print(select)"
   ]
  },
  {
   "cell_type": "code",
   "execution_count": 19,
   "metadata": {},
   "outputs": [
    {
     "name": "stdout",
     "output_type": "stream",
     "text": [
      "2020-08-08 10:16:22,193 INFO sqlalchemy.engine.base.Engine SELECT marathons.marathon_id, marathons.marathon_name, marathons.venue, marathons.date \n",
      "FROM marathons\n",
      "2020-08-08 10:16:22,194 INFO sqlalchemy.engine.base.Engine ()\n"
     ]
    }
   ],
   "source": [
    "rp = connection.execute(select)"
   ]
  },
  {
   "cell_type": "markdown",
   "metadata": {},
   "source": [
    "#### ResultProxy object"
   ]
  },
  {
   "cell_type": "code",
   "execution_count": 20,
   "metadata": {},
   "outputs": [
    {
     "data": {
      "text/plain": [
       "<sqlalchemy.engine.result.ResultProxy at 0x7ffc877e2c10>"
      ]
     },
     "execution_count": 20,
     "metadata": {},
     "output_type": "execute_result"
    }
   ],
   "source": [
    "rp"
   ]
  },
  {
   "cell_type": "code",
   "execution_count": 21,
   "metadata": {},
   "outputs": [],
   "source": [
    "results = rp.fetchall()"
   ]
  },
  {
   "cell_type": "code",
   "execution_count": 22,
   "metadata": {},
   "outputs": [],
   "source": [
    "first_row = results[0]"
   ]
  },
  {
   "cell_type": "code",
   "execution_count": 23,
   "metadata": {},
   "outputs": [
    {
     "data": {
      "text/plain": [
       "(1, '2019 Boston Marathon', 'Boston, Massachusetts, United States', datetime.date(2019, 4, 15))"
      ]
     },
     "execution_count": 23,
     "metadata": {},
     "output_type": "execute_result"
    }
   ],
   "source": [
    "first_row"
   ]
  },
  {
   "cell_type": "code",
   "execution_count": 24,
   "metadata": {},
   "outputs": [
    {
     "data": {
      "text/plain": [
       "1"
      ]
     },
     "execution_count": 24,
     "metadata": {},
     "output_type": "execute_result"
    }
   ],
   "source": [
    "first_row.marathon_id"
   ]
  },
  {
   "cell_type": "code",
   "execution_count": 25,
   "metadata": {},
   "outputs": [
    {
     "data": {
      "text/plain": [
       "'2019 Boston Marathon'"
      ]
     },
     "execution_count": 25,
     "metadata": {},
     "output_type": "execute_result"
    }
   ],
   "source": [
    "first_row.marathon_name"
   ]
  },
  {
   "cell_type": "code",
   "execution_count": 26,
   "metadata": {},
   "outputs": [
    {
     "name": "stdout",
     "output_type": "stream",
     "text": [
      "2020-08-08 10:16:22,230 INFO sqlalchemy.engine.base.Engine SELECT participants.participant_id, participants.athlete, participants.nationality, participants.sex \n",
      "FROM participants\n",
      "2020-08-08 10:16:22,230 INFO sqlalchemy.engine.base.Engine ()\n",
      "(1, 'Lawrence Cherono', 'Kenya', True)\n",
      "(2, 'Lelisa Desisa', 'Ethiopia', True)\n",
      "(3, 'Kenneth Kipkemoi', 'Kenya', True)\n",
      "(4, 'Felix Kandie', 'Kenya', True)\n",
      "(5, 'Geoffrey Kirui', 'Kenya', True)\n",
      "(6, 'Philemon Rono', 'Kenya', True)\n",
      "(7, 'Scott Fauble', 'United States', True)\n",
      "(8, 'Jared Ward', 'United States', True)\n",
      "(9, 'Festus Talam', 'Kenya', True)\n",
      "(10, 'Benson Kipruto', 'Kenya', True)\n"
     ]
    }
   ],
   "source": [
    "select = participants.select()\n",
    "rp = connection.execute(select)\n",
    "for participant in rp:\n",
    "    print(participant)"
   ]
  },
  {
   "cell_type": "code",
   "execution_count": 27,
   "metadata": {},
   "outputs": [
    {
     "name": "stdout",
     "output_type": "stream",
     "text": [
      "2020-08-08 10:16:22,237 INFO sqlalchemy.engine.base.Engine SELECT participants.participant_id, participants.athlete, participants.nationality, participants.sex \n",
      "FROM participants\n",
      "2020-08-08 10:16:22,238 INFO sqlalchemy.engine.base.Engine ()\n",
      "(1, 'Lawrence Cherono', 'Kenya', True)\n",
      "(2, 'Lelisa Desisa', 'Ethiopia', True)\n",
      "(3, 'Kenneth Kipkemoi', 'Kenya', True)\n",
      "(4, 'Felix Kandie', 'Kenya', True)\n",
      "(5, 'Geoffrey Kirui', 'Kenya', True)\n",
      "(6, 'Philemon Rono', 'Kenya', True)\n",
      "(7, 'Scott Fauble', 'United States', True)\n",
      "(8, 'Jared Ward', 'United States', True)\n",
      "(9, 'Festus Talam', 'Kenya', True)\n",
      "(10, 'Benson Kipruto', 'Kenya', True)\n"
     ]
    }
   ],
   "source": [
    "from sqlalchemy.sql import select\n",
    "\n",
    "s = select([participants])\n",
    "rp = connection.execute(s)\n",
    "\n",
    "for participant in rp:\n",
    "    print(participant)"
   ]
  },
  {
   "cell_type": "markdown",
   "metadata": {},
   "source": [
    "#### Controlling the Columns in the Query"
   ]
  },
  {
   "cell_type": "code",
   "execution_count": 28,
   "metadata": {},
   "outputs": [
    {
     "name": "stdout",
     "output_type": "stream",
     "text": [
      "2020-08-08 10:16:22,245 INFO sqlalchemy.engine.base.Engine SELECT participants.athlete, participants.nationality \n",
      "FROM participants\n",
      "2020-08-08 10:16:22,245 INFO sqlalchemy.engine.base.Engine ()\n",
      "('Lawrence Cherono', 'Kenya')\n",
      "('Lelisa Desisa', 'Ethiopia')\n",
      "('Kenneth Kipkemoi', 'Kenya')\n",
      "('Felix Kandie', 'Kenya')\n",
      "('Geoffrey Kirui', 'Kenya')\n",
      "('Philemon Rono', 'Kenya')\n",
      "('Scott Fauble', 'United States')\n",
      "('Jared Ward', 'United States')\n",
      "('Festus Talam', 'Kenya')\n",
      "('Benson Kipruto', 'Kenya')\n"
     ]
    }
   ],
   "source": [
    "s = select([participants.c.athlete, participants.c.nationality])\n",
    "rp = connection.execute(s)\n",
    "\n",
    "for participant in rp:\n",
    "    print(participant)"
   ]
  },
  {
   "cell_type": "markdown",
   "metadata": {},
   "source": [
    "#### Ordering"
   ]
  },
  {
   "cell_type": "code",
   "execution_count": 29,
   "metadata": {},
   "outputs": [
    {
     "name": "stdout",
     "output_type": "stream",
     "text": [
      "2020-08-08 10:16:22,252 INFO sqlalchemy.engine.base.Engine SELECT participants.athlete, participants.nationality \n",
      "FROM participants ORDER BY participants.athlete\n",
      "2020-08-08 10:16:22,253 INFO sqlalchemy.engine.base.Engine ()\n",
      "('Benson Kipruto', 'Kenya')\n",
      "('Felix Kandie', 'Kenya')\n",
      "('Festus Talam', 'Kenya')\n",
      "('Geoffrey Kirui', 'Kenya')\n",
      "('Jared Ward', 'United States')\n",
      "('Kenneth Kipkemoi', 'Kenya')\n",
      "('Lawrence Cherono', 'Kenya')\n",
      "('Lelisa Desisa', 'Ethiopia')\n",
      "('Philemon Rono', 'Kenya')\n",
      "('Scott Fauble', 'United States')\n"
     ]
    }
   ],
   "source": [
    "s = select([participants.c.athlete, participants.c.nationality])\n",
    "s = s.order_by(participants.c.athlete)\n",
    "rp = connection.execute(s)\n",
    "\n",
    "for participant in rp:\n",
    "    print(participant)"
   ]
  },
  {
   "cell_type": "markdown",
   "metadata": {},
   "source": [
    "#### Limiting"
   ]
  },
  {
   "cell_type": "code",
   "execution_count": 30,
   "metadata": {},
   "outputs": [
    {
     "name": "stdout",
     "output_type": "stream",
     "text": [
      "2020-08-08 10:16:22,260 INFO sqlalchemy.engine.base.Engine SELECT participants.athlete, participants.nationality \n",
      "FROM participants ORDER BY participants.athlete\n",
      " LIMIT ? OFFSET ?\n",
      "2020-08-08 10:16:22,260 INFO sqlalchemy.engine.base.Engine (5, 0)\n",
      "('Benson Kipruto', 'Kenya')\n",
      "('Felix Kandie', 'Kenya')\n",
      "('Festus Talam', 'Kenya')\n",
      "('Geoffrey Kirui', 'Kenya')\n",
      "('Jared Ward', 'United States')\n"
     ]
    }
   ],
   "source": [
    "s = select([participants.c.athlete, participants.c.nationality])\n",
    "s = s.order_by(participants.c.athlete)\n",
    "s = s.limit(5)\n",
    "rp = connection.execute(s)\n",
    "\n",
    "for participant in rp:\n",
    "    print(participant)"
   ]
  },
  {
   "cell_type": "markdown",
   "metadata": {},
   "source": [
    "#### Built-in SQL Functions and Labels"
   ]
  },
  {
   "cell_type": "markdown",
   "metadata": {},
   "source": [
    "#### Filiteringg"
   ]
  },
  {
   "cell_type": "code",
   "execution_count": 31,
   "metadata": {},
   "outputs": [
    {
     "name": "stdout",
     "output_type": "stream",
     "text": [
      "2020-08-08 10:16:22,268 INFO sqlalchemy.engine.base.Engine SELECT participants.participant_id, participants.athlete, participants.nationality, participants.sex \n",
      "FROM participants \n",
      "WHERE participants.athlete = ?\n",
      "2020-08-08 10:16:22,268 INFO sqlalchemy.engine.base.Engine ('Benson Kipruto',)\n",
      "[('participant_id', 10), ('athlete', 'Benson Kipruto'), ('nationality', 'Kenya'), ('sex', True)]\n"
     ]
    }
   ],
   "source": [
    "s = select([participants]).where(participants.c.athlete == \"Benson Kipruto\")\n",
    "rp = connection.execute(s)\n",
    "\n",
    "participant = rp.first()\n",
    "print(participant.items())"
   ]
  },
  {
   "cell_type": "code",
   "execution_count": 32,
   "metadata": {},
   "outputs": [
    {
     "name": "stdout",
     "output_type": "stream",
     "text": [
      "2020-08-08 10:16:22,275 INFO sqlalchemy.engine.base.Engine SELECT participants.participant_id, participants.athlete, participants.nationality, participants.sex \n",
      "FROM participants \n",
      "WHERE participants.nationality LIKE ?\n",
      "2020-08-08 10:16:22,276 INFO sqlalchemy.engine.base.Engine ('Ken%',)\n",
      "Lawrence Cherono\n",
      "Kenneth Kipkemoi\n",
      "Felix Kandie\n",
      "Geoffrey Kirui\n",
      "Philemon Rono\n",
      "Festus Talam\n",
      "Benson Kipruto\n"
     ]
    }
   ],
   "source": [
    "s = select([participants]).where(participants.c.nationality.like(\"Ken%\"))\n",
    "rp = connection.execute(s)\n",
    "\n",
    "for participant in rp.fetchall():\n",
    "    print(participant.athlete)"
   ]
  },
  {
   "cell_type": "markdown",
   "metadata": {},
   "source": [
    "##### ClauseElements\n",
    "* between\n",
    "* concat\n",
    "* distinct\n",
    "* in_\n",
    "* is_\n",
    "* contains\n",
    "* endswith\n",
    "* like\n",
    "* startswith\n",
    "* like"
   ]
  },
  {
   "cell_type": "markdown",
   "metadata": {},
   "source": [
    "#### Operators"
   ]
  },
  {
   "cell_type": "code",
   "execution_count": 33,
   "metadata": {},
   "outputs": [
    {
     "name": "stdout",
     "output_type": "stream",
     "text": [
      "2020-08-08 10:16:22,282 INFO sqlalchemy.engine.base.Engine SELECT participants.athlete, ? || participants.nationality AS anon_1 \n",
      "FROM participants\n",
      "2020-08-08 10:16:22,283 INFO sqlalchemy.engine.base.Engine ('Nationality : ',)\n",
      "('Lawrence Cherono', 'Nationality : Kenya')\n",
      "('Lelisa Desisa', 'Nationality : Ethiopia')\n",
      "('Kenneth Kipkemoi', 'Nationality : Kenya')\n",
      "('Felix Kandie', 'Nationality : Kenya')\n",
      "('Geoffrey Kirui', 'Nationality : Kenya')\n",
      "('Philemon Rono', 'Nationality : Kenya')\n",
      "('Scott Fauble', 'Nationality : United States')\n",
      "('Jared Ward', 'Nationality : United States')\n",
      "('Festus Talam', 'Nationality : Kenya')\n",
      "('Benson Kipruto', 'Nationality : Kenya')\n"
     ]
    }
   ],
   "source": [
    "s = select([participants.c.athlete, \"Nationality : \" + participants.c.nationality])\n",
    "rp = connection.execute(s)\n",
    "\n",
    "for participant in rp:\n",
    "    print(participant)"
   ]
  },
  {
   "cell_type": "markdown",
   "metadata": {},
   "source": [
    "#### Conjunctions\n",
    "\n",
    "* and_()\n",
    "* or_()\n",
    "* not_()"
   ]
  },
  {
   "cell_type": "code",
   "execution_count": 34,
   "metadata": {},
   "outputs": [
    {
     "name": "stdout",
     "output_type": "stream",
     "text": [
      "2020-08-08 10:16:22,291 INFO sqlalchemy.engine.base.Engine SELECT participants.participant_id, participants.athlete, participants.nationality, participants.sex \n",
      "FROM participants \n",
      "WHERE participants.nationality = ? AND participants.athlete = ?\n",
      "2020-08-08 10:16:22,291 INFO sqlalchemy.engine.base.Engine ('Kenya', 'Lawrence Cherono')\n",
      "(1, 'Lawrence Cherono', 'Kenya', True)\n"
     ]
    }
   ],
   "source": [
    "from sqlalchemy import and_, or_, not_\n",
    "\n",
    "s = select([participants]).where(\n",
    "    and_(\n",
    "        participants.c.nationality == \"Kenya\",\n",
    "        participants.c.athlete == \"Lawrence Cherono\"\n",
    "    )\n",
    ")\n",
    "rp = connection.execute(s)\n",
    "\n",
    "for participant in rp:\n",
    "    print(participant)"
   ]
  },
  {
   "cell_type": "code",
   "execution_count": 35,
   "metadata": {},
   "outputs": [
    {
     "name": "stdout",
     "output_type": "stream",
     "text": [
      "2020-08-08 10:16:22,298 INFO sqlalchemy.engine.base.Engine SELECT participants.participant_id, participants.athlete, participants.nationality, participants.sex \n",
      "FROM participants \n",
      "WHERE participants.nationality = ? OR participants.nationality = ?\n",
      "2020-08-08 10:16:22,299 INFO sqlalchemy.engine.base.Engine ('Kenya', 'Ethiopia')\n",
      "(1, 'Lawrence Cherono', 'Kenya', True)\n",
      "(2, 'Lelisa Desisa', 'Ethiopia', True)\n",
      "(3, 'Kenneth Kipkemoi', 'Kenya', True)\n",
      "(4, 'Felix Kandie', 'Kenya', True)\n",
      "(5, 'Geoffrey Kirui', 'Kenya', True)\n",
      "(6, 'Philemon Rono', 'Kenya', True)\n",
      "(9, 'Festus Talam', 'Kenya', True)\n",
      "(10, 'Benson Kipruto', 'Kenya', True)\n"
     ]
    }
   ],
   "source": [
    "s = select([participants]).where(\n",
    "    or_(\n",
    "        participants.c.nationality == \"Kenya\",\n",
    "        participants.c.nationality == \"Ethiopia\",\n",
    "    )\n",
    ")\n",
    "rp = connection.execute(s)\n",
    "\n",
    "for participant in rp:\n",
    "    print(participant)"
   ]
  },
  {
   "cell_type": "markdown",
   "metadata": {},
   "source": [
    "### Updating Data"
   ]
  },
  {
   "cell_type": "code",
   "execution_count": 36,
   "metadata": {},
   "outputs": [
    {
     "name": "stdout",
     "output_type": "stream",
     "text": [
      "2020-08-08 10:16:22,308 INFO sqlalchemy.engine.base.Engine SELECT marathons.marathon_id \n",
      "FROM marathons \n",
      "WHERE marathons.marathon_name LIKE ?\n",
      "2020-08-08 10:16:22,308 INFO sqlalchemy.engine.base.Engine ('2019%Boston%',)\n",
      "2020-08-08 10:16:22,309 INFO sqlalchemy.engine.base.Engine SELECT participants.participant_id, participants.athlete, participants.nationality, participants.sex \n",
      "FROM participants\n",
      "2020-08-08 10:16:22,310 INFO sqlalchemy.engine.base.Engine ()\n",
      "1\n",
      "2020-08-08 10:16:22,311 INFO sqlalchemy.engine.base.Engine INSERT INTO records (participant_id, marathon_id, time) VALUES (?, ?, ?)\n",
      "2020-08-08 10:16:22,311 INFO sqlalchemy.engine.base.Engine (1, 1, '00:00:00.000000')\n",
      "2020-08-08 10:16:22,312 INFO sqlalchemy.engine.base.Engine COMMIT\n",
      "2\n",
      "2020-08-08 10:16:22,314 INFO sqlalchemy.engine.base.Engine INSERT INTO records (participant_id, marathon_id, time) VALUES (?, ?, ?)\n",
      "2020-08-08 10:16:22,314 INFO sqlalchemy.engine.base.Engine (2, 1, '00:00:00.000000')\n",
      "2020-08-08 10:16:22,315 INFO sqlalchemy.engine.base.Engine COMMIT\n",
      "3\n",
      "2020-08-08 10:16:22,316 INFO sqlalchemy.engine.base.Engine INSERT INTO records (participant_id, marathon_id, time) VALUES (?, ?, ?)\n",
      "2020-08-08 10:16:22,317 INFO sqlalchemy.engine.base.Engine (3, 1, '00:00:00.000000')\n",
      "2020-08-08 10:16:22,318 INFO sqlalchemy.engine.base.Engine COMMIT\n",
      "4\n",
      "2020-08-08 10:16:22,320 INFO sqlalchemy.engine.base.Engine INSERT INTO records (participant_id, marathon_id, time) VALUES (?, ?, ?)\n",
      "2020-08-08 10:16:22,320 INFO sqlalchemy.engine.base.Engine (4, 1, '00:00:00.000000')\n",
      "2020-08-08 10:16:22,321 INFO sqlalchemy.engine.base.Engine COMMIT\n",
      "5\n",
      "2020-08-08 10:16:22,323 INFO sqlalchemy.engine.base.Engine INSERT INTO records (participant_id, marathon_id, time) VALUES (?, ?, ?)\n",
      "2020-08-08 10:16:22,323 INFO sqlalchemy.engine.base.Engine (5, 1, '00:00:00.000000')\n",
      "2020-08-08 10:16:22,324 INFO sqlalchemy.engine.base.Engine COMMIT\n",
      "6\n",
      "2020-08-08 10:16:22,325 INFO sqlalchemy.engine.base.Engine INSERT INTO records (participant_id, marathon_id, time) VALUES (?, ?, ?)\n",
      "2020-08-08 10:16:22,326 INFO sqlalchemy.engine.base.Engine (6, 1, '00:00:00.000000')\n",
      "2020-08-08 10:16:22,327 INFO sqlalchemy.engine.base.Engine COMMIT\n",
      "7\n",
      "2020-08-08 10:16:22,328 INFO sqlalchemy.engine.base.Engine INSERT INTO records (participant_id, marathon_id, time) VALUES (?, ?, ?)\n",
      "2020-08-08 10:16:22,329 INFO sqlalchemy.engine.base.Engine (7, 1, '00:00:00.000000')\n",
      "2020-08-08 10:16:22,329 INFO sqlalchemy.engine.base.Engine COMMIT\n",
      "8\n",
      "2020-08-08 10:16:22,331 INFO sqlalchemy.engine.base.Engine INSERT INTO records (participant_id, marathon_id, time) VALUES (?, ?, ?)\n",
      "2020-08-08 10:16:22,331 INFO sqlalchemy.engine.base.Engine (8, 1, '00:00:00.000000')\n",
      "2020-08-08 10:16:22,332 INFO sqlalchemy.engine.base.Engine COMMIT\n",
      "9\n",
      "2020-08-08 10:16:22,333 INFO sqlalchemy.engine.base.Engine INSERT INTO records (participant_id, marathon_id, time) VALUES (?, ?, ?)\n",
      "2020-08-08 10:16:22,333 INFO sqlalchemy.engine.base.Engine (9, 1, '00:00:00.000000')\n",
      "2020-08-08 10:16:22,334 INFO sqlalchemy.engine.base.Engine COMMIT\n",
      "10\n",
      "2020-08-08 10:16:22,336 INFO sqlalchemy.engine.base.Engine INSERT INTO records (participant_id, marathon_id, time) VALUES (?, ?, ?)\n",
      "2020-08-08 10:16:22,336 INFO sqlalchemy.engine.base.Engine (10, 1, '00:00:00.000000')\n",
      "2020-08-08 10:16:22,337 INFO sqlalchemy.engine.base.Engine COMMIT\n"
     ]
    }
   ],
   "source": [
    "import datetime\n",
    "\n",
    "s = select([marathons.c.marathon_id]).where(\n",
    "    marathons.c.marathon_name.like(\"2019%Boston%\")\n",
    ")\n",
    "rp = connection.execute(s)\n",
    "\n",
    "marathon_id = rp.fetchone()\n",
    "marathon_id = marathon_id[0]\n",
    "\n",
    "s = select([participants])\n",
    "rp = connection.execute(s)\n",
    "\n",
    "for participant in rp:\n",
    "    print(participant.participant_id)\n",
    "    i = records.insert().values(\n",
    "        participant_id = participant.participant_id,\n",
    "        marathon_id = 1,\n",
    "    )\n",
    "    connection.execute(i)"
   ]
  },
  {
   "cell_type": "code",
   "execution_count": 37,
   "metadata": {},
   "outputs": [
    {
     "name": "stdout",
     "output_type": "stream",
     "text": [
      "2020-08-08 10:16:22,345 INFO sqlalchemy.engine.base.Engine SELECT records.id, records.participant_id, records.marathon_id, records.time \n",
      "FROM records\n",
      "2020-08-08 10:16:22,346 INFO sqlalchemy.engine.base.Engine ()\n",
      "(1, 1, 1, datetime.time(0, 0))\n",
      "(2, 2, 1, datetime.time(0, 0))\n",
      "(3, 3, 1, datetime.time(0, 0))\n",
      "(4, 4, 1, datetime.time(0, 0))\n",
      "(5, 5, 1, datetime.time(0, 0))\n",
      "(6, 6, 1, datetime.time(0, 0))\n",
      "(7, 7, 1, datetime.time(0, 0))\n",
      "(8, 8, 1, datetime.time(0, 0))\n",
      "(9, 9, 1, datetime.time(0, 0))\n",
      "(10, 10, 1, datetime.time(0, 0))\n"
     ]
    }
   ],
   "source": [
    "s = select([records])\n",
    "rp = connection.execute(s)\n",
    "\n",
    "for record in rp:\n",
    "    print(record)"
   ]
  },
  {
   "cell_type": "code",
   "execution_count": 40,
   "metadata": {},
   "outputs": [
    {
     "name": "stdout",
     "output_type": "stream",
     "text": [
      "2020-08-08 10:16:51,932 INFO sqlalchemy.engine.base.Engine UPDATE records SET time=? WHERE records.participant_id = ?\n",
      "2020-08-08 10:16:51,933 INFO sqlalchemy.engine.base.Engine ('02:07:57.000000', 1)\n",
      "2020-08-08 10:16:51,934 INFO sqlalchemy.engine.base.Engine COMMIT\n",
      "1\n"
     ]
    }
   ],
   "source": [
    "from sqlalchemy import update\n",
    "\n",
    "u = update(records).where(records.c.participant_id == 1)\n",
    "u = u.values(time=datetime.time(2, 7, 57))\n",
    "result = connection.execute(u)\n",
    "print(result.rowcount)"
   ]
  },
  {
   "cell_type": "code",
   "execution_count": 41,
   "metadata": {},
   "outputs": [
    {
     "name": "stdout",
     "output_type": "stream",
     "text": [
      "2020-08-08 10:16:51,940 INFO sqlalchemy.engine.base.Engine SELECT records.id, records.participant_id, records.marathon_id, records.time \n",
      "FROM records\n",
      "2020-08-08 10:16:51,940 INFO sqlalchemy.engine.base.Engine ()\n",
      "(1, 1, 1, datetime.time(2, 7, 57))\n",
      "(2, 2, 1, datetime.time(0, 0))\n",
      "(3, 3, 1, datetime.time(0, 0))\n",
      "(4, 4, 1, datetime.time(0, 0))\n",
      "(5, 5, 1, datetime.time(0, 0))\n",
      "(6, 6, 1, datetime.time(0, 0))\n",
      "(7, 7, 1, datetime.time(0, 0))\n",
      "(8, 8, 1, datetime.time(0, 0))\n",
      "(9, 9, 1, datetime.time(0, 0))\n",
      "(10, 10, 1, datetime.time(0, 0))\n"
     ]
    }
   ],
   "source": [
    "s = select([records])\n",
    "rp = connection.execute(s)\n",
    "\n",
    "for record in rp:\n",
    "    print(record)"
   ]
  },
  {
   "cell_type": "markdown",
   "metadata": {},
   "source": [
    "### Deleting Data"
   ]
  },
  {
   "cell_type": "code",
   "execution_count": 42,
   "metadata": {},
   "outputs": [
    {
     "name": "stdout",
     "output_type": "stream",
     "text": [
      "2020-08-08 10:16:51,948 INFO sqlalchemy.engine.base.Engine DELETE FROM records WHERE records.participant_id = ?\n",
      "2020-08-08 10:16:51,949 INFO sqlalchemy.engine.base.Engine (1,)\n",
      "2020-08-08 10:16:51,950 INFO sqlalchemy.engine.base.Engine COMMIT\n",
      "1\n"
     ]
    }
   ],
   "source": [
    "from sqlalchemy import delete\n",
    "\n",
    "d = delete(records).where(records.c.participant_id == 1)\n",
    "result = connection.execute(d)\n",
    "print(result.rowcount)"
   ]
  },
  {
   "cell_type": "code",
   "execution_count": 43,
   "metadata": {},
   "outputs": [
    {
     "name": "stdout",
     "output_type": "stream",
     "text": [
      "2020-08-08 10:16:51,956 INFO sqlalchemy.engine.base.Engine SELECT records.id, records.participant_id, records.marathon_id, records.time \n",
      "FROM records\n",
      "2020-08-08 10:16:51,957 INFO sqlalchemy.engine.base.Engine ()\n",
      "(2, 2, 1, datetime.time(0, 0))\n",
      "(3, 3, 1, datetime.time(0, 0))\n",
      "(4, 4, 1, datetime.time(0, 0))\n",
      "(5, 5, 1, datetime.time(0, 0))\n",
      "(6, 6, 1, datetime.time(0, 0))\n",
      "(7, 7, 1, datetime.time(0, 0))\n",
      "(8, 8, 1, datetime.time(0, 0))\n",
      "(9, 9, 1, datetime.time(0, 0))\n",
      "(10, 10, 1, datetime.time(0, 0))\n"
     ]
    }
   ],
   "source": [
    "s = select([records])\n",
    "rp = connection.execute(s)\n",
    "\n",
    "for record in rp:\n",
    "    print(record)"
   ]
  },
  {
   "cell_type": "code",
   "execution_count": 44,
   "metadata": {},
   "outputs": [
    {
     "name": "stdout",
     "output_type": "stream",
     "text": [
      "2020-08-08 10:16:51,963 INFO sqlalchemy.engine.base.Engine INSERT INTO records (participant_id, marathon_id, time) VALUES (?, ?, ?)\n",
      "2020-08-08 10:16:51,963 INFO sqlalchemy.engine.base.Engine (1, 1, '00:00:00.000000')\n",
      "2020-08-08 10:16:51,964 INFO sqlalchemy.engine.base.Engine COMMIT\n"
     ]
    },
    {
     "data": {
      "text/plain": [
       "<sqlalchemy.engine.result.ResultProxy at 0x7ffc87805d10>"
      ]
     },
     "execution_count": 44,
     "metadata": {},
     "output_type": "execute_result"
    }
   ],
   "source": [
    "i = records.insert().values(\n",
    "    participant_id = 1,\n",
    "    marathon_id = 1\n",
    ")\n",
    "connection.execute(i)"
   ]
  },
  {
   "cell_type": "markdown",
   "metadata": {},
   "source": [
    "### Joins"
   ]
  },
  {
   "cell_type": "code",
   "execution_count": 45,
   "metadata": {},
   "outputs": [
    {
     "name": "stdout",
     "output_type": "stream",
     "text": [
      "records JOIN participants ON participants.participant_id = records.participant_id\n"
     ]
    }
   ],
   "source": [
    "j = records.join(participants)\n",
    "print(j)"
   ]
  },
  {
   "cell_type": "code",
   "execution_count": 46,
   "metadata": {},
   "outputs": [
    {
     "name": "stdout",
     "output_type": "stream",
     "text": [
      "records JOIN participants ON records.participant_id = participants.participant_id\n"
     ]
    }
   ],
   "source": [
    "j = records.join(participants, records.c.participant_id == participants.c.participant_id)\n",
    "print(j)"
   ]
  },
  {
   "cell_type": "code",
   "execution_count": 47,
   "metadata": {},
   "outputs": [
    {
     "name": "stdout",
     "output_type": "stream",
     "text": [
      "2020-08-08 10:16:51,982 INFO sqlalchemy.engine.base.Engine SELECT participants.athlete, records.time \n",
      "FROM records JOIN participants ON records.participant_id = participants.participant_id\n",
      "2020-08-08 10:16:51,982 INFO sqlalchemy.engine.base.Engine ()\n",
      "('Lelisa Desisa', datetime.time(0, 0))\n",
      "('Kenneth Kipkemoi', datetime.time(0, 0))\n",
      "('Felix Kandie', datetime.time(0, 0))\n",
      "('Geoffrey Kirui', datetime.time(0, 0))\n",
      "('Philemon Rono', datetime.time(0, 0))\n",
      "('Scott Fauble', datetime.time(0, 0))\n",
      "('Jared Ward', datetime.time(0, 0))\n",
      "('Festus Talam', datetime.time(0, 0))\n",
      "('Benson Kipruto', datetime.time(0, 0))\n",
      "('Lawrence Cherono', datetime.time(0, 0))\n"
     ]
    }
   ],
   "source": [
    "columns = [participants.c.athlete, records.c.time]\n",
    "s = select(columns).select_from(j)\n",
    "rp = connection.execute(s)\n",
    "\n",
    "for record in rp:\n",
    "    print(record)"
   ]
  },
  {
   "cell_type": "code",
   "execution_count": 48,
   "metadata": {},
   "outputs": [
    {
     "name": "stdout",
     "output_type": "stream",
     "text": [
      "records JOIN participants ON records.participant_id = participants.participant_id JOIN marathons ON records.marathon_id = marathons.marathon_id\n"
     ]
    }
   ],
   "source": [
    "j = records.join(\n",
    "    participants, records.c.participant_id == participants.c.participant_id\n",
    ").join(\n",
    "    marathons, records.c.marathon_id == marathons.c.marathon_id)\n",
    "    \n",
    "print(j)"
   ]
  },
  {
   "cell_type": "code",
   "execution_count": 49,
   "metadata": {},
   "outputs": [
    {
     "name": "stdout",
     "output_type": "stream",
     "text": [
      "2020-08-08 10:16:51,996 INFO sqlalchemy.engine.base.Engine SELECT marathons.marathon_name, participants.athlete, records.time \n",
      "FROM records JOIN participants ON records.participant_id = participants.participant_id JOIN marathons ON records.marathon_id = marathons.marathon_id\n",
      "2020-08-08 10:16:51,997 INFO sqlalchemy.engine.base.Engine ()\n",
      "('2019 Boston Marathon', 'Lelisa Desisa', datetime.time(0, 0))\n",
      "('2019 Boston Marathon', 'Kenneth Kipkemoi', datetime.time(0, 0))\n",
      "('2019 Boston Marathon', 'Felix Kandie', datetime.time(0, 0))\n",
      "('2019 Boston Marathon', 'Geoffrey Kirui', datetime.time(0, 0))\n",
      "('2019 Boston Marathon', 'Philemon Rono', datetime.time(0, 0))\n",
      "('2019 Boston Marathon', 'Scott Fauble', datetime.time(0, 0))\n",
      "('2019 Boston Marathon', 'Jared Ward', datetime.time(0, 0))\n",
      "('2019 Boston Marathon', 'Festus Talam', datetime.time(0, 0))\n",
      "('2019 Boston Marathon', 'Benson Kipruto', datetime.time(0, 0))\n",
      "('2019 Boston Marathon', 'Lawrence Cherono', datetime.time(0, 0))\n"
     ]
    }
   ],
   "source": [
    "columns = [marathons.c.marathon_name, participants.c.athlete, records.c.time]\n",
    "s = select(columns).select_from(j)\n",
    "rp = connection.execute(s)\n",
    "\n",
    "for record in rp:\n",
    "    print(record)"
   ]
  },
  {
   "cell_type": "markdown",
   "metadata": {},
   "source": [
    "### Aliases"
   ]
  },
  {
   "cell_type": "code",
   "execution_count": 50,
   "metadata": {},
   "outputs": [
    {
     "name": "stdout",
     "output_type": "stream",
     "text": [
      "SELECT player.athlete \n",
      "FROM participants AS player\n"
     ]
    }
   ],
   "source": [
    "player = participants.alias('player')\n",
    "\n",
    "s = select([player.c.athlete])\n",
    "print(s)"
   ]
  },
  {
   "cell_type": "markdown",
   "metadata": {},
   "source": [
    "### Grouping"
   ]
  },
  {
   "cell_type": "code",
   "execution_count": 51,
   "metadata": {},
   "outputs": [
    {
     "name": "stdout",
     "output_type": "stream",
     "text": [
      "2020-08-08 10:16:52,012 INFO sqlalchemy.engine.base.Engine SELECT participants.nationality, count(participants.athlete) AS count_1 \n",
      "FROM participants GROUP BY participants.nationality\n",
      "2020-08-08 10:16:52,012 INFO sqlalchemy.engine.base.Engine ()\n",
      "('Ethiopia', 1)\n",
      "('Kenya', 7)\n",
      "('United States', 2)\n"
     ]
    }
   ],
   "source": [
    "from sqlalchemy import func \n",
    "\n",
    "s = select([participants.c.nationality, func.count(participants.c.athlete)])\n",
    "s = s.group_by(participants.c.nationality)\n",
    "rp = connection.execute(s)\n",
    "\n",
    "for participant in rp:\n",
    "    print(participant)"
   ]
  },
  {
   "cell_type": "markdown",
   "metadata": {},
   "source": [
    "### Chaning"
   ]
  },
  {
   "cell_type": "code",
   "execution_count": null,
   "metadata": {},
   "outputs": [],
   "source": []
  },
  {
   "cell_type": "markdown",
   "metadata": {},
   "source": [
    "### Raw Queies"
   ]
  },
  {
   "cell_type": "code",
   "execution_count": 52,
   "metadata": {},
   "outputs": [
    {
     "name": "stdout",
     "output_type": "stream",
     "text": [
      "2020-08-08 10:16:52,019 INFO sqlalchemy.engine.base.Engine SELECT participants.participant_id, participants.athlete, participants.nationality, participants.sex \n",
      "FROM participants \n",
      "WHERE athlete like '%Lawrence%'\n",
      "2020-08-08 10:16:52,020 INFO sqlalchemy.engine.base.Engine ()\n",
      "(1, 'Lawrence Cherono', 'Kenya', True)\n"
     ]
    }
   ],
   "source": [
    "from sqlalchemy import text\n",
    "\n",
    "s = select([participants]).where(text(\"athlete like '%Lawrence%'\"))\n",
    "rp = connection.execute(s)\n",
    "\n",
    "for participant in rp:\n",
    "    print(participant)"
   ]
  },
  {
   "cell_type": "code",
   "execution_count": null,
   "metadata": {},
   "outputs": [],
   "source": []
  }
 ],
 "metadata": {
  "kernelspec": {
   "display_name": "Python 3",
   "language": "python",
   "name": "python3"
  },
  "language_info": {
   "codemirror_mode": {
    "name": "ipython",
    "version": 3
   },
   "file_extension": ".py",
   "mimetype": "text/x-python",
   "name": "python",
   "nbconvert_exporter": "python",
   "pygments_lexer": "ipython3",
   "version": "3.7.6"
  }
 },
 "nbformat": 4,
 "nbformat_minor": 2
}
