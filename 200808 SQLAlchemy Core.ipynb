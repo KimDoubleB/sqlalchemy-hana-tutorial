{
 "cells": [
  {
   "cell_type": "code",
   "execution_count": 1,
   "metadata": {},
   "outputs": [
    {
     "name": "stdout",
     "output_type": "stream",
     "text": [
      "200808 SQLAlchemy Core.ipynb   SQLAlchemy-HANA Type.ipynb\r\n",
      "200808 SQLAlchemy ORM.ipynb    SQLAlchemy-hana.ipynb\r\n",
      "LICENSE                        marathon_men.db\r\n",
      "README.md                      marathon_women.db\r\n",
      "SQLAlchemy Core.ipynb          requirements.txt\r\n",
      "SQLAlchemy ORM.ipynb           sqlalchemy-hana-connection.py\r\n",
      "SQLAlchemy-HANA ORM Type.ipynb sqlalchemy-hana-select.py\r\n"
     ]
    }
   ],
   "source": [
    "!ls"
   ]
  },
  {
   "cell_type": "code",
   "execution_count": 2,
   "metadata": {},
   "outputs": [
    {
     "name": "stdout",
     "output_type": "stream",
     "text": [
      "rm: user_post_core.db: No such file or directory\r\n"
     ]
    }
   ],
   "source": [
    "!rm user_post_core.db"
   ]
  },
  {
   "cell_type": "code",
   "execution_count": 3,
   "metadata": {},
   "outputs": [
    {
     "data": {
      "text/plain": [
       "Engine(sqlite:///user_post_core.db)"
      ]
     },
     "execution_count": 3,
     "metadata": {},
     "output_type": "execute_result"
    }
   ],
   "source": [
    "from sqlalchemy import create_engine\n",
    "engine = create_engine('sqlite:///user_post_core.db', echo=True)\n",
    "engine"
   ]
  },
  {
   "cell_type": "code",
   "execution_count": 4,
   "metadata": {},
   "outputs": [],
   "source": [
    "from sqlalchemy import MetaData\n",
    "metadata = MetaData()"
   ]
  },
  {
   "cell_type": "code",
   "execution_count": 5,
   "metadata": {},
   "outputs": [],
   "source": [
    "from sqlalchemy import Table, Column, Integer, String, Float, Time, Boolean, DATE, DateTime\n",
    "from sqlalchemy import ForeignKey, ForeignKeyConstraint\n",
    "from sqlalchemy import PrimaryKeyConstraint\n",
    "from sqlalchemy import UniqueConstraint\n",
    "from sqlalchemy import Index\n",
    "from sqlalchemy.sql import text\n",
    "\n",
    "import datetime\n",
    "user = Table(\"user\",\n",
    "             metadata,\n",
    "             Column(\"user_id\", Integer(), primary_key=True, autoincrement=True),\n",
    "             Column(\"name\", String(20), nullable=False)\n",
    "            )\n",
    "\n",
    "posts = Table(\"posts\",\n",
    "              metadata,\n",
    "              Column(\"id\", Integer(), primary_key=True, unique=True),\n",
    "              Column(\"title\", String(255), nullable=False),\n",
    "              Column(\"body\", String(2048), nullable=False),\n",
    "              Column(\"createdTime\", DateTime(), default=text(\"current_timestamp\")),\n",
    "              Column(\"viewCount\", Integer(), default=10),\n",
    "              Column(\"user_id\", ForeignKey(\"user.user_id\")),\n",
    "              ForeignKeyConstraint([\"user_id\"], [\"user.user_id\"])\n",
    "             )"
   ]
  },
  {
   "cell_type": "code",
   "execution_count": 6,
   "metadata": {},
   "outputs": [
    {
     "name": "stdout",
     "output_type": "stream",
     "text": [
      "2020-08-08 11:32:05,176 INFO sqlalchemy.engine.base.Engine SELECT CAST('test plain returns' AS VARCHAR(60)) AS anon_1\n",
      "2020-08-08 11:32:05,176 INFO sqlalchemy.engine.base.Engine ()\n",
      "2020-08-08 11:32:05,177 INFO sqlalchemy.engine.base.Engine SELECT CAST('test unicode returns' AS VARCHAR(60)) AS anon_1\n",
      "2020-08-08 11:32:05,178 INFO sqlalchemy.engine.base.Engine ()\n",
      "2020-08-08 11:32:05,179 INFO sqlalchemy.engine.base.Engine PRAGMA main.table_info(\"user\")\n",
      "2020-08-08 11:32:05,180 INFO sqlalchemy.engine.base.Engine ()\n",
      "2020-08-08 11:32:05,180 INFO sqlalchemy.engine.base.Engine PRAGMA temp.table_info(\"user\")\n",
      "2020-08-08 11:32:05,181 INFO sqlalchemy.engine.base.Engine ()\n",
      "2020-08-08 11:32:05,182 INFO sqlalchemy.engine.base.Engine PRAGMA main.table_info(\"posts\")\n",
      "2020-08-08 11:32:05,182 INFO sqlalchemy.engine.base.Engine ()\n",
      "2020-08-08 11:32:05,183 INFO sqlalchemy.engine.base.Engine PRAGMA temp.table_info(\"posts\")\n",
      "2020-08-08 11:32:05,183 INFO sqlalchemy.engine.base.Engine ()\n",
      "2020-08-08 11:32:05,184 INFO sqlalchemy.engine.base.Engine \n",
      "CREATE TABLE user (\n",
      "\tuser_id INTEGER NOT NULL, \n",
      "\tname VARCHAR(20) NOT NULL, \n",
      "\tPRIMARY KEY (user_id)\n",
      ")\n",
      "\n",
      "\n",
      "2020-08-08 11:32:05,185 INFO sqlalchemy.engine.base.Engine ()\n",
      "2020-08-08 11:32:05,186 INFO sqlalchemy.engine.base.Engine COMMIT\n",
      "2020-08-08 11:32:05,187 INFO sqlalchemy.engine.base.Engine \n",
      "CREATE TABLE posts (\n",
      "\tid INTEGER NOT NULL, \n",
      "\ttitle VARCHAR(255) NOT NULL, \n",
      "\tbody VARCHAR(2048) NOT NULL, \n",
      "\t\"createdTime\" DATETIME, \n",
      "\t\"viewCount\" INTEGER, \n",
      "\tuser_id INTEGER, \n",
      "\tPRIMARY KEY (id), \n",
      "\tFOREIGN KEY(user_id) REFERENCES user (user_id), \n",
      "\tUNIQUE (id), \n",
      "\tFOREIGN KEY(user_id) REFERENCES user (user_id)\n",
      ")\n",
      "\n",
      "\n",
      "2020-08-08 11:32:05,188 INFO sqlalchemy.engine.base.Engine ()\n",
      "2020-08-08 11:32:05,190 INFO sqlalchemy.engine.base.Engine COMMIT\n"
     ]
    }
   ],
   "source": [
    "metadata.create_all(engine)"
   ]
  },
  {
   "cell_type": "code",
   "execution_count": 7,
   "metadata": {},
   "outputs": [],
   "source": [
    "connection = engine.connect()"
   ]
  },
  {
   "cell_type": "code",
   "execution_count": 9,
   "metadata": {},
   "outputs": [
    {
     "name": "stdout",
     "output_type": "stream",
     "text": [
      "2020-08-08 11:33:29,293 INFO sqlalchemy.engine.base.Engine INSERT INTO user (name) VALUES (?)\n",
      "2020-08-08 11:33:29,294 INFO sqlalchemy.engine.base.Engine ('김보배',)\n",
      "2020-08-08 11:33:29,295 INFO sqlalchemy.engine.base.Engine COMMIT\n",
      "[2]\n",
      "<sqlalchemy.engine.result.ResultProxy object at 0x7f846f874c50>\n"
     ]
    }
   ],
   "source": [
    "insert = user.insert().values(name=\"김보배\")\n",
    "result = connection.execute(insert)\n",
    "print(result.inserted_primary_key)"
   ]
  },
  {
   "cell_type": "code",
   "execution_count": null,
   "metadata": {},
   "outputs": [],
   "source": []
  },
  {
   "cell_type": "code",
   "execution_count": null,
   "metadata": {},
   "outputs": [],
   "source": []
  },
  {
   "cell_type": "code",
   "execution_count": null,
   "metadata": {},
   "outputs": [],
   "source": []
  },
  {
   "cell_type": "code",
   "execution_count": null,
   "metadata": {},
   "outputs": [],
   "source": []
  },
  {
   "cell_type": "code",
   "execution_count": null,
   "metadata": {},
   "outputs": [],
   "source": []
  },
  {
   "cell_type": "code",
   "execution_count": null,
   "metadata": {},
   "outputs": [],
   "source": []
  }
 ],
 "metadata": {
  "kernelspec": {
   "display_name": "Python 3",
   "language": "python",
   "name": "python3"
  },
  "language_info": {
   "codemirror_mode": {
    "name": "ipython",
    "version": 3
   },
   "file_extension": ".py",
   "mimetype": "text/x-python",
   "name": "python",
   "nbconvert_exporter": "python",
   "pygments_lexer": "ipython3",
   "version": "3.7.6"
  }
 },
 "nbformat": 4,
 "nbformat_minor": 4
}
