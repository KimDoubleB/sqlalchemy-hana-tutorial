{
 "cells": [
  {
   "cell_type": "markdown",
   "metadata": {},
   "source": [
    "## Create Scheme"
   ]
  },
  {
   "cell_type": "code",
   "execution_count": 1,
   "metadata": {},
   "outputs": [],
   "source": [
    "!rm test.db"
   ]
  },
  {
   "cell_type": "code",
   "execution_count": 2,
   "metadata": {},
   "outputs": [],
   "source": [
    "from sqlalchemy.ext.declarative import declarative_base\n",
    "from sqlalchemy import Table, Column, Integer, String, Float, DateTime, Boolean, DATE\n",
    "from sqlalchemy import ForeignKey\n",
    "from sqlalchemy.orm import relationship, backref\n",
    "from sqlalchemy.sql import func\n",
    "\n",
    "import datetime\n",
    "\n",
    "Base = declarative_base()"
   ]
  },
  {
   "cell_type": "code",
   "execution_count": 3,
   "metadata": {},
   "outputs": [],
   "source": [
    "class User(Base):\n",
    "    __tablename__ = \"user\"\n",
    "    \n",
    "    id = Column(Integer(), primary_key=True)\n",
    "    name = Column(String(20), nullable=False)\n",
    "    \n",
    "    def __str__(self):\n",
    "        return self.name\n",
    "    \n",
    "    \n",
    "class Posts(Base):\n",
    "    __tablename__ = \"posts\"\n",
    "    \n",
    "    id = Column(Integer(), primary_key=True, unique=True)\n",
    "    title = Column(String(255), nullable=False)\n",
    "    body = Column(String(2048), nullable=False)\n",
    "    created_time = Column(DateTime(), default=func.now())\n",
    "    view_count = Column(Integer(), default=10)\n",
    "    owner_user_id = Column(Integer(), ForeignKey(\"user.id\"))\n",
    "    \n",
    "    owner_user = relationship(\"User\", backref=backref(\"posts\"))\n",
    "    \n",
    "    def __str__(self):\n",
    "        return f'title: {self.title}, body: {self.body}, view_count:{self.view_count} created_time: {self.created_time}, owner_user_id:{self.owner_user_id}'\n",
    "    "
   ]
  },
  {
   "cell_type": "code",
   "execution_count": 4,
   "metadata": {},
   "outputs": [
    {
     "name": "stdout",
     "output_type": "stream",
     "text": [
      "2020-08-08 12:40:27,213 INFO sqlalchemy.engine.base.Engine SELECT CAST('test plain returns' AS VARCHAR(60)) AS anon_1\n",
      "2020-08-08 12:40:27,213 INFO sqlalchemy.engine.base.Engine ()\n",
      "2020-08-08 12:40:27,214 INFO sqlalchemy.engine.base.Engine SELECT CAST('test unicode returns' AS VARCHAR(60)) AS anon_1\n",
      "2020-08-08 12:40:27,215 INFO sqlalchemy.engine.base.Engine ()\n",
      "2020-08-08 12:40:27,216 INFO sqlalchemy.engine.base.Engine PRAGMA main.table_info(\"user\")\n",
      "2020-08-08 12:40:27,216 INFO sqlalchemy.engine.base.Engine ()\n",
      "2020-08-08 12:40:27,217 INFO sqlalchemy.engine.base.Engine PRAGMA temp.table_info(\"user\")\n",
      "2020-08-08 12:40:27,217 INFO sqlalchemy.engine.base.Engine ()\n",
      "2020-08-08 12:40:27,218 INFO sqlalchemy.engine.base.Engine PRAGMA main.table_info(\"posts\")\n",
      "2020-08-08 12:40:27,219 INFO sqlalchemy.engine.base.Engine ()\n",
      "2020-08-08 12:40:27,219 INFO sqlalchemy.engine.base.Engine PRAGMA temp.table_info(\"posts\")\n",
      "2020-08-08 12:40:27,220 INFO sqlalchemy.engine.base.Engine ()\n",
      "2020-08-08 12:40:27,221 INFO sqlalchemy.engine.base.Engine \n",
      "CREATE TABLE user (\n",
      "\tid INTEGER NOT NULL, \n",
      "\tname VARCHAR(20) NOT NULL, \n",
      "\tPRIMARY KEY (id)\n",
      ")\n",
      "\n",
      "\n",
      "2020-08-08 12:40:27,221 INFO sqlalchemy.engine.base.Engine ()\n",
      "2020-08-08 12:40:27,222 INFO sqlalchemy.engine.base.Engine COMMIT\n",
      "2020-08-08 12:40:27,223 INFO sqlalchemy.engine.base.Engine \n",
      "CREATE TABLE posts (\n",
      "\tid INTEGER NOT NULL, \n",
      "\ttitle VARCHAR(255) NOT NULL, \n",
      "\tbody VARCHAR(2048) NOT NULL, \n",
      "\tcreated_time DATETIME, \n",
      "\tview_count INTEGER, \n",
      "\towner_user_id INTEGER, \n",
      "\tPRIMARY KEY (id), \n",
      "\tUNIQUE (id), \n",
      "\tFOREIGN KEY(owner_user_id) REFERENCES user (id)\n",
      ")\n",
      "\n",
      "\n",
      "2020-08-08 12:40:27,224 INFO sqlalchemy.engine.base.Engine ()\n",
      "2020-08-08 12:40:27,225 INFO sqlalchemy.engine.base.Engine COMMIT\n"
     ]
    }
   ],
   "source": [
    "from sqlalchemy import create_engine\n",
    "engine = create_engine('sqlite:///test.db', echo=True)\n",
    "\n",
    "Base.metadata.create_all(engine)"
   ]
  },
  {
   "cell_type": "markdown",
   "metadata": {},
   "source": [
    "# Insert"
   ]
  },
  {
   "cell_type": "code",
   "execution_count": 5,
   "metadata": {},
   "outputs": [],
   "source": [
    "from sqlalchemy.orm import sessionmaker\n",
    "\n",
    "Session = sessionmaker(bind=engine)\n",
    "session = Session()"
   ]
  },
  {
   "cell_type": "code",
   "execution_count": 6,
   "metadata": {},
   "outputs": [
    {
     "name": "stdout",
     "output_type": "stream",
     "text": [
      "2020-08-08 12:40:27,240 INFO sqlalchemy.engine.base.Engine BEGIN (implicit)\n",
      "2020-08-08 12:40:27,241 INFO sqlalchemy.engine.base.Engine INSERT INTO user (id, name) VALUES (?, ?)\n",
      "2020-08-08 12:40:27,241 INFO sqlalchemy.engine.base.Engine ((1, '권태형'), (2, '박소현'), (3, '박유정'), (4, '박진형'))\n",
      "2020-08-08 12:40:27,243 INFO sqlalchemy.engine.base.Engine COMMIT\n"
     ]
    }
   ],
   "source": [
    "users = [\n",
    "    User(id=1, name=\"권태형\"),\n",
    "    User(id=2, name=\"박소현\"),\n",
    "    User(id=3, name=\"박유정\"),\n",
    "    User(id=4, name=\"박진형\"),    \n",
    "]\n",
    "session.bulk_save_objects(users)\n",
    "session.commit()"
   ]
  },
  {
   "cell_type": "code",
   "execution_count": 7,
   "metadata": {},
   "outputs": [
    {
     "name": "stdout",
     "output_type": "stream",
     "text": [
      "2020-08-08 12:40:27,252 INFO sqlalchemy.engine.base.Engine BEGIN (implicit)\n",
      "2020-08-08 12:40:27,254 INFO sqlalchemy.engine.base.Engine INSERT INTO posts (id, title, body, created_time, view_count, owner_user_id) VALUES (?, ?, ?, CURRENT_TIMESTAMP, ?, ?)\n",
      "2020-08-08 12:40:27,255 INFO sqlalchemy.engine.base.Engine ((1, 'title 1', 'body 1', 10, 1), (2, 'title 2', 'body 2', 10, 1), (3, 'title 3', 'body 3', 10, 1), (4, 'title 4', 'body 4', 10, 1), (5, 'title 5', 'body 5', 10, 1), (6, 'title 6', 'body 6', 10, 1), (7, 'title 7', 'body 7', 10, 1), (8, 'title 8', 'body 8', 10, 1)  ... displaying 10 of 49 total bound parameter sets ...  (48, 'title 48', 'body 48', 10, 1), (49, 'title 49', 'body 49', 10, 1))\n",
      "2020-08-08 12:40:27,257 INFO sqlalchemy.engine.base.Engine COMMIT\n"
     ]
    }
   ],
   "source": [
    "posts = [\n",
    "    Posts(\n",
    "        id=i, \n",
    "        title=\"title {}\".format(i), \n",
    "        body=\"body {}\".format(i), \n",
    "        owner_user_id=1,\n",
    "    ) for i in range(1, 50)\n",
    "]\n",
    "\n",
    "session.bulk_save_objects(posts)\n",
    "session.commit()"
   ]
  },
  {
   "cell_type": "markdown",
   "metadata": {},
   "source": [
    "# SELECT"
   ]
  },
  {
   "cell_type": "code",
   "execution_count": 8,
   "metadata": {},
   "outputs": [
    {
     "name": "stdout",
     "output_type": "stream",
     "text": [
      "2020-08-08 12:40:27,266 INFO sqlalchemy.engine.base.Engine BEGIN (implicit)\n",
      "2020-08-08 12:40:27,268 INFO sqlalchemy.engine.base.Engine SELECT user.id AS user_id, user.name AS user_name \n",
      "FROM user\n",
      "2020-08-08 12:40:27,269 INFO sqlalchemy.engine.base.Engine ()\n",
      "권태형\n",
      "박소현\n",
      "박유정\n",
      "박진형\n"
     ]
    }
   ],
   "source": [
    "users = session.query(User).all()\n",
    "for ele in users:\n",
    "    print(ele)"
   ]
  },
  {
   "cell_type": "code",
   "execution_count": 9,
   "metadata": {},
   "outputs": [
    {
     "name": "stdout",
     "output_type": "stream",
     "text": [
      "2020-08-08 12:40:27,278 INFO sqlalchemy.engine.base.Engine SELECT posts.id AS posts_id, posts.title AS posts_title, posts.body AS posts_body, posts.created_time AS posts_created_time, posts.view_count AS posts_view_count, posts.owner_user_id AS posts_owner_user_id \n",
      "FROM posts\n",
      "2020-08-08 12:40:27,279 INFO sqlalchemy.engine.base.Engine ()\n",
      "title: title 1, body: body 1, view_count:10 created_time: 2020-08-08 03:40:27, owner_user_id:1\n",
      "title: title 2, body: body 2, view_count:10 created_time: 2020-08-08 03:40:27, owner_user_id:1\n",
      "title: title 3, body: body 3, view_count:10 created_time: 2020-08-08 03:40:27, owner_user_id:1\n",
      "title: title 4, body: body 4, view_count:10 created_time: 2020-08-08 03:40:27, owner_user_id:1\n",
      "title: title 5, body: body 5, view_count:10 created_time: 2020-08-08 03:40:27, owner_user_id:1\n",
      "title: title 6, body: body 6, view_count:10 created_time: 2020-08-08 03:40:27, owner_user_id:1\n",
      "title: title 7, body: body 7, view_count:10 created_time: 2020-08-08 03:40:27, owner_user_id:1\n",
      "title: title 8, body: body 8, view_count:10 created_time: 2020-08-08 03:40:27, owner_user_id:1\n",
      "title: title 9, body: body 9, view_count:10 created_time: 2020-08-08 03:40:27, owner_user_id:1\n",
      "title: title 10, body: body 10, view_count:10 created_time: 2020-08-08 03:40:27, owner_user_id:1\n",
      "title: title 11, body: body 11, view_count:10 created_time: 2020-08-08 03:40:27, owner_user_id:1\n",
      "title: title 12, body: body 12, view_count:10 created_time: 2020-08-08 03:40:27, owner_user_id:1\n",
      "title: title 13, body: body 13, view_count:10 created_time: 2020-08-08 03:40:27, owner_user_id:1\n",
      "title: title 14, body: body 14, view_count:10 created_time: 2020-08-08 03:40:27, owner_user_id:1\n",
      "title: title 15, body: body 15, view_count:10 created_time: 2020-08-08 03:40:27, owner_user_id:1\n",
      "title: title 16, body: body 16, view_count:10 created_time: 2020-08-08 03:40:27, owner_user_id:1\n",
      "title: title 17, body: body 17, view_count:10 created_time: 2020-08-08 03:40:27, owner_user_id:1\n",
      "title: title 18, body: body 18, view_count:10 created_time: 2020-08-08 03:40:27, owner_user_id:1\n",
      "title: title 19, body: body 19, view_count:10 created_time: 2020-08-08 03:40:27, owner_user_id:1\n",
      "title: title 20, body: body 20, view_count:10 created_time: 2020-08-08 03:40:27, owner_user_id:1\n",
      "title: title 21, body: body 21, view_count:10 created_time: 2020-08-08 03:40:27, owner_user_id:1\n",
      "title: title 22, body: body 22, view_count:10 created_time: 2020-08-08 03:40:27, owner_user_id:1\n",
      "title: title 23, body: body 23, view_count:10 created_time: 2020-08-08 03:40:27, owner_user_id:1\n",
      "title: title 24, body: body 24, view_count:10 created_time: 2020-08-08 03:40:27, owner_user_id:1\n",
      "title: title 25, body: body 25, view_count:10 created_time: 2020-08-08 03:40:27, owner_user_id:1\n",
      "title: title 26, body: body 26, view_count:10 created_time: 2020-08-08 03:40:27, owner_user_id:1\n",
      "title: title 27, body: body 27, view_count:10 created_time: 2020-08-08 03:40:27, owner_user_id:1\n",
      "title: title 28, body: body 28, view_count:10 created_time: 2020-08-08 03:40:27, owner_user_id:1\n",
      "title: title 29, body: body 29, view_count:10 created_time: 2020-08-08 03:40:27, owner_user_id:1\n",
      "title: title 30, body: body 30, view_count:10 created_time: 2020-08-08 03:40:27, owner_user_id:1\n",
      "title: title 31, body: body 31, view_count:10 created_time: 2020-08-08 03:40:27, owner_user_id:1\n",
      "title: title 32, body: body 32, view_count:10 created_time: 2020-08-08 03:40:27, owner_user_id:1\n",
      "title: title 33, body: body 33, view_count:10 created_time: 2020-08-08 03:40:27, owner_user_id:1\n",
      "title: title 34, body: body 34, view_count:10 created_time: 2020-08-08 03:40:27, owner_user_id:1\n",
      "title: title 35, body: body 35, view_count:10 created_time: 2020-08-08 03:40:27, owner_user_id:1\n",
      "title: title 36, body: body 36, view_count:10 created_time: 2020-08-08 03:40:27, owner_user_id:1\n",
      "title: title 37, body: body 37, view_count:10 created_time: 2020-08-08 03:40:27, owner_user_id:1\n",
      "title: title 38, body: body 38, view_count:10 created_time: 2020-08-08 03:40:27, owner_user_id:1\n",
      "title: title 39, body: body 39, view_count:10 created_time: 2020-08-08 03:40:27, owner_user_id:1\n",
      "title: title 40, body: body 40, view_count:10 created_time: 2020-08-08 03:40:27, owner_user_id:1\n",
      "title: title 41, body: body 41, view_count:10 created_time: 2020-08-08 03:40:27, owner_user_id:1\n",
      "title: title 42, body: body 42, view_count:10 created_time: 2020-08-08 03:40:27, owner_user_id:1\n",
      "title: title 43, body: body 43, view_count:10 created_time: 2020-08-08 03:40:27, owner_user_id:1\n",
      "title: title 44, body: body 44, view_count:10 created_time: 2020-08-08 03:40:27, owner_user_id:1\n",
      "title: title 45, body: body 45, view_count:10 created_time: 2020-08-08 03:40:27, owner_user_id:1\n",
      "title: title 46, body: body 46, view_count:10 created_time: 2020-08-08 03:40:27, owner_user_id:1\n",
      "title: title 47, body: body 47, view_count:10 created_time: 2020-08-08 03:40:27, owner_user_id:1\n",
      "title: title 48, body: body 48, view_count:10 created_time: 2020-08-08 03:40:27, owner_user_id:1\n",
      "title: title 49, body: body 49, view_count:10 created_time: 2020-08-08 03:40:27, owner_user_id:1\n"
     ]
    }
   ],
   "source": [
    "posts = session.query(Posts).all()\n",
    "for ele in posts:\n",
    "    print(ele)"
   ]
  },
  {
   "cell_type": "code",
   "execution_count": 10,
   "metadata": {},
   "outputs": [
    {
     "name": "stdout",
     "output_type": "stream",
     "text": [
      "2020-08-08 12:40:27,291 INFO sqlalchemy.engine.base.Engine SELECT user.name AS user_name \n",
      "FROM user ORDER BY user.name DESC\n",
      "2020-08-08 12:40:27,293 INFO sqlalchemy.engine.base.Engine ()\n",
      "('박진형',)\n",
      "('박유정',)\n",
      "('박소현',)\n",
      "('권태형',)\n"
     ]
    }
   ],
   "source": [
    "from sqlalchemy import desc\n",
    "\n",
    "for user in session.query(User.name).order_by(desc(User.name)):\n",
    "    print(user)"
   ]
  },
  {
   "cell_type": "code",
   "execution_count": 11,
   "metadata": {},
   "outputs": [
    {
     "name": "stdout",
     "output_type": "stream",
     "text": [
      "2020-08-08 12:40:27,303 INFO sqlalchemy.engine.base.Engine SELECT user.id AS user_id, user.name AS user_name \n",
      "FROM user \n",
      "WHERE user.id = ?\n",
      " LIMIT ? OFFSET ?\n",
      "2020-08-08 12:40:27,304 INFO sqlalchemy.engine.base.Engine (1, 1, 0)\n",
      "권태형\n"
     ]
    }
   ],
   "source": [
    "user = session.query(User).filter(User.id == 1).first()\n",
    "print(user)"
   ]
  },
  {
   "cell_type": "code",
   "execution_count": 12,
   "metadata": {
    "scrolled": true
   },
   "outputs": [
    {
     "name": "stdout",
     "output_type": "stream",
     "text": [
      "2020-08-08 12:40:27,312 INFO sqlalchemy.engine.base.Engine SELECT posts.id AS posts_id, posts.title AS posts_title, posts.body AS posts_body, posts.created_time AS posts_created_time, posts.view_count AS posts_view_count, posts.owner_user_id AS posts_owner_user_id \n",
      "FROM posts ORDER BY posts.created_time DESC\n",
      "2020-08-08 12:40:27,313 INFO sqlalchemy.engine.base.Engine ()\n",
      "title: title 1, body: body 1, view_count:10 created_time: 2020-08-08 03:40:27, owner_user_id:1\n",
      "title: title 2, body: body 2, view_count:10 created_time: 2020-08-08 03:40:27, owner_user_id:1\n",
      "title: title 3, body: body 3, view_count:10 created_time: 2020-08-08 03:40:27, owner_user_id:1\n",
      "title: title 4, body: body 4, view_count:10 created_time: 2020-08-08 03:40:27, owner_user_id:1\n",
      "title: title 5, body: body 5, view_count:10 created_time: 2020-08-08 03:40:27, owner_user_id:1\n",
      "title: title 6, body: body 6, view_count:10 created_time: 2020-08-08 03:40:27, owner_user_id:1\n",
      "title: title 7, body: body 7, view_count:10 created_time: 2020-08-08 03:40:27, owner_user_id:1\n",
      "title: title 8, body: body 8, view_count:10 created_time: 2020-08-08 03:40:27, owner_user_id:1\n",
      "title: title 9, body: body 9, view_count:10 created_time: 2020-08-08 03:40:27, owner_user_id:1\n",
      "title: title 10, body: body 10, view_count:10 created_time: 2020-08-08 03:40:27, owner_user_id:1\n",
      "title: title 11, body: body 11, view_count:10 created_time: 2020-08-08 03:40:27, owner_user_id:1\n",
      "title: title 12, body: body 12, view_count:10 created_time: 2020-08-08 03:40:27, owner_user_id:1\n",
      "title: title 13, body: body 13, view_count:10 created_time: 2020-08-08 03:40:27, owner_user_id:1\n",
      "title: title 14, body: body 14, view_count:10 created_time: 2020-08-08 03:40:27, owner_user_id:1\n",
      "title: title 15, body: body 15, view_count:10 created_time: 2020-08-08 03:40:27, owner_user_id:1\n",
      "title: title 16, body: body 16, view_count:10 created_time: 2020-08-08 03:40:27, owner_user_id:1\n",
      "title: title 17, body: body 17, view_count:10 created_time: 2020-08-08 03:40:27, owner_user_id:1\n",
      "title: title 18, body: body 18, view_count:10 created_time: 2020-08-08 03:40:27, owner_user_id:1\n",
      "title: title 19, body: body 19, view_count:10 created_time: 2020-08-08 03:40:27, owner_user_id:1\n",
      "title: title 20, body: body 20, view_count:10 created_time: 2020-08-08 03:40:27, owner_user_id:1\n",
      "title: title 21, body: body 21, view_count:10 created_time: 2020-08-08 03:40:27, owner_user_id:1\n",
      "title: title 22, body: body 22, view_count:10 created_time: 2020-08-08 03:40:27, owner_user_id:1\n",
      "title: title 23, body: body 23, view_count:10 created_time: 2020-08-08 03:40:27, owner_user_id:1\n",
      "title: title 24, body: body 24, view_count:10 created_time: 2020-08-08 03:40:27, owner_user_id:1\n",
      "title: title 25, body: body 25, view_count:10 created_time: 2020-08-08 03:40:27, owner_user_id:1\n",
      "title: title 26, body: body 26, view_count:10 created_time: 2020-08-08 03:40:27, owner_user_id:1\n",
      "title: title 27, body: body 27, view_count:10 created_time: 2020-08-08 03:40:27, owner_user_id:1\n",
      "title: title 28, body: body 28, view_count:10 created_time: 2020-08-08 03:40:27, owner_user_id:1\n",
      "title: title 29, body: body 29, view_count:10 created_time: 2020-08-08 03:40:27, owner_user_id:1\n",
      "title: title 30, body: body 30, view_count:10 created_time: 2020-08-08 03:40:27, owner_user_id:1\n",
      "title: title 31, body: body 31, view_count:10 created_time: 2020-08-08 03:40:27, owner_user_id:1\n",
      "title: title 32, body: body 32, view_count:10 created_time: 2020-08-08 03:40:27, owner_user_id:1\n",
      "title: title 33, body: body 33, view_count:10 created_time: 2020-08-08 03:40:27, owner_user_id:1\n",
      "title: title 34, body: body 34, view_count:10 created_time: 2020-08-08 03:40:27, owner_user_id:1\n",
      "title: title 35, body: body 35, view_count:10 created_time: 2020-08-08 03:40:27, owner_user_id:1\n",
      "title: title 36, body: body 36, view_count:10 created_time: 2020-08-08 03:40:27, owner_user_id:1\n",
      "title: title 37, body: body 37, view_count:10 created_time: 2020-08-08 03:40:27, owner_user_id:1\n",
      "title: title 38, body: body 38, view_count:10 created_time: 2020-08-08 03:40:27, owner_user_id:1\n",
      "title: title 39, body: body 39, view_count:10 created_time: 2020-08-08 03:40:27, owner_user_id:1\n",
      "title: title 40, body: body 40, view_count:10 created_time: 2020-08-08 03:40:27, owner_user_id:1\n",
      "title: title 41, body: body 41, view_count:10 created_time: 2020-08-08 03:40:27, owner_user_id:1\n",
      "title: title 42, body: body 42, view_count:10 created_time: 2020-08-08 03:40:27, owner_user_id:1\n",
      "title: title 43, body: body 43, view_count:10 created_time: 2020-08-08 03:40:27, owner_user_id:1\n",
      "title: title 44, body: body 44, view_count:10 created_time: 2020-08-08 03:40:27, owner_user_id:1\n",
      "title: title 45, body: body 45, view_count:10 created_time: 2020-08-08 03:40:27, owner_user_id:1\n",
      "title: title 46, body: body 46, view_count:10 created_time: 2020-08-08 03:40:27, owner_user_id:1\n",
      "title: title 47, body: body 47, view_count:10 created_time: 2020-08-08 03:40:27, owner_user_id:1\n",
      "title: title 48, body: body 48, view_count:10 created_time: 2020-08-08 03:40:27, owner_user_id:1\n",
      "title: title 49, body: body 49, view_count:10 created_time: 2020-08-08 03:40:27, owner_user_id:1\n"
     ]
    }
   ],
   "source": [
    "# 3\n",
    "query = session.query(Posts).order_by(desc(Posts.created_time))\n",
    "for result in query.all():\n",
    "    print(result)"
   ]
  },
  {
   "cell_type": "code",
   "execution_count": 13,
   "metadata": {
    "scrolled": true
   },
   "outputs": [
    {
     "name": "stdout",
     "output_type": "stream",
     "text": [
      "2020-08-08 12:40:27,327 INFO sqlalchemy.engine.base.Engine SELECT posts.id AS posts_id, posts.title AS posts_title, posts.body AS posts_body, posts.created_time AS posts_created_time, posts.view_count AS posts_view_count, posts.owner_user_id AS posts_owner_user_id \n",
      "FROM posts \n",
      "WHERE posts.view_count <= ?\n",
      "2020-08-08 12:40:27,328 INFO sqlalchemy.engine.base.Engine (5,)\n",
      "[]\n"
     ]
    }
   ],
   "source": [
    "# 4\n",
    "result = session.query(Posts).filter(Posts.view_count <= 5).all()\n",
    "print(result)"
   ]
  },
  {
   "cell_type": "code",
   "execution_count": 22,
   "metadata": {
    "scrolled": true
   },
   "outputs": [
    {
     "name": "stdout",
     "output_type": "stream",
     "text": [
      "2020-08-08 12:45:59,255 INFO sqlalchemy.engine.base.Engine SELECT user.id AS user_id, posts.owner_user_id AS posts_owner_user_id, posts.created_time AS posts_created_time \n",
      "FROM user JOIN posts ON user.id = posts.owner_user_id\n",
      "2020-08-08 12:45:59,256 INFO sqlalchemy.engine.base.Engine ()\n",
      "(1, 1, datetime.datetime(2020, 8, 8, 3, 40, 27))\n",
      "(1, 1, datetime.datetime(2020, 8, 8, 3, 40, 27))\n",
      "(1, 1, datetime.datetime(2020, 8, 8, 3, 40, 27))\n",
      "(1, 1, datetime.datetime(2020, 8, 8, 3, 40, 27))\n",
      "(1, 1, datetime.datetime(2020, 8, 8, 3, 40, 27))\n",
      "(1, 1, datetime.datetime(2020, 8, 8, 3, 40, 27))\n",
      "(1, 1, datetime.datetime(2020, 8, 8, 3, 40, 27))\n",
      "(1, 1, datetime.datetime(2020, 8, 8, 3, 40, 27))\n",
      "(1, 1, datetime.datetime(2020, 8, 8, 3, 40, 27))\n",
      "(1, 1, datetime.datetime(2020, 8, 8, 3, 40, 27))\n",
      "(1, 1, datetime.datetime(2020, 8, 8, 3, 40, 27))\n",
      "(1, 1, datetime.datetime(2020, 8, 8, 3, 40, 27))\n",
      "(1, 1, datetime.datetime(2020, 8, 8, 3, 40, 27))\n",
      "(1, 1, datetime.datetime(2020, 8, 8, 3, 40, 27))\n",
      "(1, 1, datetime.datetime(2020, 8, 8, 3, 40, 27))\n",
      "(1, 1, datetime.datetime(2020, 8, 8, 3, 40, 27))\n",
      "(1, 1, datetime.datetime(2020, 8, 8, 3, 40, 27))\n",
      "(1, 1, datetime.datetime(2020, 8, 8, 3, 40, 27))\n",
      "(1, 1, datetime.datetime(2020, 8, 8, 3, 40, 27))\n",
      "(1, 1, datetime.datetime(2020, 8, 8, 3, 40, 27))\n",
      "(1, 1, datetime.datetime(2020, 8, 8, 3, 40, 27))\n",
      "(1, 1, datetime.datetime(2020, 8, 8, 3, 40, 27))\n",
      "(1, 1, datetime.datetime(2020, 8, 8, 3, 40, 27))\n",
      "(1, 1, datetime.datetime(2020, 8, 8, 3, 40, 27))\n",
      "(1, 1, datetime.datetime(2020, 8, 8, 3, 40, 27))\n",
      "(1, 1, datetime.datetime(2020, 8, 8, 3, 40, 27))\n",
      "(1, 1, datetime.datetime(2020, 8, 8, 3, 40, 27))\n",
      "(1, 1, datetime.datetime(2020, 8, 8, 3, 40, 27))\n",
      "(1, 1, datetime.datetime(2020, 8, 8, 3, 40, 27))\n",
      "(1, 1, datetime.datetime(2020, 8, 8, 3, 40, 27))\n",
      "(1, 1, datetime.datetime(2020, 8, 8, 3, 40, 27))\n",
      "(1, 1, datetime.datetime(2020, 8, 8, 3, 40, 27))\n",
      "(1, 1, datetime.datetime(2020, 8, 8, 3, 40, 27))\n",
      "(1, 1, datetime.datetime(2020, 8, 8, 3, 40, 27))\n",
      "(1, 1, datetime.datetime(2020, 8, 8, 3, 40, 27))\n",
      "(1, 1, datetime.datetime(2020, 8, 8, 3, 40, 27))\n",
      "(1, 1, datetime.datetime(2020, 8, 8, 3, 40, 27))\n",
      "(1, 1, datetime.datetime(2020, 8, 8, 3, 40, 27))\n",
      "(1, 1, datetime.datetime(2020, 8, 8, 3, 40, 27))\n",
      "(1, 1, datetime.datetime(2020, 8, 8, 3, 40, 27))\n",
      "(1, 1, datetime.datetime(2020, 8, 8, 3, 40, 27))\n",
      "(1, 1, datetime.datetime(2020, 8, 8, 3, 40, 27))\n",
      "(1, 1, datetime.datetime(2020, 8, 8, 3, 40, 27))\n",
      "(1, 1, datetime.datetime(2020, 8, 8, 3, 40, 27))\n",
      "(1, 1, datetime.datetime(2020, 8, 8, 3, 40, 27))\n",
      "(1, 1, datetime.datetime(2020, 8, 8, 3, 40, 27))\n",
      "(1, 1, datetime.datetime(2020, 8, 8, 3, 40, 27))\n",
      "(1, 1, datetime.datetime(2020, 8, 8, 3, 40, 27))\n",
      "(1, 1, datetime.datetime(2020, 8, 8, 3, 40, 27))\n"
     ]
    }
   ],
   "source": [
    "# 5\n",
    "query = session.query(User.id, Posts.owner_user_id, Posts.created_time)\n",
    "query = query.join(Posts)\n",
    "results = query.filter(Posts.created_time).all()\n",
    "\n",
    "for row in results:\n",
    "    print(row)"
   ]
  },
  {
   "cell_type": "code",
   "execution_count": null,
   "metadata": {},
   "outputs": [],
   "source": []
  },
  {
   "cell_type": "code",
   "execution_count": null,
   "metadata": {},
   "outputs": [],
   "source": []
  },
  {
   "cell_type": "code",
   "execution_count": null,
   "metadata": {},
   "outputs": [],
   "source": []
  },
  {
   "cell_type": "code",
   "execution_count": null,
   "metadata": {},
   "outputs": [],
   "source": []
  },
  {
   "cell_type": "code",
   "execution_count": null,
   "metadata": {},
   "outputs": [],
   "source": []
  },
  {
   "cell_type": "code",
   "execution_count": 14,
   "metadata": {
    "scrolled": true
   },
   "outputs": [
    {
     "name": "stdout",
     "output_type": "stream",
     "text": [
      "2020-08-08 12:40:27,336 INFO sqlalchemy.engine.base.Engine SELECT posts.id AS posts_id, posts.title AS posts_title, posts.body AS posts_body, posts.created_time AS posts_created_time, posts.view_count AS posts_view_count, posts.owner_user_id AS posts_owner_user_id \n",
      "FROM posts ORDER BY posts.created_time DESC\n",
      "2020-08-08 12:40:27,337 INFO sqlalchemy.engine.base.Engine ()\n",
      "title: title 1, body: body 1, view_count:10 created_time: 2020-08-08 03:40:27, owner_user_id:1\n",
      "title: title 2, body: body 2, view_count:10 created_time: 2020-08-08 03:40:27, owner_user_id:1\n",
      "title: title 3, body: body 3, view_count:10 created_time: 2020-08-08 03:40:27, owner_user_id:1\n",
      "title: title 4, body: body 4, view_count:10 created_time: 2020-08-08 03:40:27, owner_user_id:1\n",
      "title: title 5, body: body 5, view_count:10 created_time: 2020-08-08 03:40:27, owner_user_id:1\n",
      "title: title 6, body: body 6, view_count:10 created_time: 2020-08-08 03:40:27, owner_user_id:1\n",
      "title: title 7, body: body 7, view_count:10 created_time: 2020-08-08 03:40:27, owner_user_id:1\n",
      "title: title 8, body: body 8, view_count:10 created_time: 2020-08-08 03:40:27, owner_user_id:1\n",
      "title: title 9, body: body 9, view_count:10 created_time: 2020-08-08 03:40:27, owner_user_id:1\n",
      "title: title 10, body: body 10, view_count:10 created_time: 2020-08-08 03:40:27, owner_user_id:1\n",
      "title: title 11, body: body 11, view_count:10 created_time: 2020-08-08 03:40:27, owner_user_id:1\n",
      "title: title 12, body: body 12, view_count:10 created_time: 2020-08-08 03:40:27, owner_user_id:1\n",
      "title: title 13, body: body 13, view_count:10 created_time: 2020-08-08 03:40:27, owner_user_id:1\n",
      "title: title 14, body: body 14, view_count:10 created_time: 2020-08-08 03:40:27, owner_user_id:1\n",
      "title: title 15, body: body 15, view_count:10 created_time: 2020-08-08 03:40:27, owner_user_id:1\n",
      "title: title 16, body: body 16, view_count:10 created_time: 2020-08-08 03:40:27, owner_user_id:1\n",
      "title: title 17, body: body 17, view_count:10 created_time: 2020-08-08 03:40:27, owner_user_id:1\n",
      "title: title 18, body: body 18, view_count:10 created_time: 2020-08-08 03:40:27, owner_user_id:1\n",
      "title: title 19, body: body 19, view_count:10 created_time: 2020-08-08 03:40:27, owner_user_id:1\n",
      "title: title 20, body: body 20, view_count:10 created_time: 2020-08-08 03:40:27, owner_user_id:1\n",
      "title: title 21, body: body 21, view_count:10 created_time: 2020-08-08 03:40:27, owner_user_id:1\n",
      "title: title 22, body: body 22, view_count:10 created_time: 2020-08-08 03:40:27, owner_user_id:1\n",
      "title: title 23, body: body 23, view_count:10 created_time: 2020-08-08 03:40:27, owner_user_id:1\n",
      "title: title 24, body: body 24, view_count:10 created_time: 2020-08-08 03:40:27, owner_user_id:1\n",
      "title: title 25, body: body 25, view_count:10 created_time: 2020-08-08 03:40:27, owner_user_id:1\n",
      "title: title 26, body: body 26, view_count:10 created_time: 2020-08-08 03:40:27, owner_user_id:1\n",
      "title: title 27, body: body 27, view_count:10 created_time: 2020-08-08 03:40:27, owner_user_id:1\n",
      "title: title 28, body: body 28, view_count:10 created_time: 2020-08-08 03:40:27, owner_user_id:1\n",
      "title: title 29, body: body 29, view_count:10 created_time: 2020-08-08 03:40:27, owner_user_id:1\n",
      "title: title 30, body: body 30, view_count:10 created_time: 2020-08-08 03:40:27, owner_user_id:1\n",
      "title: title 31, body: body 31, view_count:10 created_time: 2020-08-08 03:40:27, owner_user_id:1\n",
      "title: title 32, body: body 32, view_count:10 created_time: 2020-08-08 03:40:27, owner_user_id:1\n",
      "title: title 33, body: body 33, view_count:10 created_time: 2020-08-08 03:40:27, owner_user_id:1\n",
      "title: title 34, body: body 34, view_count:10 created_time: 2020-08-08 03:40:27, owner_user_id:1\n",
      "title: title 35, body: body 35, view_count:10 created_time: 2020-08-08 03:40:27, owner_user_id:1\n",
      "title: title 36, body: body 36, view_count:10 created_time: 2020-08-08 03:40:27, owner_user_id:1\n",
      "title: title 37, body: body 37, view_count:10 created_time: 2020-08-08 03:40:27, owner_user_id:1\n",
      "title: title 38, body: body 38, view_count:10 created_time: 2020-08-08 03:40:27, owner_user_id:1\n",
      "title: title 39, body: body 39, view_count:10 created_time: 2020-08-08 03:40:27, owner_user_id:1\n",
      "title: title 40, body: body 40, view_count:10 created_time: 2020-08-08 03:40:27, owner_user_id:1\n",
      "title: title 41, body: body 41, view_count:10 created_time: 2020-08-08 03:40:27, owner_user_id:1\n",
      "title: title 42, body: body 42, view_count:10 created_time: 2020-08-08 03:40:27, owner_user_id:1\n",
      "title: title 43, body: body 43, view_count:10 created_time: 2020-08-08 03:40:27, owner_user_id:1\n",
      "title: title 44, body: body 44, view_count:10 created_time: 2020-08-08 03:40:27, owner_user_id:1\n",
      "title: title 45, body: body 45, view_count:10 created_time: 2020-08-08 03:40:27, owner_user_id:1\n",
      "title: title 46, body: body 46, view_count:10 created_time: 2020-08-08 03:40:27, owner_user_id:1\n",
      "title: title 47, body: body 47, view_count:10 created_time: 2020-08-08 03:40:27, owner_user_id:1\n",
      "title: title 48, body: body 48, view_count:10 created_time: 2020-08-08 03:40:27, owner_user_id:1\n",
      "title: title 49, body: body 49, view_count:10 created_time: 2020-08-08 03:40:27, owner_user_id:1\n"
     ]
    }
   ],
   "source": [
    "query = session.query(Posts).order_by(desc(Posts.created_time))\n",
    "for result in query.all():\n",
    "    print(result)"
   ]
  },
  {
   "cell_type": "code",
   "execution_count": null,
   "metadata": {},
   "outputs": [],
   "source": []
  },
  {
   "cell_type": "code",
   "execution_count": null,
   "metadata": {},
   "outputs": [],
   "source": []
  }
 ],
 "metadata": {
  "kernelspec": {
   "display_name": "Python 3",
   "language": "python",
   "name": "python3"
  },
  "language_info": {
   "codemirror_mode": {
    "name": "ipython",
    "version": 3
   },
   "file_extension": ".py",
   "mimetype": "text/x-python",
   "name": "python",
   "nbconvert_exporter": "python",
   "pygments_lexer": "ipython3",
   "version": "3.7.6"
  }
 },
 "nbformat": 4,
 "nbformat_minor": 2
}
