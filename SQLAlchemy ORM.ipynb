{
 "cells": [
  {
   "cell_type": "markdown",
   "metadata": {},
   "source": [
    "# SQLAlchemy Tutorial"
   ]
  },
  {
   "cell_type": "markdown",
   "metadata": {},
   "source": [
    "## Installation"
   ]
  },
  {
   "cell_type": "code",
   "execution_count": null,
   "metadata": {},
   "outputs": [],
   "source": [
    "!pip install sqlalchmey"
   ]
  },
  {
   "cell_type": "code",
   "execution_count": null,
   "metadata": {},
   "outputs": [],
   "source": [
    "import sqlalchemy\n",
    "sqlalchemy.__version__"
   ]
  },
  {
   "cell_type": "code",
   "execution_count": null,
   "metadata": {},
   "outputs": [],
   "source": [
    "!rm marathon_women.db\n",
    "!ls"
   ]
  },
  {
   "cell_type": "markdown",
   "metadata": {},
   "source": [
    "# SQLAlchemy ORM"
   ]
  },
  {
   "cell_type": "markdown",
   "metadata": {},
   "source": [
    "## Data Define"
   ]
  },
  {
   "cell_type": "markdown",
   "metadata": {},
   "source": [
    "### Defining Table via ORM Class"
   ]
  },
  {
   "cell_type": "code",
   "execution_count": null,
   "metadata": {},
   "outputs": [],
   "source": [
    "from sqlalchemy.ext.declarative import declarative_base\n",
    "from sqlalchemy import Table, Column, Integer, String, Float, Time, Boolean, DATE\n",
    "from sqlalchemy import ForeignKey\n",
    "from sqlalchemy.orm import relationship, backref\n",
    "\n",
    "import datetime"
   ]
  },
  {
   "cell_type": "code",
   "execution_count": null,
   "metadata": {},
   "outputs": [],
   "source": [
    "Base = declarative_base()"
   ]
  },
  {
   "cell_type": "code",
   "execution_count": null,
   "metadata": {},
   "outputs": [],
   "source": [
    "class Participant(Base):\n",
    "    __tablename__ = \"participants\"\n",
    "    \n",
    "    participant_id = Column(Integer(), primary_key=True)\n",
    "    athlete = Column(String(32), nullable=False)\n",
    "    nationality = Column(String(32), nullable=False)\n",
    "    sex = Column(Boolean(), nullable=False)"
   ]
  },
  {
   "cell_type": "code",
   "execution_count": null,
   "metadata": {},
   "outputs": [],
   "source": [
    "class Marathon(Base):\n",
    "    __tablename__ = \"marathons\"\n",
    "    \n",
    "    marathon_id = Column(Integer(), primary_key=True)\n",
    "    marathon_name = Column(String(32), nullable=False)\n",
    "    venue = Column(String(64), nullable=False)\n",
    "    date = Column(DATE(), nullable=False)"
   ]
  },
  {
   "cell_type": "code",
   "execution_count": null,
   "metadata": {},
   "outputs": [],
   "source": [
    "class Record(Base):\n",
    "    __tablename__ = \"records\"\n",
    "    \n",
    "    id = Column(Integer(), primary_key=True)\n",
    "    participant_id = Column(Integer(), ForeignKey(\"participants.participant_id\"))\n",
    "    marathon_id = Column(Integer(), ForeignKey(\"marathons.marathon_id\"))\n",
    "    time = Column(Time(), default=datetime.time(0, 0, 0))\n",
    "    \n",
    "    participant = relationship(\"Participant\", backref=backref(\"records\"))\n",
    "    marathon = relationship(\"Marathon\", backref=backref(\"records\"))"
   ]
  },
  {
   "cell_type": "markdown",
   "metadata": {},
   "source": [
    "### Persisting the table"
   ]
  },
  {
   "cell_type": "code",
   "execution_count": null,
   "metadata": {},
   "outputs": [],
   "source": [
    "from sqlalchemy import create_engine\n",
    "engine = create_engine('sqlite:///marathon_women.db', echo=True)\n",
    "\n",
    "Base.metadata.create_all(engine)"
   ]
  },
  {
   "cell_type": "markdown",
   "metadata": {},
   "source": [
    "## Data Manipulation"
   ]
  },
  {
   "cell_type": "markdown",
   "metadata": {},
   "source": [
    "### Session"
   ]
  },
  {
   "cell_type": "code",
   "execution_count": null,
   "metadata": {},
   "outputs": [],
   "source": [
    "from sqlalchemy.orm import sessionmaker\n",
    "\n",
    "Session = sessionmaker(bind=engine)\n",
    "session = Session()"
   ]
  },
  {
   "cell_type": "markdown",
   "metadata": {},
   "source": [
    "### Inserting Data"
   ]
  },
  {
   "cell_type": "code",
   "execution_count": null,
   "metadata": {},
   "outputs": [],
   "source": [
    "import datetime\n",
    "\n",
    "mrathon = Marathon(marathon_name=\"2019 Boston Marathon\",\n",
    "                   venue=\"Boston, Massachusetts, United States\",\n",
    "                   date=datetime.datetime(2019, 4, 15)\n",
    "                  )\n",
    "session.add(mrathon)\n",
    "session.commit()\n",
    "print(mrathon.marathon_id)"
   ]
  },
  {
   "cell_type": "markdown",
   "metadata": {},
   "source": [
    "#### Flush() method\n",
    "\n",
    "It doesn't perform a database commmit and end the transaction"
   ]
  },
  {
   "cell_type": "code",
   "execution_count": null,
   "metadata": {},
   "outputs": [],
   "source": [
    "worknesh = Participant(athlete=\"Worknesh Degefa\",\n",
    "                       nationality=\"Ethiopia\",\n",
    "                       sex=False)\n",
    "session.add(worknesh)\n",
    "session.flush()\n",
    "print(worknesh.participant_id)"
   ]
  },
  {
   "cell_type": "markdown",
   "metadata": {},
   "source": [
    "#### Bulk insert"
   ]
  },
  {
   "cell_type": "code",
   "execution_count": null,
   "metadata": {},
   "outputs": [],
   "source": [
    "objects = [\n",
    "    Participant(athlete=\"Edna Kiplagat\", nationality=\"Kenya\", sex=False),\n",
    "    Participant(athlete=\"Jordan Hasay\", nationality=\"United States\", sex=False),\n",
    "    Participant(athlete=\"Meskerem Assefa\", nationality=\"Ethiopia\", sex=False),\n",
    "    Participant(athlete=\"Desiree Linden\", nationality=\"United States\", sex=False),\n",
    "    Participant(athlete=\"Caroline Rotich\", nationality=\"Kenya\", sex=False),\n",
    "    Participant(athlete=\"Mary Ngugi\", nationality=\"Kenya\", sex=False),\n",
    "    Participant(athlete=\"Biruktayit Eshetu\", nationality=\"Ethiopia\", sex=False),\n",
    "    Participant(athlete=\"Lindsay Flanagan\", nationality=\"United States\", sex=False),\n",
    "    Participant(athlete=\"Betsy Saina\", nationality=\"Kenya\", sex=False)\n",
    "]\n",
    "session.bulk_save_objects(objects)\n",
    "session.commit()"
   ]
  },
  {
   "cell_type": "markdown",
   "metadata": {},
   "source": [
    "### Querying Data"
   ]
  },
  {
   "cell_type": "code",
   "execution_count": null,
   "metadata": {},
   "outputs": [],
   "source": [
    "participants = session.query(Participant).all()\n",
    "print(participants)"
   ]
  },
  {
   "cell_type": "code",
   "execution_count": null,
   "metadata": {},
   "outputs": [],
   "source": [
    "for participant in session.query(Participant):\n",
    "    print(participant)"
   ]
  },
  {
   "cell_type": "markdown",
   "metadata": {},
   "source": [
    "#### Controlling the Columns in the Query"
   ]
  },
  {
   "cell_type": "code",
   "execution_count": null,
   "metadata": {},
   "outputs": [],
   "source": [
    "for participant in session.query(Participant.athlete, Participant.nationality).all():\n",
    "    print(participant)"
   ]
  },
  {
   "cell_type": "markdown",
   "metadata": {},
   "source": [
    "#### Ordering"
   ]
  },
  {
   "cell_type": "code",
   "execution_count": null,
   "metadata": {},
   "outputs": [],
   "source": [
    "from sqlalchemy import desc\n",
    "\n",
    "for participant in session.query(Participant.athlete, Participant.nationality).order_by(desc(Participant.athlete)):\n",
    "    print(participant)"
   ]
  },
  {
   "cell_type": "markdown",
   "metadata": {},
   "source": [
    "#### Limiting"
   ]
  },
  {
   "cell_type": "code",
   "execution_count": null,
   "metadata": {},
   "outputs": [],
   "source": [
    "query = session.query(Participant.athlete, Participant.nationality).order_by(desc(Participant.athlete))[:5]\n",
    "\n",
    "print([participant for participant in query])"
   ]
  },
  {
   "cell_type": "markdown",
   "metadata": {},
   "source": [
    "#### Built-in SQL Functions and Labels"
   ]
  },
  {
   "cell_type": "code",
   "execution_count": null,
   "metadata": {},
   "outputs": [],
   "source": [
    "from sqlalchemy import func\n",
    "\n",
    "participant_count = session.query(func.count(Participant.athlete)).scalar()\n",
    "print(participant_count)"
   ]
  },
  {
   "cell_type": "markdown",
   "metadata": {},
   "source": [
    "#### Filtering"
   ]
  },
  {
   "cell_type": "code",
   "execution_count": null,
   "metadata": {},
   "outputs": [],
   "source": [
    "participant = session.query(Participant).filter(Participant.athlete == \"Edna Kiplagat\").first()\n",
    "print(participant)"
   ]
  },
  {
   "cell_type": "markdown",
   "metadata": {},
   "source": [
    "#### Operators"
   ]
  },
  {
   "cell_type": "code",
   "execution_count": null,
   "metadata": {},
   "outputs": [],
   "source": [
    "results = session.query(Participant.athlete, \"Nationality : \" + Participant.nationality).all()\n",
    "\n",
    "for row in results:\n",
    "    print(row)"
   ]
  },
  {
   "cell_type": "markdown",
   "metadata": {},
   "source": [
    "#### Boolean Operators"
   ]
  },
  {
   "cell_type": "markdown",
   "metadata": {},
   "source": [
    "#### Conjunctions\n",
    "\n",
    "* and_()\n",
    "* or_()\n",
    "* not_()"
   ]
  },
  {
   "cell_type": "code",
   "execution_count": null,
   "metadata": {},
   "outputs": [],
   "source": [
    "from sqlalchemy import and_, or_, not_\n",
    "\n",
    "query = session.query(Participant).filter(\n",
    "    and_(\n",
    "        Participant.nationality == \"United States\",\n",
    "        Participant.athlete == \"Jordan Hasay\"\n",
    "    )\n",
    ")\n",
    "\n",
    "for row in query:\n",
    "    print(row)"
   ]
  },
  {
   "cell_type": "markdown",
   "metadata": {},
   "source": [
    "### Updating Data"
   ]
  },
  {
   "cell_type": "code",
   "execution_count": null,
   "metadata": {},
   "outputs": [],
   "source": [
    "query = session.query(Marathon).filter(Marathon.marathon_name.like(\"2019%Boston\")).all()\n",
    "\n",
    "for row in query:\n",
    "    print(row)\n",
    "    \n",
    "for participant in session.query(Participant):\n",
    "    record = Record(participant_id = participant.participant_id,\n",
    "                    marathon_id = 1\n",
    "                   )\n",
    "    session.add(record)\n",
    "session.commit()"
   ]
  },
  {
   "cell_type": "code",
   "execution_count": null,
   "metadata": {},
   "outputs": [],
   "source": [
    "query = session.query(Record)\n",
    "query = query.filter(Record.participant_id == 1)\n",
    "record = query.first()\n",
    "record.time = datetime.time(2, 23, 31)\n",
    "session.commit()\n",
    "print(record.time)"
   ]
  },
  {
   "cell_type": "markdown",
   "metadata": {},
   "source": [
    "### Deleting Data"
   ]
  },
  {
   "cell_type": "code",
   "execution_count": null,
   "metadata": {},
   "outputs": [],
   "source": [
    "query = session.query(Record)\n",
    "query = query.filter(Record.participant_id == 1)\n",
    "record = query.first()\n",
    "session.delete(record)\n",
    "session.commit()\n",
    "record = query.first()\n",
    "print(record)"
   ]
  },
  {
   "cell_type": "code",
   "execution_count": null,
   "metadata": {},
   "outputs": [],
   "source": [
    "query = session.query(Record)\n",
    "query = query.filter(Record.participant_id == 2)\n",
    "query.delete()\n",
    "session.commit()\n",
    "record = query.first()"
   ]
  },
  {
   "cell_type": "markdown",
   "metadata": {},
   "source": [
    "### Joins"
   ]
  },
  {
   "cell_type": "code",
   "execution_count": null,
   "metadata": {},
   "outputs": [],
   "source": [
    "query = session.query(Participant.athlete, Record.time)\n",
    "query = query.join(Record)\n",
    "results = query.all()\n",
    "\n",
    "for row in results:\n",
    "    print(row)"
   ]
  },
  {
   "cell_type": "code",
   "execution_count": null,
   "metadata": {},
   "outputs": [],
   "source": [
    "query = session.query(Record.time, Marathon.marathon_name, Participant.athlete)\n",
    "query = query.join(Marathon).join(Participant)\n",
    "results = query.all()\n",
    "\n",
    "for row in results:\n",
    "    print(row)"
   ]
  },
  {
   "cell_type": "markdown",
   "metadata": {},
   "source": [
    "### Grouping"
   ]
  },
  {
   "cell_type": "code",
   "execution_count": null,
   "metadata": {},
   "outputs": [],
   "source": [
    "from sqlalchemy import func \n",
    "\n",
    "query = session.query(Participant.nationality, func.count(Participant.athlete))\n",
    "results = query.group_by(Participant.nationality)\n",
    "for row in results:\n",
    "    print(row)"
   ]
  },
  {
   "cell_type": "markdown",
   "metadata": {},
   "source": [
    "### Chaining"
   ]
  },
  {
   "cell_type": "code",
   "execution_count": null,
   "metadata": {},
   "outputs": [],
   "source": []
  },
  {
   "cell_type": "markdown",
   "metadata": {},
   "source": [
    "### Row Queries"
   ]
  },
  {
   "cell_type": "code",
   "execution_count": null,
   "metadata": {},
   "outputs": [],
   "source": [
    "from sqlalchemy import text\n",
    "\n",
    "query = session.query(Participant).filter(text(\"athlete like '%Ngugi%'\"))\n",
    "print(query.all())"
   ]
  },
  {
   "cell_type": "code",
   "execution_count": null,
   "metadata": {},
   "outputs": [],
   "source": []
  }
 ],
 "metadata": {
  "kernelspec": {
   "display_name": "Python 2",
   "language": "python",
   "name": "python2"
  },
  "language_info": {
   "codemirror_mode": {
    "name": "ipython",
    "version": 2
   },
   "file_extension": ".py",
   "mimetype": "text/x-python",
   "name": "python",
   "nbconvert_exporter": "python",
   "pygments_lexer": "ipython2",
   "version": "2.7.15"
  }
 },
 "nbformat": 4,
 "nbformat_minor": 2
}
