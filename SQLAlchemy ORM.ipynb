{
 "cells": [
  {
   "cell_type": "markdown",
   "metadata": {},
   "source": [
    "# SQLAlchemy Tutorial"
   ]
  },
  {
   "cell_type": "markdown",
   "metadata": {},
   "source": [
    "## Installation"
   ]
  },
  {
   "cell_type": "code",
   "execution_count": 1,
   "metadata": {},
   "outputs": [
    {
     "name": "stdout",
     "output_type": "stream",
     "text": [
      "/bin/sh: pip: command not found\r\n"
     ]
    }
   ],
   "source": [
    "!pip install sqlalchmey"
   ]
  },
  {
   "cell_type": "code",
   "execution_count": 2,
   "metadata": {},
   "outputs": [
    {
     "data": {
      "text/plain": [
       "'1.3.13'"
      ]
     },
     "execution_count": 2,
     "metadata": {},
     "output_type": "execute_result"
    }
   ],
   "source": [
    "import sqlalchemy\n",
    "sqlalchemy.__version__"
   ]
  },
  {
   "cell_type": "code",
   "execution_count": 3,
   "metadata": {},
   "outputs": [
    {
     "name": "stdout",
     "output_type": "stream",
     "text": [
      "rm: marathon_women.db: No such file or directory\n",
      "LICENSE                        SQLAlchemy-hana.ipynb\n",
      "README.md                      marathon_men.db\n",
      "SQLAlchemy Core.ipynb          requirements.txt\n",
      "SQLAlchemy ORM.ipynb           sqlalchemy-hana-connection.py\n",
      "SQLAlchemy-HANA ORM Type.ipynb sqlalchemy-hana-select.py\n",
      "SQLAlchemy-HANA Type.ipynb\n"
     ]
    }
   ],
   "source": [
    "!rm marathon_women.db\n",
    "!ls"
   ]
  },
  {
   "cell_type": "markdown",
   "metadata": {},
   "source": [
    "# SQLAlchemy ORM"
   ]
  },
  {
   "cell_type": "markdown",
   "metadata": {},
   "source": [
    "## Data Define"
   ]
  },
  {
   "cell_type": "markdown",
   "metadata": {},
   "source": [
    "### Defining Table via ORM Class"
   ]
  },
  {
   "cell_type": "code",
   "execution_count": 4,
   "metadata": {},
   "outputs": [],
   "source": [
    "from sqlalchemy.ext.declarative import declarative_base\n",
    "from sqlalchemy import Table, Column, Integer, String, Float, Time, Boolean, DATE\n",
    "from sqlalchemy import ForeignKey\n",
    "from sqlalchemy.orm import relationship, backref\n",
    "\n",
    "import datetime"
   ]
  },
  {
   "cell_type": "code",
   "execution_count": 5,
   "metadata": {},
   "outputs": [],
   "source": [
    "Base = declarative_base()"
   ]
  },
  {
   "cell_type": "code",
   "execution_count": 6,
   "metadata": {},
   "outputs": [],
   "source": [
    "class Participant(Base):\n",
    "    __tablename__ = \"participants\"\n",
    "    \n",
    "    u = Column(Integer(), primary_key=True)\n",
    "    athlete = Column(String(32), nullable=False)\n",
    "    nationality = Column(String(32), nullable=False)\n",
    "    sex = Column(Boolean(), nullable=False)\n",
    "    \n",
    "    "
   ]
  },
  {
   "cell_type": "code",
   "execution_count": 7,
   "metadata": {},
   "outputs": [],
   "source": [
    "class Marathon(Base):\n",
    "    __tablename__ = \"marathons\"\n",
    "    \n",
    "    marathon_id = Column(Integer(), primary_key=True)\n",
    "    marathon_name = Column(String(32), nullable=False)\n",
    "    venue = Column(String(64), nullable=False)\n",
    "    date = Column(DATE(), nullable=False)"
   ]
  },
  {
   "cell_type": "code",
   "execution_count": 8,
   "metadata": {},
   "outputs": [],
   "source": [
    "class Record(Base):\n",
    "    __tablename__ = \"records\"\n",
    "    \n",
    "    id = Column(Integer(), primary_key=True)\n",
    "    participant_id = Column(Integer(), ForeignKey(\"participants.participant_id\"))\n",
    "    marathon_id = Column(Integer(), ForeignKey(\"marathons.marathon_id\"))\n",
    "    time = Column(Time(), default=datetime.time(0, 0, 0))\n",
    "    \n",
    "    participant = relationship(\"Participant\", backref=backref(\"records\"))\n",
    "    marathon = relationship(\"Marathon\", backref=backref(\"records\"))\n",
    "    \n",
    "    \n",
    "    "
   ]
  },
  {
   "cell_type": "markdown",
   "metadata": {},
   "source": [
    "### Persisting the table"
   ]
  },
  {
   "cell_type": "code",
   "execution_count": 9,
   "metadata": {},
   "outputs": [
    {
     "name": "stdout",
     "output_type": "stream",
     "text": [
      "2020-08-08 10:22:41,769 INFO sqlalchemy.engine.base.Engine SELECT CAST('test plain returns' AS VARCHAR(60)) AS anon_1\n",
      "2020-08-08 10:22:41,770 INFO sqlalchemy.engine.base.Engine ()\n",
      "2020-08-08 10:22:41,771 INFO sqlalchemy.engine.base.Engine SELECT CAST('test unicode returns' AS VARCHAR(60)) AS anon_1\n",
      "2020-08-08 10:22:41,771 INFO sqlalchemy.engine.base.Engine ()\n",
      "2020-08-08 10:22:41,773 INFO sqlalchemy.engine.base.Engine PRAGMA main.table_info(\"participants\")\n",
      "2020-08-08 10:22:41,773 INFO sqlalchemy.engine.base.Engine ()\n",
      "2020-08-08 10:22:41,774 INFO sqlalchemy.engine.base.Engine PRAGMA temp.table_info(\"participants\")\n",
      "2020-08-08 10:22:41,775 INFO sqlalchemy.engine.base.Engine ()\n",
      "2020-08-08 10:22:41,775 INFO sqlalchemy.engine.base.Engine PRAGMA main.table_info(\"marathons\")\n",
      "2020-08-08 10:22:41,776 INFO sqlalchemy.engine.base.Engine ()\n",
      "2020-08-08 10:22:41,776 INFO sqlalchemy.engine.base.Engine PRAGMA temp.table_info(\"marathons\")\n",
      "2020-08-08 10:22:41,777 INFO sqlalchemy.engine.base.Engine ()\n",
      "2020-08-08 10:22:41,777 INFO sqlalchemy.engine.base.Engine PRAGMA main.table_info(\"records\")\n",
      "2020-08-08 10:22:41,778 INFO sqlalchemy.engine.base.Engine ()\n",
      "2020-08-08 10:22:41,778 INFO sqlalchemy.engine.base.Engine PRAGMA temp.table_info(\"records\")\n",
      "2020-08-08 10:22:41,778 INFO sqlalchemy.engine.base.Engine ()\n",
      "2020-08-08 10:22:41,780 INFO sqlalchemy.engine.base.Engine \n",
      "CREATE TABLE participants (\n",
      "\tparticipant_id INTEGER NOT NULL, \n",
      "\tathlete VARCHAR(32) NOT NULL, \n",
      "\tnationality VARCHAR(32) NOT NULL, \n",
      "\tsex BOOLEAN NOT NULL, \n",
      "\tPRIMARY KEY (participant_id), \n",
      "\tCHECK (sex IN (0, 1))\n",
      ")\n",
      "\n",
      "\n",
      "2020-08-08 10:22:41,780 INFO sqlalchemy.engine.base.Engine ()\n",
      "2020-08-08 10:22:41,782 INFO sqlalchemy.engine.base.Engine COMMIT\n",
      "2020-08-08 10:22:41,782 INFO sqlalchemy.engine.base.Engine \n",
      "CREATE TABLE marathons (\n",
      "\tmarathon_id INTEGER NOT NULL, \n",
      "\tmarathon_name VARCHAR(32) NOT NULL, \n",
      "\tvenue VARCHAR(64) NOT NULL, \n",
      "\tdate DATE NOT NULL, \n",
      "\tPRIMARY KEY (marathon_id)\n",
      ")\n",
      "\n",
      "\n",
      "2020-08-08 10:22:41,783 INFO sqlalchemy.engine.base.Engine ()\n",
      "2020-08-08 10:22:41,784 INFO sqlalchemy.engine.base.Engine COMMIT\n",
      "2020-08-08 10:22:41,785 INFO sqlalchemy.engine.base.Engine \n",
      "CREATE TABLE records (\n",
      "\tid INTEGER NOT NULL, \n",
      "\tparticipant_id INTEGER, \n",
      "\tmarathon_id INTEGER, \n",
      "\ttime TIME, \n",
      "\tPRIMARY KEY (id), \n",
      "\tFOREIGN KEY(participant_id) REFERENCES participants (participant_id), \n",
      "\tFOREIGN KEY(marathon_id) REFERENCES marathons (marathon_id)\n",
      ")\n",
      "\n",
      "\n",
      "2020-08-08 10:22:41,785 INFO sqlalchemy.engine.base.Engine ()\n",
      "2020-08-08 10:22:41,787 INFO sqlalchemy.engine.base.Engine COMMIT\n"
     ]
    }
   ],
   "source": [
    "from sqlalchemy import create_engine\n",
    "engine = create_engine('sqlite:///marathon_women.db', echo=True)\n",
    "\n",
    "Base.metadata.create_all(engine)"
   ]
  },
  {
   "cell_type": "markdown",
   "metadata": {},
   "source": [
    "## Data Manipulation"
   ]
  },
  {
   "cell_type": "markdown",
   "metadata": {},
   "source": [
    "### Session"
   ]
  },
  {
   "cell_type": "code",
   "execution_count": 10,
   "metadata": {},
   "outputs": [],
   "source": [
    "from sqlalchemy.orm import sessionmaker\n",
    "# db - ORM 연결\n",
    "Session = sessionmaker(bind=engine)\n",
    "session = Session()"
   ]
  },
  {
   "cell_type": "markdown",
   "metadata": {},
   "source": [
    "### Inserting Data"
   ]
  },
  {
   "cell_type": "code",
   "execution_count": 11,
   "metadata": {},
   "outputs": [
    {
     "name": "stdout",
     "output_type": "stream",
     "text": [
      "2020-08-08 10:22:41,802 INFO sqlalchemy.engine.base.Engine BEGIN (implicit)\n",
      "2020-08-08 10:22:41,804 INFO sqlalchemy.engine.base.Engine INSERT INTO marathons (marathon_name, venue, date) VALUES (?, ?, ?)\n",
      "2020-08-08 10:22:41,805 INFO sqlalchemy.engine.base.Engine ('2019 Boston Marathon', 'Boston, Massachusetts, United States', '2019-04-15')\n",
      "2020-08-08 10:22:41,806 INFO sqlalchemy.engine.base.Engine COMMIT\n",
      "2020-08-08 10:22:41,808 INFO sqlalchemy.engine.base.Engine BEGIN (implicit)\n",
      "2020-08-08 10:22:41,809 INFO sqlalchemy.engine.base.Engine SELECT marathons.marathon_id AS marathons_marathon_id, marathons.marathon_name AS marathons_marathon_name, marathons.venue AS marathons_venue, marathons.date AS marathons_date \n",
      "FROM marathons \n",
      "WHERE marathons.marathon_id = ?\n",
      "2020-08-08 10:22:41,810 INFO sqlalchemy.engine.base.Engine (1,)\n",
      "1\n"
     ]
    }
   ],
   "source": [
    "import datetime\n",
    "\n",
    "mrathon = Marathon(marathon_name=\"2019 Boston Marathon\",\n",
    "                   venue=\"Boston, Massachusetts, United States\",\n",
    "                   date=datetime.datetime(2019, 4, 15)\n",
    "                  )\n",
    "# 객체 넣기 실행\n",
    "session.add(mrathon)\n",
    "session.commit()\n",
    "print(mrathon.marathon_id)"
   ]
  },
  {
   "cell_type": "markdown",
   "metadata": {},
   "source": [
    "#### Flush() method\n",
    "\n",
    "It doesn't perform a database commmit and end the transaction"
   ]
  },
  {
   "cell_type": "code",
   "execution_count": 12,
   "metadata": {},
   "outputs": [
    {
     "name": "stdout",
     "output_type": "stream",
     "text": [
      "2020-08-08 10:22:41,816 INFO sqlalchemy.engine.base.Engine INSERT INTO participants (athlete, nationality, sex) VALUES (?, ?, ?)\n",
      "2020-08-08 10:22:41,817 INFO sqlalchemy.engine.base.Engine ('Worknesh Degefa', 'Ethiopia', 0)\n",
      "1\n"
     ]
    }
   ],
   "source": [
    "worknesh = Participant(athlete=\"Worknesh Degefa\",\n",
    "                       nationality=\"Ethiopia\",\n",
    "                       sex=False)\n",
    "session.add(worknesh)\n",
    "session.flush() # 임시저장 -> commit 시 실행.\n",
    "print(worknesh.participant_id)"
   ]
  },
  {
   "cell_type": "markdown",
   "metadata": {},
   "source": [
    "#### Bulk insert"
   ]
  },
  {
   "cell_type": "code",
   "execution_count": 13,
   "metadata": {},
   "outputs": [
    {
     "name": "stdout",
     "output_type": "stream",
     "text": [
      "2020-08-08 10:22:41,826 INFO sqlalchemy.engine.base.Engine INSERT INTO participants (athlete, nationality, sex) VALUES (?, ?, ?)\n",
      "2020-08-08 10:22:41,827 INFO sqlalchemy.engine.base.Engine (('Edna Kiplagat', 'Kenya', 0), ('Jordan Hasay', 'United States', 0), ('Meskerem Assefa', 'Ethiopia', 0), ('Desiree Linden', 'United States', 0), ('Caroline Rotich', 'Kenya', 0), ('Mary Ngugi', 'Kenya', 0), ('Biruktayit Eshetu', 'Ethiopia', 0), ('Lindsay Flanagan', 'United States', 0), ('Betsy Saina', 'Kenya', 0))\n",
      "2020-08-08 10:22:41,827 INFO sqlalchemy.engine.base.Engine COMMIT\n"
     ]
    }
   ],
   "source": [
    "objects = [\n",
    "    Participant(athlete=\"Edna Kiplagat\", nationality=\"Kenya\", sex=False),\n",
    "    Participant(athlete=\"Jordan Hasay\", nationality=\"United States\", sex=False),\n",
    "    Participant(athlete=\"Meskerem Assefa\", nationality=\"Ethiopia\", sex=False),\n",
    "    Participant(athlete=\"Desiree Linden\", nationality=\"United States\", sex=False),\n",
    "    Participant(athlete=\"Caroline Rotich\", nationality=\"Kenya\", sex=False),\n",
    "    Participant(athlete=\"Mary Ngugi\", nationality=\"Kenya\", sex=False),\n",
    "    Participant(athlete=\"Biruktayit Eshetu\", nationality=\"Ethiopia\", sex=False),\n",
    "    Participant(athlete=\"Lindsay Flanagan\", nationality=\"United States\", sex=False),\n",
    "    Participant(athlete=\"Betsy Saina\", nationality=\"Kenya\", sex=False)\n",
    "]\n",
    "session.bulk_save_objects(objects) # 한번에 여러 객체 전달.\n",
    "session.commit()"
   ]
  },
  {
   "cell_type": "markdown",
   "metadata": {},
   "source": [
    "### Querying Data"
   ]
  },
  {
   "cell_type": "code",
   "execution_count": 14,
   "metadata": {},
   "outputs": [
    {
     "name": "stdout",
     "output_type": "stream",
     "text": [
      "2020-08-08 10:22:41,833 INFO sqlalchemy.engine.base.Engine BEGIN (implicit)\n",
      "2020-08-08 10:22:41,835 INFO sqlalchemy.engine.base.Engine SELECT participants.participant_id AS participants_participant_id, participants.athlete AS participants_athlete, participants.nationality AS participants_nationality, participants.sex AS participants_sex \n",
      "FROM participants\n",
      "2020-08-08 10:22:41,835 INFO sqlalchemy.engine.base.Engine ()\n",
      "[<__main__.Participant object at 0x7fca36d04490>, <__main__.Participant object at 0x7fca36d21450>, <__main__.Participant object at 0x7fca36d214d0>, <__main__.Participant object at 0x7fca36d21550>, <__main__.Participant object at 0x7fca36d21610>, <__main__.Participant object at 0x7fca36d21710>, <__main__.Participant object at 0x7fca36d217d0>, <__main__.Participant object at 0x7fca36d21890>, <__main__.Participant object at 0x7fca36d21950>, <__main__.Participant object at 0x7fca36d219d0>]\n"
     ]
    }
   ],
   "source": [
    "participants = session.query(Participant).all()\n",
    "print(participants)"
   ]
  },
  {
   "cell_type": "code",
   "execution_count": 15,
   "metadata": {},
   "outputs": [
    {
     "name": "stdout",
     "output_type": "stream",
     "text": [
      "2020-08-08 10:22:41,842 INFO sqlalchemy.engine.base.Engine SELECT participants.participant_id AS participants_participant_id, participants.athlete AS participants_athlete, participants.nationality AS participants_nationality, participants.sex AS participants_sex \n",
      "FROM participants\n",
      "2020-08-08 10:22:41,843 INFO sqlalchemy.engine.base.Engine ()\n",
      "<__main__.Participant object at 0x7fca36d04490>\n",
      "<__main__.Participant object at 0x7fca36d21450>\n",
      "<__main__.Participant object at 0x7fca36d214d0>\n",
      "<__main__.Participant object at 0x7fca36d21550>\n",
      "<__main__.Participant object at 0x7fca36d21610>\n",
      "<__main__.Participant object at 0x7fca36d21710>\n",
      "<__main__.Participant object at 0x7fca36d217d0>\n",
      "<__main__.Participant object at 0x7fca36d21890>\n",
      "<__main__.Participant object at 0x7fca36d21950>\n",
      "<__main__.Participant object at 0x7fca36d219d0>\n"
     ]
    }
   ],
   "source": [
    "for participant in session.query(Participant):\n",
    "    print(participant)"
   ]
  },
  {
   "cell_type": "markdown",
   "metadata": {},
   "source": [
    "#### Controlling the Columns in the Query"
   ]
  },
  {
   "cell_type": "code",
   "execution_count": 16,
   "metadata": {},
   "outputs": [
    {
     "name": "stdout",
     "output_type": "stream",
     "text": [
      "2020-08-08 10:22:41,849 INFO sqlalchemy.engine.base.Engine SELECT participants.athlete AS participants_athlete, participants.nationality AS participants_nationality \n",
      "FROM participants\n",
      "2020-08-08 10:22:41,850 INFO sqlalchemy.engine.base.Engine ()\n",
      "('Worknesh Degefa', 'Ethiopia')\n",
      "('Edna Kiplagat', 'Kenya')\n",
      "('Jordan Hasay', 'United States')\n",
      "('Meskerem Assefa', 'Ethiopia')\n",
      "('Desiree Linden', 'United States')\n",
      "('Caroline Rotich', 'Kenya')\n",
      "('Mary Ngugi', 'Kenya')\n",
      "('Biruktayit Eshetu', 'Ethiopia')\n",
      "('Lindsay Flanagan', 'United States')\n",
      "('Betsy Saina', 'Kenya')\n"
     ]
    }
   ],
   "source": [
    "# 객체에서 원하는 값만 따로 가져옴\n",
    "for participant in session.query(Participant.athlete, Participant.nationality).all():\n",
    "    print(participant)"
   ]
  },
  {
   "cell_type": "markdown",
   "metadata": {},
   "source": [
    "#### Ordering"
   ]
  },
  {
   "cell_type": "code",
   "execution_count": 17,
   "metadata": {},
   "outputs": [
    {
     "name": "stdout",
     "output_type": "stream",
     "text": [
      "2020-08-08 10:22:41,860 INFO sqlalchemy.engine.base.Engine SELECT participants.athlete AS participants_athlete, participants.nationality AS participants_nationality \n",
      "FROM participants ORDER BY participants.athlete DESC\n",
      "2020-08-08 10:22:41,860 INFO sqlalchemy.engine.base.Engine ()\n",
      "('Worknesh Degefa', 'Ethiopia')\n",
      "('Meskerem Assefa', 'Ethiopia')\n",
      "('Mary Ngugi', 'Kenya')\n",
      "('Lindsay Flanagan', 'United States')\n",
      "('Jordan Hasay', 'United States')\n",
      "('Edna Kiplagat', 'Kenya')\n",
      "('Desiree Linden', 'United States')\n",
      "('Caroline Rotich', 'Kenya')\n",
      "('Biruktayit Eshetu', 'Ethiopia')\n",
      "('Betsy Saina', 'Kenya')\n"
     ]
    }
   ],
   "source": [
    "from sqlalchemy import desc\n",
    "# order by (sort)\n",
    "for participant in session.query(Participant.athlete, Participant.nationality).order_by(desc(Participant.athlete)):\n",
    "    print(participant)"
   ]
  },
  {
   "cell_type": "markdown",
   "metadata": {},
   "source": [
    "#### Limiting"
   ]
  },
  {
   "cell_type": "code",
   "execution_count": 18,
   "metadata": {},
   "outputs": [
    {
     "name": "stdout",
     "output_type": "stream",
     "text": [
      "2020-08-08 10:22:41,867 INFO sqlalchemy.engine.base.Engine SELECT participants.athlete AS participants_athlete, participants.nationality AS participants_nationality \n",
      "FROM participants ORDER BY participants.athlete DESC\n",
      " LIMIT ? OFFSET ?\n",
      "2020-08-08 10:22:41,868 INFO sqlalchemy.engine.base.Engine (5, 0)\n",
      "[('Worknesh Degefa', 'Ethiopia'), ('Meskerem Assefa', 'Ethiopia'), ('Mary Ngugi', 'Kenya'), ('Lindsay Flanagan', 'United States'), ('Jordan Hasay', 'United States')]\n"
     ]
    }
   ],
   "source": [
    "# LIMIT 명령어 따로 없음 -> 리스트 인덱싱\n",
    "query = session.query(Participant.athlete, Participant.nationality).order_by(desc(Participant.athlete))[:5]\n",
    "\n",
    "print([participant for participant in query])"
   ]
  },
  {
   "cell_type": "markdown",
   "metadata": {},
   "source": [
    "#### Built-in SQL Functions and Labels"
   ]
  },
  {
   "cell_type": "code",
   "execution_count": 19,
   "metadata": {},
   "outputs": [
    {
     "name": "stdout",
     "output_type": "stream",
     "text": [
      "2020-08-08 10:22:41,874 INFO sqlalchemy.engine.base.Engine SELECT count(participants.athlete) AS count_1 \n",
      "FROM participants\n",
      "2020-08-08 10:22:41,874 INFO sqlalchemy.engine.base.Engine ()\n",
      "10\n"
     ]
    }
   ],
   "source": [
    "from sqlalchemy import func # 기본 내장함수\n",
    "\n",
    "participant_count = session.query(func.count(Participant.athlete)).scalar()\n",
    "print(participant_count)"
   ]
  },
  {
   "cell_type": "markdown",
   "metadata": {},
   "source": [
    "#### Filtering"
   ]
  },
  {
   "cell_type": "code",
   "execution_count": 20,
   "metadata": {},
   "outputs": [
    {
     "name": "stdout",
     "output_type": "stream",
     "text": [
      "2020-08-08 10:22:41,881 INFO sqlalchemy.engine.base.Engine SELECT participants.participant_id AS participants_participant_id, participants.athlete AS participants_athlete, participants.nationality AS participants_nationality, participants.sex AS participants_sex \n",
      "FROM participants \n",
      "WHERE participants.athlete = ?\n",
      " LIMIT ? OFFSET ?\n",
      "2020-08-08 10:22:41,882 INFO sqlalchemy.engine.base.Engine ('Edna Kiplagat', 1, 0)\n",
      "<__main__.Participant object at 0x7fca36d21450>\n"
     ]
    }
   ],
   "source": [
    "participant = session.query(Participant).filter(Participant.athlete == \"Edna Kiplagat\").first()\n",
    "print(participant)"
   ]
  },
  {
   "cell_type": "markdown",
   "metadata": {},
   "source": [
    "#### Operators"
   ]
  },
  {
   "cell_type": "code",
   "execution_count": 21,
   "metadata": {},
   "outputs": [
    {
     "name": "stdout",
     "output_type": "stream",
     "text": [
      "2020-08-08 10:22:41,889 INFO sqlalchemy.engine.base.Engine SELECT participants.athlete AS participants_athlete, ? || participants.nationality AS anon_1 \n",
      "FROM participants\n",
      "2020-08-08 10:22:41,890 INFO sqlalchemy.engine.base.Engine ('Nationality : ',)\n",
      "('Worknesh Degefa', 'Nationality : Ethiopia')\n",
      "('Edna Kiplagat', 'Nationality : Kenya')\n",
      "('Jordan Hasay', 'Nationality : United States')\n",
      "('Meskerem Assefa', 'Nationality : Ethiopia')\n",
      "('Desiree Linden', 'Nationality : United States')\n",
      "('Caroline Rotich', 'Nationality : Kenya')\n",
      "('Mary Ngugi', 'Nationality : Kenya')\n",
      "('Biruktayit Eshetu', 'Nationality : Ethiopia')\n",
      "('Lindsay Flanagan', 'Nationality : United States')\n",
      "('Betsy Saina', 'Nationality : Kenya')\n"
     ]
    }
   ],
   "source": [
    "results = session.query(Participant.athlete, \"Nationality : \" + Participant.nationality).all()\n",
    "\n",
    "for row in results:\n",
    "    print(row)"
   ]
  },
  {
   "cell_type": "markdown",
   "metadata": {},
   "source": [
    "#### Boolean Operators"
   ]
  },
  {
   "cell_type": "markdown",
   "metadata": {},
   "source": [
    "#### Conjunctions\n",
    "\n",
    "* and_()\n",
    "* or_()\n",
    "* not_()"
   ]
  },
  {
   "cell_type": "code",
   "execution_count": 22,
   "metadata": {},
   "outputs": [
    {
     "name": "stdout",
     "output_type": "stream",
     "text": [
      "2020-08-08 10:22:41,897 INFO sqlalchemy.engine.base.Engine SELECT participants.participant_id AS participants_participant_id, participants.athlete AS participants_athlete, participants.nationality AS participants_nationality, participants.sex AS participants_sex \n",
      "FROM participants \n",
      "WHERE participants.nationality = ? AND participants.athlete = ?\n",
      "2020-08-08 10:22:41,897 INFO sqlalchemy.engine.base.Engine ('United States', 'Jordan Hasay')\n",
      "<__main__.Participant object at 0x7fca36d214d0>\n"
     ]
    }
   ],
   "source": [
    "from sqlalchemy import and_, or_, not_ # 필터안에서 사용\n",
    "\n",
    "query = session.query(Participant).filter(\n",
    "    and_(\n",
    "        Participant.nationality == \"United States\",\n",
    "        Participant.athlete == \"Jordan Hasay\"\n",
    "    )\n",
    ")\n",
    "\n",
    "for row in query:\n",
    "    print(row)"
   ]
  },
  {
   "cell_type": "markdown",
   "metadata": {},
   "source": [
    "### Updating Data"
   ]
  },
  {
   "cell_type": "code",
   "execution_count": 23,
   "metadata": {},
   "outputs": [
    {
     "name": "stdout",
     "output_type": "stream",
     "text": [
      "2020-08-08 10:22:41,910 INFO sqlalchemy.engine.base.Engine SELECT marathons.marathon_id AS marathons_marathon_id, marathons.marathon_name AS marathons_marathon_name, marathons.venue AS marathons_venue, marathons.date AS marathons_date \n",
      "FROM marathons \n",
      "WHERE marathons.marathon_name LIKE ?\n",
      "2020-08-08 10:22:41,910 INFO sqlalchemy.engine.base.Engine ('2019%Boston',)\n",
      "2020-08-08 10:22:41,911 INFO sqlalchemy.engine.base.Engine SELECT participants.participant_id AS participants_participant_id, participants.athlete AS participants_athlete, participants.nationality AS participants_nationality, participants.sex AS participants_sex \n",
      "FROM participants\n",
      "2020-08-08 10:22:41,912 INFO sqlalchemy.engine.base.Engine ()\n",
      "2020-08-08 10:22:41,914 INFO sqlalchemy.engine.base.Engine INSERT INTO records (participant_id, marathon_id, time) VALUES (?, ?, ?)\n",
      "2020-08-08 10:22:41,914 INFO sqlalchemy.engine.base.Engine (1, 1, '00:00:00.000000')\n",
      "2020-08-08 10:22:41,915 INFO sqlalchemy.engine.base.Engine INSERT INTO records (participant_id, marathon_id, time) VALUES (?, ?, ?)\n",
      "2020-08-08 10:22:41,916 INFO sqlalchemy.engine.base.Engine (2, 1, '00:00:00.000000')\n",
      "2020-08-08 10:22:41,916 INFO sqlalchemy.engine.base.Engine INSERT INTO records (participant_id, marathon_id, time) VALUES (?, ?, ?)\n",
      "2020-08-08 10:22:41,917 INFO sqlalchemy.engine.base.Engine (3, 1, '00:00:00.000000')\n",
      "2020-08-08 10:22:41,917 INFO sqlalchemy.engine.base.Engine INSERT INTO records (participant_id, marathon_id, time) VALUES (?, ?, ?)\n",
      "2020-08-08 10:22:41,918 INFO sqlalchemy.engine.base.Engine (4, 1, '00:00:00.000000')\n",
      "2020-08-08 10:22:41,918 INFO sqlalchemy.engine.base.Engine INSERT INTO records (participant_id, marathon_id, time) VALUES (?, ?, ?)\n",
      "2020-08-08 10:22:41,919 INFO sqlalchemy.engine.base.Engine (5, 1, '00:00:00.000000')\n",
      "2020-08-08 10:22:41,920 INFO sqlalchemy.engine.base.Engine INSERT INTO records (participant_id, marathon_id, time) VALUES (?, ?, ?)\n",
      "2020-08-08 10:22:41,920 INFO sqlalchemy.engine.base.Engine (6, 1, '00:00:00.000000')\n",
      "2020-08-08 10:22:41,921 INFO sqlalchemy.engine.base.Engine INSERT INTO records (participant_id, marathon_id, time) VALUES (?, ?, ?)\n",
      "2020-08-08 10:22:41,921 INFO sqlalchemy.engine.base.Engine (7, 1, '00:00:00.000000')\n",
      "2020-08-08 10:22:41,922 INFO sqlalchemy.engine.base.Engine INSERT INTO records (participant_id, marathon_id, time) VALUES (?, ?, ?)\n",
      "2020-08-08 10:22:41,923 INFO sqlalchemy.engine.base.Engine (8, 1, '00:00:00.000000')\n",
      "2020-08-08 10:22:41,924 INFO sqlalchemy.engine.base.Engine INSERT INTO records (participant_id, marathon_id, time) VALUES (?, ?, ?)\n",
      "2020-08-08 10:22:41,924 INFO sqlalchemy.engine.base.Engine (9, 1, '00:00:00.000000')\n",
      "2020-08-08 10:22:41,925 INFO sqlalchemy.engine.base.Engine INSERT INTO records (participant_id, marathon_id, time) VALUES (?, ?, ?)\n",
      "2020-08-08 10:22:41,926 INFO sqlalchemy.engine.base.Engine (10, 1, '00:00:00.000000')\n",
      "2020-08-08 10:22:41,927 INFO sqlalchemy.engine.base.Engine COMMIT\n"
     ]
    }
   ],
   "source": [
    "query = session.query(Marathon).filter(Marathon.marathon_name.like(\"2019%Boston\")).all()\n",
    "\n",
    "for row in query:\n",
    "    print(row)\n",
    "    \n",
    "for participant in session.query(Participant):\n",
    "    record = Record(participant_id = participant.participant_id,\n",
    "                    marathon_id = 1\n",
    "                   )\n",
    "    session.add(record)\n",
    "session.commit()"
   ]
  },
  {
   "cell_type": "code",
   "execution_count": 24,
   "metadata": {},
   "outputs": [
    {
     "name": "stdout",
     "output_type": "stream",
     "text": [
      "2020-08-08 10:22:41,935 INFO sqlalchemy.engine.base.Engine BEGIN (implicit)\n",
      "2020-08-08 10:22:41,936 INFO sqlalchemy.engine.base.Engine SELECT records.id AS records_id, records.participant_id AS records_participant_id, records.marathon_id AS records_marathon_id, records.time AS records_time \n",
      "FROM records \n",
      "WHERE records.participant_id = ?\n",
      " LIMIT ? OFFSET ?\n",
      "2020-08-08 10:22:41,937 INFO sqlalchemy.engine.base.Engine (1, 1, 0)\n",
      "2020-08-08 10:22:41,939 INFO sqlalchemy.engine.base.Engine UPDATE records SET time=? WHERE records.id = ?\n",
      "2020-08-08 10:22:41,939 INFO sqlalchemy.engine.base.Engine ('02:23:31.000000', 1)\n",
      "2020-08-08 10:22:41,940 INFO sqlalchemy.engine.base.Engine COMMIT\n",
      "2020-08-08 10:22:41,942 INFO sqlalchemy.engine.base.Engine BEGIN (implicit)\n",
      "2020-08-08 10:22:41,943 INFO sqlalchemy.engine.base.Engine SELECT records.id AS records_id, records.participant_id AS records_participant_id, records.marathon_id AS records_marathon_id, records.time AS records_time \n",
      "FROM records \n",
      "WHERE records.id = ?\n",
      "2020-08-08 10:22:41,943 INFO sqlalchemy.engine.base.Engine (1,)\n",
      "02:23:31\n"
     ]
    }
   ],
   "source": [
    "query = session.query(Record)\n",
    "query = query.filter(Record.participant_id == 1)\n",
    "record = query.first()\n",
    "record.time = datetime.time(2, 23, 31)\n",
    "session.commit()\n",
    "print(record.time)"
   ]
  },
  {
   "cell_type": "markdown",
   "metadata": {},
   "source": [
    "### Deleting Data"
   ]
  },
  {
   "cell_type": "code",
   "execution_count": 25,
   "metadata": {},
   "outputs": [
    {
     "name": "stdout",
     "output_type": "stream",
     "text": [
      "2020-08-08 10:22:41,950 INFO sqlalchemy.engine.base.Engine SELECT records.id AS records_id, records.participant_id AS records_participant_id, records.marathon_id AS records_marathon_id, records.time AS records_time \n",
      "FROM records \n",
      "WHERE records.participant_id = ?\n",
      " LIMIT ? OFFSET ?\n",
      "2020-08-08 10:22:41,951 INFO sqlalchemy.engine.base.Engine (1, 1, 0)\n",
      "2020-08-08 10:22:41,953 INFO sqlalchemy.engine.base.Engine DELETE FROM records WHERE records.id = ?\n",
      "2020-08-08 10:22:41,954 INFO sqlalchemy.engine.base.Engine (1,)\n",
      "2020-08-08 10:22:41,955 INFO sqlalchemy.engine.base.Engine COMMIT\n",
      "2020-08-08 10:22:41,956 INFO sqlalchemy.engine.base.Engine BEGIN (implicit)\n",
      "2020-08-08 10:22:41,957 INFO sqlalchemy.engine.base.Engine SELECT records.id AS records_id, records.participant_id AS records_participant_id, records.marathon_id AS records_marathon_id, records.time AS records_time \n",
      "FROM records \n",
      "WHERE records.participant_id = ?\n",
      " LIMIT ? OFFSET ?\n",
      "2020-08-08 10:22:41,958 INFO sqlalchemy.engine.base.Engine (1, 1, 0)\n",
      "None\n"
     ]
    }
   ],
   "source": [
    "query = session.query(Record)\n",
    "query = query.filter(Record.participant_id == 1)\n",
    "record = query.first()\n",
    "session.delete(record)\n",
    "session.commit()\n",
    "record = query.first()\n",
    "print(record)"
   ]
  },
  {
   "cell_type": "code",
   "execution_count": 26,
   "metadata": {},
   "outputs": [
    {
     "name": "stdout",
     "output_type": "stream",
     "text": [
      "2020-08-08 10:22:41,964 INFO sqlalchemy.engine.base.Engine DELETE FROM records WHERE records.participant_id = ?\n",
      "2020-08-08 10:22:41,965 INFO sqlalchemy.engine.base.Engine (2,)\n",
      "2020-08-08 10:22:41,966 INFO sqlalchemy.engine.base.Engine COMMIT\n",
      "2020-08-08 10:22:41,968 INFO sqlalchemy.engine.base.Engine BEGIN (implicit)\n",
      "2020-08-08 10:22:41,970 INFO sqlalchemy.engine.base.Engine SELECT records.id AS records_id, records.participant_id AS records_participant_id, records.marathon_id AS records_marathon_id, records.time AS records_time \n",
      "FROM records \n",
      "WHERE records.participant_id = ?\n",
      " LIMIT ? OFFSET ?\n",
      "2020-08-08 10:22:41,970 INFO sqlalchemy.engine.base.Engine (2, 1, 0)\n"
     ]
    }
   ],
   "source": [
    "query = session.query(Record)\n",
    "query = query.filter(Record.participant_id == 2)\n",
    "query.delete()\n",
    "session.commit()\n",
    "record = query.first()"
   ]
  },
  {
   "cell_type": "markdown",
   "metadata": {},
   "source": [
    "### Joins"
   ]
  },
  {
   "cell_type": "code",
   "execution_count": 27,
   "metadata": {},
   "outputs": [
    {
     "name": "stdout",
     "output_type": "stream",
     "text": [
      "2020-08-08 10:22:41,977 INFO sqlalchemy.engine.base.Engine SELECT participants.athlete AS participants_athlete, records.time AS records_time \n",
      "FROM participants JOIN records ON participants.participant_id = records.participant_id\n",
      "2020-08-08 10:22:41,978 INFO sqlalchemy.engine.base.Engine ()\n",
      "('Jordan Hasay', datetime.time(0, 0))\n",
      "('Meskerem Assefa', datetime.time(0, 0))\n",
      "('Desiree Linden', datetime.time(0, 0))\n",
      "('Caroline Rotich', datetime.time(0, 0))\n",
      "('Mary Ngugi', datetime.time(0, 0))\n",
      "('Biruktayit Eshetu', datetime.time(0, 0))\n",
      "('Lindsay Flanagan', datetime.time(0, 0))\n",
      "('Betsy Saina', datetime.time(0, 0))\n"
     ]
    }
   ],
   "source": [
    "query = session.query(Participant.athlete, Record.time)\n",
    "query = query.join(Record)\n",
    "results = query.all()\n",
    "\n",
    "for row in results:\n",
    "    print(row)"
   ]
  },
  {
   "cell_type": "code",
   "execution_count": 28,
   "metadata": {},
   "outputs": [
    {
     "name": "stdout",
     "output_type": "stream",
     "text": [
      "2020-08-08 10:22:41,987 INFO sqlalchemy.engine.base.Engine SELECT records.time AS records_time, marathons.marathon_name AS marathons_marathon_name, participants.athlete AS participants_athlete \n",
      "FROM records JOIN marathons ON marathons.marathon_id = records.marathon_id JOIN participants ON participants.participant_id = records.participant_id\n",
      "2020-08-08 10:22:41,988 INFO sqlalchemy.engine.base.Engine ()\n",
      "(datetime.time(0, 0), '2019 Boston Marathon', 'Jordan Hasay')\n",
      "(datetime.time(0, 0), '2019 Boston Marathon', 'Meskerem Assefa')\n",
      "(datetime.time(0, 0), '2019 Boston Marathon', 'Desiree Linden')\n",
      "(datetime.time(0, 0), '2019 Boston Marathon', 'Caroline Rotich')\n",
      "(datetime.time(0, 0), '2019 Boston Marathon', 'Mary Ngugi')\n",
      "(datetime.time(0, 0), '2019 Boston Marathon', 'Biruktayit Eshetu')\n",
      "(datetime.time(0, 0), '2019 Boston Marathon', 'Lindsay Flanagan')\n",
      "(datetime.time(0, 0), '2019 Boston Marathon', 'Betsy Saina')\n"
     ]
    }
   ],
   "source": [
    "query = session.query(Record.time, Marathon.marathon_name, Participant.athlete)\n",
    "query = query.join(Marathon).join(Participant)\n",
    "results = query.all()\n",
    "\n",
    "for row in results:\n",
    "    print(row)"
   ]
  },
  {
   "cell_type": "markdown",
   "metadata": {},
   "source": [
    "### Grouping"
   ]
  },
  {
   "cell_type": "code",
   "execution_count": 29,
   "metadata": {},
   "outputs": [
    {
     "name": "stdout",
     "output_type": "stream",
     "text": [
      "2020-08-08 10:22:41,996 INFO sqlalchemy.engine.base.Engine SELECT participants.nationality AS participants_nationality, count(participants.athlete) AS count_1 \n",
      "FROM participants GROUP BY participants.nationality\n",
      "2020-08-08 10:22:41,997 INFO sqlalchemy.engine.base.Engine ()\n",
      "('Ethiopia', 3)\n",
      "('Kenya', 4)\n",
      "('United States', 3)\n"
     ]
    }
   ],
   "source": [
    "from sqlalchemy import func \n",
    "\n",
    "query = session.query(Participant.nationality, func.count(Participant.athlete))\n",
    "results = query.group_by(Participant.nationality)\n",
    "for row in results:\n",
    "    print(row)"
   ]
  },
  {
   "cell_type": "markdown",
   "metadata": {},
   "source": [
    "### Chaining"
   ]
  },
  {
   "cell_type": "code",
   "execution_count": null,
   "metadata": {},
   "outputs": [],
   "source": []
  },
  {
   "cell_type": "markdown",
   "metadata": {},
   "source": [
    "### Row Queries"
   ]
  },
  {
   "cell_type": "code",
   "execution_count": 30,
   "metadata": {},
   "outputs": [
    {
     "name": "stdout",
     "output_type": "stream",
     "text": [
      "2020-08-08 10:22:42,005 INFO sqlalchemy.engine.base.Engine SELECT participants.participant_id AS participants_participant_id, participants.athlete AS participants_athlete, participants.nationality AS participants_nationality, participants.sex AS participants_sex \n",
      "FROM participants \n",
      "WHERE athlete like '%Ngugi%'\n",
      "2020-08-08 10:22:42,006 INFO sqlalchemy.engine.base.Engine ()\n",
      "[<__main__.Participant object at 0x7fca36d217d0>]\n"
     ]
    }
   ],
   "source": [
    "from sqlalchemy import text\n",
    "# 조건절을 따로 SQL statement로 실행가능\n",
    "query = session.query(Participant).filter(text(\"athlete like '%Ngugi%'\"))\n",
    "print(query.all())"
   ]
  },
  {
   "cell_type": "code",
   "execution_count": null,
   "metadata": {},
   "outputs": [],
   "source": []
  }
 ],
 "metadata": {
  "kernelspec": {
   "display_name": "Python 3",
   "language": "python",
   "name": "python3"
  },
  "language_info": {
   "codemirror_mode": {
    "name": "ipython",
    "version": 3
   },
   "file_extension": ".py",
   "mimetype": "text/x-python",
   "name": "python",
   "nbconvert_exporter": "python",
   "pygments_lexer": "ipython3",
   "version": "3.7.6"
  }
 },
 "nbformat": 4,
 "nbformat_minor": 2
}
